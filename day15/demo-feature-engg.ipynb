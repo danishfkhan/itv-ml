{
 "cells": [
  {
   "cell_type": "markdown",
   "metadata": {},
   "source": [
    "# Feature Engineering Tips and Tricks\n",
    "\n",
    "A feature is a numeric representation of an aspect of raw data. Features sit between data and models in the machine learning pipeline. Feature engineering is the act of extracting features from raw data and transforming them into formats that are suitable for the machine learning model. It is a crucial step in the machine learning pipeline, because the right features can ease the difficulty of modeling, and therefore enable the pipeline to output results of higher quality."
   ]
  },
  {
   "cell_type": "markdown",
   "metadata": {},
   "source": [
    "### Binning"
   ]
  },
  {
   "cell_type": "code",
   "execution_count": 4,
   "metadata": {},
   "outputs": [],
   "source": [
    "import numpy as np\n",
    "import pandas as pd\n",
    "import json"
   ]
  },
  {
   "cell_type": "code",
   "execution_count": 2,
   "metadata": {},
   "outputs": [],
   "source": [
    "def load_json_df(filename, num_bytes = -1):\n",
    "    '''Load the first `num_bytes` of the filename as a json blob, convert each line into a row in a Pandas data frame.'''\n",
    "    fs = open(filename)\n",
    "    df = pd.DataFrame([json.loads(x) for x in fs.readlines(num_bytes)])\n",
    "    fs.close()\n",
    "    return df"
   ]
  },
  {
   "cell_type": "code",
   "execution_count": 5,
   "metadata": {},
   "outputs": [],
   "source": [
    "biz_df = load_json_df('../datasets/yelp_academic_dataset_business.json')"
   ]
  },
  {
   "cell_type": "code",
   "execution_count": 7,
   "metadata": {},
   "outputs": [
    {
     "data": {
      "text/html": [
       "<div>\n",
       "<style scoped>\n",
       "    .dataframe tbody tr th:only-of-type {\n",
       "        vertical-align: middle;\n",
       "    }\n",
       "\n",
       "    .dataframe tbody tr th {\n",
       "        vertical-align: top;\n",
       "    }\n",
       "\n",
       "    .dataframe thead th {\n",
       "        text-align: right;\n",
       "    }\n",
       "</style>\n",
       "<table border=\"1\" class=\"dataframe\">\n",
       "  <thead>\n",
       "    <tr style=\"text-align: right;\">\n",
       "      <th></th>\n",
       "      <th>business_id</th>\n",
       "      <th>categories</th>\n",
       "      <th>city</th>\n",
       "      <th>full_address</th>\n",
       "      <th>latitude</th>\n",
       "      <th>longitude</th>\n",
       "      <th>name</th>\n",
       "      <th>neighborhoods</th>\n",
       "      <th>open</th>\n",
       "      <th>review_count</th>\n",
       "      <th>stars</th>\n",
       "      <th>state</th>\n",
       "      <th>type</th>\n",
       "    </tr>\n",
       "  </thead>\n",
       "  <tbody>\n",
       "    <tr>\n",
       "      <th>0</th>\n",
       "      <td>rncjoVoEFUJGCUoC1JgnUA</td>\n",
       "      <td>[Accountants, Professional Services, Tax Servi...</td>\n",
       "      <td>Peoria</td>\n",
       "      <td>8466 W Peoria Ave\\nSte 6\\nPeoria, AZ 85345</td>\n",
       "      <td>33.581867</td>\n",
       "      <td>-112.241596</td>\n",
       "      <td>Peoria Income Tax Service</td>\n",
       "      <td>[]</td>\n",
       "      <td>True</td>\n",
       "      <td>3</td>\n",
       "      <td>5.0</td>\n",
       "      <td>AZ</td>\n",
       "      <td>business</td>\n",
       "    </tr>\n",
       "  </tbody>\n",
       "</table>\n",
       "</div>"
      ],
      "text/plain": [
       "              business_id                                         categories  \\\n",
       "0  rncjoVoEFUJGCUoC1JgnUA  [Accountants, Professional Services, Tax Servi...   \n",
       "\n",
       "     city                                full_address   latitude   longitude  \\\n",
       "0  Peoria  8466 W Peoria Ave\\nSte 6\\nPeoria, AZ 85345  33.581867 -112.241596   \n",
       "\n",
       "                        name neighborhoods  open  review_count  stars state  \\\n",
       "0  Peoria Income Tax Service            []  True             3    5.0    AZ   \n",
       "\n",
       "       type  \n",
       "0  business  "
      ]
     },
     "execution_count": 7,
     "metadata": {},
     "output_type": "execute_result"
    }
   ],
   "source": [
    "biz_df.head(1)"
   ]
  },
  {
   "cell_type": "code",
   "execution_count": 8,
   "metadata": {},
   "outputs": [
    {
     "data": {
      "text/plain": [
       "Text(0, 0.5, 'Occurrence')"
      ]
     },
     "execution_count": 8,
     "metadata": {},
     "output_type": "execute_result"
    },
    {
     "data": {
      "image/png": "[encoded data removed]",
      "text/plain": [
       "<Figure size 432x288 with 1 Axes>"
      ]
     },
     "metadata": {},
     "output_type": "display_data"
    }
   ],
   "source": [
    "import matplotlib.pyplot as plt\n",
    "import seaborn as sns\n",
    "\n",
    "%matplotlib inline\n",
    "\n",
    "# Plot the histogram of the review counts\n",
    "sns.set_style('whitegrid')\n",
    "fig, ax = plt.subplots()\n",
    "biz_df['review_count'].hist(ax=ax, bins=100)\n",
    "ax.set_yscale('log')\n",
    "ax.tick_params(labelsize=14)\n",
    "ax.set_xlabel('Review Count', fontsize=14)\n",
    "ax.set_ylabel('Occurrence', fontsize=14)"
   ]
  },
  {
   "cell_type": "markdown",
   "metadata": {},
   "source": [
    "### Fixed width binning"
   ]
  },
  {
   "cell_type": "code",
   "execution_count": 9,
   "metadata": {},
   "outputs": [
    {
     "name": "stdout",
     "output_type": "stream",
     "text": [
      "[26 32 19 69 25 97 50 42 45 52 59 89 12 72 26 89 52 78 70 91]\n"
     ]
    },
    {
     "data": {
      "text/plain": [
       "array([2, 3, 1, 6, 2, 9, 5, 4, 4, 5, 5, 8, 1, 7, 2, 8, 5, 7, 7, 9])"
      ]
     },
     "execution_count": 9,
     "metadata": {},
     "output_type": "execute_result"
    }
   ],
   "source": [
    "# Generate 20 random integers uniformly between 0 and 99\n",
    "small_counts = np.random.randint(0, 100, 20)\n",
    "print(small_counts)\n",
    "# Map to evenly spaced bins 0-9 by division\n",
    "np.floor_divide(small_counts, 10)"
   ]
  },
  {
   "cell_type": "code",
   "execution_count": 10,
   "metadata": {},
   "outputs": [
    {
     "data": {
      "text/plain": [
       "array([2., 3., 4., 1., 0., 2., 2., 3., 3., 4., 4., 1., 1., 3., 2., 2., 4.])"
      ]
     },
     "execution_count": 10,
     "metadata": {},
     "output_type": "execute_result"
    }
   ],
   "source": [
    "# An array of counts that span several magnitudes\n",
    "large_counts = [296, 8286, 64011, 80, 3, 725, 867, 2215, 7689, 11495, 91897, 44, 28, 7971, 926, 122, 22222]\n",
    "\n",
    "# Map to exponential-width bins via the log function\n",
    "np.floor(np.log10(large_counts))"
   ]
  },
  {
   "cell_type": "markdown",
   "metadata": {},
   "source": [
    "### Quantile binning\n",
    "\n",
    "Fixed-width binning is easy to compute. But if there are large gaps in the counts, then there will be many empty bins with no data. This problem can be solved by adaptively positioning the bins based on the distribution of the data. This can be done using the quantiles of the distribution.\n",
    "Quantiles are values that divide the data into equal portions. For example, the median divides the data in halves; half the data points are smaller and half larger than the median."
   ]
  },
  {
   "cell_type": "code",
   "execution_count": 11,
   "metadata": {},
   "outputs": [
    {
     "data": {
      "text/plain": [
       "Text(0, 0.5, 'Occurrence')"
      ]
     },
     "execution_count": 11,
     "metadata": {},
     "output_type": "execute_result"
    },
    {
     "data": {
      "image/png": "[encoded data removed]",
      "text/plain": [
       "<Figure size 432x288 with 1 Axes>"
      ]
     },
     "metadata": {},
     "output_type": "display_data"
    }
   ],
   "source": [
    "deciles = biz_df['review_count'].quantile([.1, .2, .3, .4, .5, .6, .7, .8, .9])\n",
    "\n",
    "# Visualize the deciles on the histogram\n",
    "sns.set_style('whitegrid')\n",
    "fig, ax = plt.subplots()\n",
    "biz_df['review_count'].hist(ax=ax, bins=100)\n",
    "for pos in deciles:\n",
    "    handle = plt.axvline(pos, color='r')\n",
    "ax.legend([handle], ['deciles'], fontsize=14)\n",
    "ax.set_yscale('log')\n",
    "ax.set_xscale('log')\n",
    "ax.tick_params(labelsize=14)\n",
    "ax.set_xlabel('Review Count', fontsize=14)\n",
    "ax.set_ylabel('Occurrence', fontsize=14)"
   ]
  },
  {
   "cell_type": "markdown",
   "metadata": {},
   "source": [
    "### Log Transformation\n",
    "\n",
    "The log transform is a powerful tool for dealing with positive numbers with a heavy-tailed distribution. (A heavy-tailed distribution places more probability mass in the tail range than a Gaussian distribution.) It compresses the long tail in the high end of the distribution into a shorter tail, and expands the low end into a longer head.\n"
   ]
  },
  {
   "cell_type": "code",
   "execution_count": 13,
   "metadata": {},
   "outputs": [
    {
     "data": {
      "text/plain": [
       "Text(0, 0.5, 'Occurrence')"
      ]
     },
     "execution_count": 13,
     "metadata": {},
     "output_type": "execute_result"
    },
    {
     "data": {
      "image/png": "[encoded data removed]",
      "text/plain": [
       "<Figure size 432x288 with 2 Axes>"
      ]
     },
     "metadata": {},
     "output_type": "display_data"
    }
   ],
   "source": [
    "fig, (ax1, ax2) = plt.subplots(2,1)\n",
    "biz_df['review_count'].hist(ax=ax1, bins=100)\n",
    "ax1.tick_params(labelsize=14)\n",
    "ax1.set_xlabel('review_count', fontsize=14)\n",
    "ax1.set_ylabel('Occurrence', fontsize=14)\n",
    "\n",
    "biz_df['log_review_count'] = np.log10(biz_df['review_count'])\n",
    "biz_df['log_review_count'].hist(ax=ax2, bins=100)\n",
    "ax2.tick_params(labelsize=14)\n",
    "ax2.set_xlabel('log10(review_count))', fontsize=14)\n",
    "ax2.set_ylabel('Occurrence', fontsize=14)"
   ]
  },
  {
   "cell_type": "code",
   "execution_count": 21,
   "metadata": {},
   "outputs": [
    {
     "name": "stdout",
     "output_type": "stream",
     "text": [
      "-0.5631160899391674\n"
     ]
    },
    {
     "data": {
      "text/plain": [
       "Text(0.5, 1.0, 'Probplot after Box-Cox transform')"
      ]
     },
     "execution_count": 21,
     "metadata": {},
     "output_type": "execute_result"
    },
    {
     "data": {
      "image/png": "[encoded data removed]",
      "text/plain": [
       "<Figure size 432x288 with 3 Axes>"
      ]
     },
     "metadata": {},
     "output_type": "display_data"
    }
   ],
   "source": [
    "from scipy import stats\n",
    "\n",
    "# By default, the scipy implementation of Box-Cox transform finds the lambda\n",
    "# parameter that will make the output the closest to a normal distribution\n",
    "rc_bc, bc_params = stats.boxcox(biz_df['review_count'])\n",
    "print(bc_params)\n",
    "# -0.5631160899391674\n",
    "biz_df['rc_bc'] = stats.boxcox(biz_df['review_count'], lmbda = bc_params)\n",
    "\n",
    "fig2, (ax1, ax2, ax3) = plt.subplots(3,1)\n",
    "prob1 = stats.probplot(biz_df['review_count'], dist=stats.norm, plot=ax1)\n",
    "ax1.set_xlabel('')\n",
    "ax1.set_title('Probplot against normal distribution')\n",
    "prob2 = stats.probplot(biz_df['log_review_count'], dist=stats.norm, plot=ax2)\n",
    "ax2.set_xlabel('')\n",
    "ax2.set_title('Probplot after log transform')\n",
    "prob3 = stats.probplot(biz_df['rc_bc'], dist=stats.norm, plot=ax3)\n",
    "ax3.set_xlabel('Theoretical quantiles')\n",
    "ax3.set_title('Probplot after Box-Cox transform')"
   ]
  },
  {
   "cell_type": "markdown",
   "metadata": {},
   "source": [
    "### Power Transforms: Generalization of the Log Transform\n",
    "\n",
    "![Fig](imgs/img_001.png)"
   ]
  },
  {
   "cell_type": "markdown",
   "metadata": {},
   "source": [
    "The Box-Cox formulation only works when the data is positive. For nonpositive data, one could shift the values by adding a fixed constant. When applying the Box-Cox transformation or a more general power transform, we have to determine a value for the parameter λ. This may be done via maximum likelihood (finding the λ that maximizes the Gaussian likelihood of the resulting transformed signal) or Bayesian methods."
   ]
  },
  {
   "cell_type": "markdown",
   "metadata": {},
   "source": [
    "### Feature Interaction"
   ]
  },
  {
   "cell_type": "code",
   "execution_count": 22,
   "metadata": {},
   "outputs": [
    {
     "name": "stderr",
     "output_type": "stream",
     "text": [
      "/home/watts/anaconda3/envs/itv/lib/python3.6/site-packages/ipykernel_launcher.py:1: ParserWarning: Falling back to the 'python' engine because the 'c' engine does not support regex separators (separators > 1 char and different from '\\s+' are interpreted as regex); you can avoid this warning by specifying engine='python'.\n",
      "  \"\"\"Entry point for launching an IPython kernel.\n"
     ]
    }
   ],
   "source": [
    "df = pd.read_csv('../datasets/OnlineNewsPopularity/OnlineNewsPopularity.csv', delimiter=', ')"
   ]
  },
  {
   "cell_type": "code",
   "execution_count": 23,
   "metadata": {},
   "outputs": [
    {
     "data": {
      "text/plain": [
       "Index(['url', 'timedelta', 'n_tokens_title', 'n_tokens_content',\n",
       "       'n_unique_tokens', 'n_non_stop_words', 'n_non_stop_unique_tokens',\n",
       "       'num_hrefs', 'num_self_hrefs', 'num_imgs', 'num_videos',\n",
       "       'average_token_length', 'num_keywords', 'data_channel_is_lifestyle',\n",
       "       'data_channel_is_entertainment', 'data_channel_is_bus',\n",
       "       'data_channel_is_socmed', 'data_channel_is_tech',\n",
       "       'data_channel_is_world', 'kw_min_min', 'kw_max_min', 'kw_avg_min',\n",
       "       'kw_min_max', 'kw_max_max', 'kw_avg_max', 'kw_min_avg', 'kw_max_avg',\n",
       "       'kw_avg_avg', 'self_reference_min_shares', 'self_reference_max_shares',\n",
       "       'self_reference_avg_sharess', 'weekday_is_monday', 'weekday_is_tuesday',\n",
       "       'weekday_is_wednesday', 'weekday_is_thursday', 'weekday_is_friday',\n",
       "       'weekday_is_saturday', 'weekday_is_sunday', 'is_weekend', 'LDA_00',\n",
       "       'LDA_01', 'LDA_02', 'LDA_03', 'LDA_04', 'global_subjectivity',\n",
       "       'global_sentiment_polarity', 'global_rate_positive_words',\n",
       "       'global_rate_negative_words', 'rate_positive_words',\n",
       "       'rate_negative_words', 'avg_positive_polarity', 'min_positive_polarity',\n",
       "       'max_positive_polarity', 'avg_negative_polarity',\n",
       "       'min_negative_polarity', 'max_negative_polarity', 'title_subjectivity',\n",
       "       'title_sentiment_polarity', 'abs_title_subjectivity',\n",
       "       'abs_title_sentiment_polarity', 'shares'],\n",
       "      dtype='object')"
      ]
     },
     "execution_count": 23,
     "metadata": {},
     "output_type": "execute_result"
    }
   ],
   "source": [
    "df.columns"
   ]
  },
  {
   "cell_type": "code",
   "execution_count": 25,
   "metadata": {},
   "outputs": [
    {
     "data": {
      "text/html": [
       "<div>\n",
       "<style scoped>\n",
       "    .dataframe tbody tr th:only-of-type {\n",
       "        vertical-align: middle;\n",
       "    }\n",
       "\n",
       "    .dataframe tbody tr th {\n",
       "        vertical-align: top;\n",
       "    }\n",
       "\n",
       "    .dataframe thead th {\n",
       "        text-align: right;\n",
       "    }\n",
       "</style>\n",
       "<table border=\"1\" class=\"dataframe\">\n",
       "  <thead>\n",
       "    <tr style=\"text-align: right;\">\n",
       "      <th></th>\n",
       "      <th>url</th>\n",
       "      <th>timedelta</th>\n",
       "      <th>n_tokens_title</th>\n",
       "      <th>n_tokens_content</th>\n",
       "      <th>n_unique_tokens</th>\n",
       "      <th>n_non_stop_words</th>\n",
       "      <th>n_non_stop_unique_tokens</th>\n",
       "      <th>num_hrefs</th>\n",
       "      <th>num_self_hrefs</th>\n",
       "      <th>num_imgs</th>\n",
       "      <th>...</th>\n",
       "      <th>min_positive_polarity</th>\n",
       "      <th>max_positive_polarity</th>\n",
       "      <th>avg_negative_polarity</th>\n",
       "      <th>min_negative_polarity</th>\n",
       "      <th>max_negative_polarity</th>\n",
       "      <th>title_subjectivity</th>\n",
       "      <th>title_sentiment_polarity</th>\n",
       "      <th>abs_title_subjectivity</th>\n",
       "      <th>abs_title_sentiment_polarity</th>\n",
       "      <th>shares</th>\n",
       "    </tr>\n",
       "  </thead>\n",
       "  <tbody>\n",
       "    <tr>\n",
       "      <th>0</th>\n",
       "      <td>http://mashable.com/2013/01/07/amazon-instant-...</td>\n",
       "      <td>731.0</td>\n",
       "      <td>12.0</td>\n",
       "      <td>219.0</td>\n",
       "      <td>0.663594</td>\n",
       "      <td>1.0</td>\n",
       "      <td>0.815385</td>\n",
       "      <td>4.0</td>\n",
       "      <td>2.0</td>\n",
       "      <td>1.0</td>\n",
       "      <td>...</td>\n",
       "      <td>0.100000</td>\n",
       "      <td>0.7</td>\n",
       "      <td>-0.350000</td>\n",
       "      <td>-0.600</td>\n",
       "      <td>-0.200000</td>\n",
       "      <td>0.500000</td>\n",
       "      <td>-0.187500</td>\n",
       "      <td>0.000000</td>\n",
       "      <td>0.187500</td>\n",
       "      <td>593</td>\n",
       "    </tr>\n",
       "    <tr>\n",
       "      <th>1</th>\n",
       "      <td>http://mashable.com/2013/01/07/ap-samsung-spon...</td>\n",
       "      <td>731.0</td>\n",
       "      <td>9.0</td>\n",
       "      <td>255.0</td>\n",
       "      <td>0.604743</td>\n",
       "      <td>1.0</td>\n",
       "      <td>0.791946</td>\n",
       "      <td>3.0</td>\n",
       "      <td>1.0</td>\n",
       "      <td>1.0</td>\n",
       "      <td>...</td>\n",
       "      <td>0.033333</td>\n",
       "      <td>0.7</td>\n",
       "      <td>-0.118750</td>\n",
       "      <td>-0.125</td>\n",
       "      <td>-0.100000</td>\n",
       "      <td>0.000000</td>\n",
       "      <td>0.000000</td>\n",
       "      <td>0.500000</td>\n",
       "      <td>0.000000</td>\n",
       "      <td>711</td>\n",
       "    </tr>\n",
       "    <tr>\n",
       "      <th>2</th>\n",
       "      <td>http://mashable.com/2013/01/07/apple-40-billio...</td>\n",
       "      <td>731.0</td>\n",
       "      <td>9.0</td>\n",
       "      <td>211.0</td>\n",
       "      <td>0.575130</td>\n",
       "      <td>1.0</td>\n",
       "      <td>0.663866</td>\n",
       "      <td>3.0</td>\n",
       "      <td>1.0</td>\n",
       "      <td>1.0</td>\n",
       "      <td>...</td>\n",
       "      <td>0.100000</td>\n",
       "      <td>1.0</td>\n",
       "      <td>-0.466667</td>\n",
       "      <td>-0.800</td>\n",
       "      <td>-0.133333</td>\n",
       "      <td>0.000000</td>\n",
       "      <td>0.000000</td>\n",
       "      <td>0.500000</td>\n",
       "      <td>0.000000</td>\n",
       "      <td>1500</td>\n",
       "    </tr>\n",
       "    <tr>\n",
       "      <th>3</th>\n",
       "      <td>http://mashable.com/2013/01/07/astronaut-notre...</td>\n",
       "      <td>731.0</td>\n",
       "      <td>9.0</td>\n",
       "      <td>531.0</td>\n",
       "      <td>0.503788</td>\n",
       "      <td>1.0</td>\n",
       "      <td>0.665635</td>\n",
       "      <td>9.0</td>\n",
       "      <td>0.0</td>\n",
       "      <td>1.0</td>\n",
       "      <td>...</td>\n",
       "      <td>0.136364</td>\n",
       "      <td>0.8</td>\n",
       "      <td>-0.369697</td>\n",
       "      <td>-0.600</td>\n",
       "      <td>-0.166667</td>\n",
       "      <td>0.000000</td>\n",
       "      <td>0.000000</td>\n",
       "      <td>0.500000</td>\n",
       "      <td>0.000000</td>\n",
       "      <td>1200</td>\n",
       "    </tr>\n",
       "    <tr>\n",
       "      <th>4</th>\n",
       "      <td>http://mashable.com/2013/01/07/att-u-verse-apps/</td>\n",
       "      <td>731.0</td>\n",
       "      <td>13.0</td>\n",
       "      <td>1072.0</td>\n",
       "      <td>0.415646</td>\n",
       "      <td>1.0</td>\n",
       "      <td>0.540890</td>\n",
       "      <td>19.0</td>\n",
       "      <td>19.0</td>\n",
       "      <td>20.0</td>\n",
       "      <td>...</td>\n",
       "      <td>0.033333</td>\n",
       "      <td>1.0</td>\n",
       "      <td>-0.220192</td>\n",
       "      <td>-0.500</td>\n",
       "      <td>-0.050000</td>\n",
       "      <td>0.454545</td>\n",
       "      <td>0.136364</td>\n",
       "      <td>0.045455</td>\n",
       "      <td>0.136364</td>\n",
       "      <td>505</td>\n",
       "    </tr>\n",
       "  </tbody>\n",
       "</table>\n",
       "<p>5 rows × 61 columns</p>\n",
       "</div>"
      ],
      "text/plain": [
       "                                                 url  timedelta  \\\n",
       "0  http://mashable.com/2013/01/07/amazon-instant-...      731.0   \n",
       "1  http://mashable.com/2013/01/07/ap-samsung-spon...      731.0   \n",
       "2  http://mashable.com/2013/01/07/apple-40-billio...      731.0   \n",
       "3  http://mashable.com/2013/01/07/astronaut-notre...      731.0   \n",
       "4   http://mashable.com/2013/01/07/att-u-verse-apps/      731.0   \n",
       "\n",
       "   n_tokens_title  n_tokens_content  n_unique_tokens  n_non_stop_words  \\\n",
       "0            12.0             219.0         0.663594               1.0   \n",
       "1             9.0             255.0         0.604743               1.0   \n",
       "2             9.0             211.0         0.575130               1.0   \n",
       "3             9.0             531.0         0.503788               1.0   \n",
       "4            13.0            1072.0         0.415646               1.0   \n",
       "\n",
       "   n_non_stop_unique_tokens  num_hrefs  num_self_hrefs  num_imgs   ...    \\\n",
       "0                  0.815385        4.0             2.0       1.0   ...     \n",
       "1                  0.791946        3.0             1.0       1.0   ...     \n",
       "2                  0.663866        3.0             1.0       1.0   ...     \n",
       "3                  0.665635        9.0             0.0       1.0   ...     \n",
       "4                  0.540890       19.0            19.0      20.0   ...     \n",
       "\n",
       "   min_positive_polarity  max_positive_polarity  avg_negative_polarity  \\\n",
       "0               0.100000                    0.7              -0.350000   \n",
       "1               0.033333                    0.7              -0.118750   \n",
       "2               0.100000                    1.0              -0.466667   \n",
       "3               0.136364                    0.8              -0.369697   \n",
       "4               0.033333                    1.0              -0.220192   \n",
       "\n",
       "   min_negative_polarity  max_negative_polarity  title_subjectivity  \\\n",
       "0                 -0.600              -0.200000            0.500000   \n",
       "1                 -0.125              -0.100000            0.000000   \n",
       "2                 -0.800              -0.133333            0.000000   \n",
       "3                 -0.600              -0.166667            0.000000   \n",
       "4                 -0.500              -0.050000            0.454545   \n",
       "\n",
       "   title_sentiment_polarity  abs_title_subjectivity  \\\n",
       "0                 -0.187500                0.000000   \n",
       "1                  0.000000                0.500000   \n",
       "2                  0.000000                0.500000   \n",
       "3                  0.000000                0.500000   \n",
       "4                  0.136364                0.045455   \n",
       "\n",
       "   abs_title_sentiment_polarity  shares  \n",
       "0                      0.187500     593  \n",
       "1                      0.000000     711  \n",
       "2                      0.000000    1500  \n",
       "3                      0.000000    1200  \n",
       "4                      0.136364     505  \n",
       "\n",
       "[5 rows x 61 columns]"
      ]
     },
     "execution_count": 25,
     "metadata": {},
     "output_type": "execute_result"
    }
   ],
   "source": [
    "df.head()"
   ]
  },
  {
   "cell_type": "code",
   "execution_count": 24,
   "metadata": {},
   "outputs": [],
   "source": [
    "features = ['n_tokens_title', 'n_tokens_content',\n",
    "            'n_unique_tokens', 'n_non_stop_words', 'n_non_stop_unique_tokens',\n",
    "            'num_hrefs', 'num_self_hrefs', 'num_imgs', 'num_videos',\n",
    "            'average_token_length', 'num_keywords', 'data_channel_is_lifestyle',\n",
    "            'data_channel_is_entertainment', 'data_channel_is_bus',\n",
    "            'data_channel_is_socmed', 'data_channel_is_tech',\n",
    "            'data_channel_is_world']"
   ]
  },
  {
   "cell_type": "code",
   "execution_count": 31,
   "metadata": {},
   "outputs": [
    {
     "data": {
      "application/vnd.jupyter.widget-view+json": {
       "model_id": "c3424cd3e7384928bb2f822fd814f987",
       "version_major": 2,
       "version_minor": 0
      },
      "text/plain": [
       "HBox(children=(IntProgress(value=0, max=17), HTML(value='')))"
      ]
     },
     "metadata": {},
     "output_type": "display_data"
    },
    {
     "name": "stdout",
     "output_type": "stream",
     "text": [
      "n_tokens_title float64 20\n",
      "n_tokens_content float64 2406\n",
      "n_unique_tokens float64 27281\n",
      "n_non_stop_words float64 1451\n",
      "n_non_stop_unique_tokens float64 22930\n",
      "num_hrefs float64 133\n",
      "num_self_hrefs float64 59\n",
      "num_imgs float64 91\n",
      "num_videos float64 53\n",
      "average_token_length float64 30136\n",
      "num_keywords float64 10\n",
      "data_channel_is_lifestyle float64 2\n",
      "data_channel_is_entertainment float64 2\n",
      "data_channel_is_bus float64 2\n",
      "data_channel_is_socmed float64 2\n",
      "data_channel_is_tech float64 2\n",
      "data_channel_is_world float64 2\n",
      "\n"
     ]
    }
   ],
   "source": [
    "from tqdm import tqdm_notebook\n",
    "for col in tqdm_notebook(features):\n",
    "    print(col, df[col].dtype, df[col].nunique())"
   ]
  },
  {
   "cell_type": "markdown",
   "metadata": {},
   "source": [
    "\n",
    "\n",
    "Generate polynomial and interaction features.\n",
    "\n",
    "Generate a new feature matrix consisting of all polynomial combinations of the features with degree less than or equal to the specified degree. For example, if an input sample is two dimensional and of the form [a, b], the degree-2 polynomial features are [1, a, b, a^2, ab, b^2].\n"
   ]
  },
  {
   "cell_type": "code",
   "execution_count": 34,
   "metadata": {},
   "outputs": [
    {
     "data": {
      "text/plain": [
       "(39644, 170)"
      ]
     },
     "execution_count": 34,
     "metadata": {},
     "output_type": "execute_result"
    }
   ],
   "source": [
    "import sklearn.preprocessing as preproc\n",
    "from sklearn.model_selection import train_test_split\n",
    "from sklearn.model_selection import GridSearchCV\n",
    "\n",
    "X = df[features]\n",
    "y = df[['shares']]\n",
    "X2 = preproc.PolynomialFeatures(include_bias=False).fit_transform(X)\n",
    "X2.shape"
   ]
  },
  {
   "cell_type": "code",
   "execution_count": 43,
   "metadata": {},
   "outputs": [],
   "source": [
    "??train_test_split"
   ]
  },
  {
   "cell_type": "code",
   "execution_count": 36,
   "metadata": {},
   "outputs": [],
   "source": [
    "X1_train, X1_test, X2_train, X2_test, y_train, y_test = train_test_split(X, X2, y, test_size=0.3,random_state=123)"
   ]
  },
  {
   "cell_type": "code",
   "execution_count": 37,
   "metadata": {},
   "outputs": [
    {
     "data": {
      "text/plain": [
       "(11894, 1)"
      ]
     },
     "execution_count": 37,
     "metadata": {},
     "output_type": "execute_result"
    }
   ],
   "source": [
    "y_test.shape"
   ]
  },
  {
   "cell_type": "code",
   "execution_count": 40,
   "metadata": {},
   "outputs": [],
   "source": [
    "from sklearn import linear_model\n",
    "def evaluate_feature(X_train, X_test, y_train, y_test):\n",
    "    '''Fit a linear regression model on the training set and score on the test set'''\n",
    "    model = linear_model.LinearRegression().fit(X_train, y_train)\n",
    "    r_score = model.score(X_test, y_test)\n",
    "    return (model, r_score)"
   ]
  },
  {
   "cell_type": "code",
   "execution_count": 41,
   "metadata": {},
   "outputs": [
    {
     "name": "stdout",
     "output_type": "stream",
     "text": [
      "R-squared score with singleton features: 0.00924\n"
     ]
    }
   ],
   "source": [
    "(m1, r1) = evaluate_feature(X1_train, X1_test, y_train, y_test)\n",
    "print(\"R-squared score with singleton features: %0.5f\" % r1)"
   ]
  },
  {
   "cell_type": "code",
   "execution_count": 42,
   "metadata": {},
   "outputs": [
    {
     "name": "stdout",
     "output_type": "stream",
     "text": [
      "R-squared score with pairwise features: 0.0113280016\n"
     ]
    }
   ],
   "source": [
    "(m2, r2) = evaluate_feature(X2_train, X2_test, y_train, y_test)\n",
    "print(\"R-squared score with pairwise features: %0.10f\" % r2)"
   ]
  },
  {
   "cell_type": "markdown",
   "metadata": {},
   "source": [
    "### Feature Scaling"
   ]
  },
  {
   "cell_type": "markdown",
   "metadata": {},
   "source": [
    "If your model is sensitive to the scale of input features, feature scaling could help. As the name suggests, feature scaling changes the scale of the feature. Sometimes people also call it feature normalization. Feature scaling is usually done individually to each feature."
   ]
  },
  {
   "cell_type": "code",
   "execution_count": 45,
   "metadata": {},
   "outputs": [
    {
     "name": "stdout",
     "output_type": "stream",
     "text": [
      "[219. 255. 211. ... 442. 682. 157.]\n",
      "[0.02584376 0.03009205 0.02489969 ... 0.05215955 0.08048147 0.01852726]\n"
     ]
    }
   ],
   "source": [
    "# Look at the original data - the number of words in an article\n",
    "print(df['n_tokens_content'].values)\n",
    "# array([ 219.,  255.,  211., ...,  442.,  682.,  157.])\n",
    "\n",
    "# Min-max scaling\n",
    "df['minmax'] = preproc.minmax_scale(df[['n_tokens_content']])\n",
    "print(df['minmax'].values)"
   ]
  },
  {
   "cell_type": "markdown",
   "metadata": {},
   "source": [
    "### Don’t “Center” Sparse Data!\n",
    "Use caution when performing min-max scaling and standardization on sparse features. Both subtract a quantity from the original feature value. For min-max scaling, the shift is the minimum over all values of the current feature; for standardization, it is the mean. If the shift is not zero, then these two transforms can turn a sparse feature vector where most values are zero into a dense one. This in turn could create a huge computational burden for the classifier, depending on how it is implemented (not to mention that it would be horrendous if the representation now included every word that didn’t appear in a document!). Bag-of-words is a sparse representation, and most classification libraries optimize for sparse inputs."
   ]
  },
  {
   "cell_type": "code",
   "execution_count": 46,
   "metadata": {},
   "outputs": [
    {
     "name": "stdout",
     "output_type": "stream",
     "text": [
      "[-0.69521045 -0.61879381 -0.71219192 ... -0.2218518   0.28759248\n",
      " -0.82681689]\n",
      "[0.00152439 0.00177498 0.00146871 ... 0.00307663 0.0047472  0.00109283]\n"
     ]
    }
   ],
   "source": [
    "df['standardized'] = preproc.StandardScaler().fit_transform(df[['n_tokens_content']])\n",
    "print(df['standardized'].values)\n",
    "\n",
    "# L2-normalization\n",
    "df['l2_normalized'] = preproc.normalize(df[['n_tokens_content']], axis=0)\n",
    "print(df['l2_normalized'].values)"
   ]
  },
  {
   "cell_type": "markdown",
   "metadata": {},
   "source": [
    "Feature scaling is useful in situations where a set of input features differs wildly in scale. For instance, the number of daily visitors to a popular ecommerce site might be a hundred thousand, while the actual number of sales might be in the thousands. If both of those features are thrown into a model, then the model will need to balance its scale while figuring out what to do. Drastically varying scale in input features can lead to numeric stability issues for the model training algorithm."
   ]
  },
  {
   "cell_type": "markdown",
   "metadata": {},
   "source": [
    "### Counting words"
   ]
  },
  {
   "cell_type": "markdown",
   "metadata": {},
   "source": [
    "#### Bag-of-Words\n",
    "In bag-of-words (BoW) featurization, a text document is converted into a vector of counts. (A vector is just a collection of n numbers.) The vector contains an entry for every possible word in the vocabulary. If the word — say, “aardvark” — appears three times in the document, then the feature vector has a count of 3 in the position corresponding to that word. If a word in the vocabulary doesn’t appear in the document, then it gets a count of 0."
   ]
  },
  {
   "cell_type": "code",
   "execution_count": 47,
   "metadata": {},
   "outputs": [
    {
     "data": {
      "text/plain": [
       "(10000, 9)"
      ]
     },
     "execution_count": 47,
     "metadata": {},
     "output_type": "execute_result"
    }
   ],
   "source": [
    "f = open('../datasets/yelp_academic_dataset_review_my.json')\n",
    "js = []\n",
    "for i in range(10000):\n",
    "    js.append(json.loads(f.readline()))\n",
    "f.close()\n",
    "review_df = pd.DataFrame(js)\n",
    "review_df.shape"
   ]
  },
  {
   "cell_type": "code",
   "execution_count": 50,
   "metadata": {},
   "outputs": [
    {
     "name": "stdout",
     "output_type": "stream",
     "text": [
      "316034\n",
      "738062\n",
      "['0 1 0', '0 1 dessert', '0 1 good', '0 1 it', '0 1 prices', '0 1 speed', '0 10 mbps', '0 2 decor', '0 2 even', '0 2 it']\n",
      "26290 316034 738062\n"
     ]
    }
   ],
   "source": [
    "from sklearn.feature_extraction.text import CountVectorizer\n",
    "bow_converter = CountVectorizer(token_pattern='(?u)\\\\b\\\\w+\\\\b')\n",
    "x = bow_converter.fit_transform(review_df['text'])\n",
    "# print(x)\n",
    "words = bow_converter.get_feature_names()\n",
    "bigram_converter = CountVectorizer(ngram_range=(2,2), token_pattern='(?u)\\\\b\\\\w+\\\\b')\n",
    "x2 = bigram_converter.fit_transform(review_df['text'])\n",
    "bigrams = bigram_converter.get_feature_names()\n",
    "print(len(bigrams))\n",
    "trigram_converter = CountVectorizer(ngram_range=(3,3), token_pattern='(?u)\\\\b\\\\w+\\\\b')\n",
    "x3 = trigram_converter.fit_transform(review_df['text'])\n",
    "trigrams = trigram_converter.get_feature_names()\n",
    "print(len(trigrams))\n",
    "print(trigrams[:10])\n",
    "\n",
    "print(len(words), len(bigrams), len(trigrams))"
   ]
  },
  {
   "cell_type": "code",
   "execution_count": 51,
   "metadata": {},
   "outputs": [
    {
     "data": {
      "image/png": "[encoded data removed]",
      "text/plain": [
       "<Figure size 432x288 with 1 Axes>"
      ]
     },
     "metadata": {},
     "output_type": "display_data"
    }
   ],
   "source": [
    "sns.set_style(\"darkgrid\")\n",
    "counts = [len(words), len(bigrams), len(trigrams)]\n",
    "plt.plot(counts, color='cornflowerblue')\n",
    "plt.plot(counts, 'bo')\n",
    "plt.margins(0.1)\n",
    "plt.xticks(range(3), ['unigram', 'bigram', 'trigram'])\n",
    "plt.tick_params(labelsize=14)\n",
    "plt.title('Number of ngrams in the first 10,000 reviews of the Yelp dataset', {'fontsize':16})\n",
    "plt.show()"
   ]
  },
  {
   "cell_type": "markdown",
   "metadata": {},
   "source": [
    "![Fig](imgs/img_002.png)"
   ]
  },
  {
   "cell_type": "markdown",
   "metadata": {},
   "source": [
    "### Chunking and part-of-speech tagging\n",
    "Chunking is a bit more sophisticated than finding n-grams, in that it forms sequences of tokens based on parts of speech, using rule-based models.\n",
    "For example, we might be most interested in finding all of the noun phrases in a problem where the entity (in this case the subject of a text) is the most interesting to us. In order to find this, we tokenize each word with a part of speech and then examine the token’s neighborhood to look for part-of-speech groupings, or “chunks.” The models that map words to parts of speech are generally language specific."
   ]
  },
  {
   "cell_type": "code",
   "execution_count": 1,
   "metadata": {},
   "outputs": [
    {
     "data": {
      "text/plain": [
       "(10, 9)"
      ]
     },
     "execution_count": 1,
     "metadata": {},
     "output_type": "execute_result"
    }
   ],
   "source": [
    "import pandas as pd\n",
    "import json\n",
    "\n",
    "\n",
    "# Load the first 10 reviews\n",
    "f = open('../datasets/yelp_academic_dataset_review_my.json')\n",
    "js = []\n",
    "for i in range(10):\n",
    "    js.append(json.loads(f.readline()))\n",
    "f.close()\n",
    "review_df = pd.DataFrame(js)\n",
    "review_df.shape\n",
    "\n"
   ]
  },
  {
   "cell_type": "code",
   "execution_count": 2,
   "metadata": {},
   "outputs": [],
   "source": [
    "# !pip install spacy"
   ]
  },
  {
   "cell_type": "code",
   "execution_count": 4,
   "metadata": {},
   "outputs": [
    {
     "name": "stdout",
     "output_type": "stream",
     "text": [
      "\n",
      "    \u001b[93mInfo about model en\u001b[0m\n",
      "\n",
      "    lang               en             \n",
      "    pipeline           ['tagger', 'parser', 'ner']\n",
      "    accuracy           {'token_acc': 99.8698372794, 'ents_p': 84.9664503965, 'ents_r': 85.6312524451, 'uas': 91.7237657538, 'tags_acc': 97.0403350292, 'ents_f': 85.2975560875, 'las': 89.800872413}\n",
      "    name               core_web_sm    \n",
      "    license            CC BY-SA 3.0   \n",
      "    author             Explosion AI   \n",
      "    url                https://explosion.ai\n",
      "    vectors            {'keys': 0, 'width': 0, 'vectors': 0}\n",
      "    sources            ['OntoNotes 5', 'Common Crawl']\n",
      "    version            2.0.0          \n",
      "    spacy_version      >=2.0.0a18     \n",
      "    parent_package     spacy          \n",
      "    speed              {'gpu': None, 'nwords': 291344, 'cpu': 5122.3040471407}\n",
      "    email              contact@explosion.ai\n",
      "    description        English multi-task CNN trained on OntoNotes, with GloVe vectors trained on Common Crawl. Assigns word vectors, context-specific token vectors, POS tags, dependency parse and named entities.\n",
      "    link               /home/watts/anaconda3/envs/itv/lib/python3.6/site-packages/spacy/data/en\n",
      "    source             /home/watts/anaconda3/envs/itv/lib/python3.6/site-packages/en_core_web_sm\n",
      "\n"
     ]
    },
    {
     "data": {
      "text/plain": [
       "{'lang': 'en',\n",
       " 'pipeline': ['tagger', 'parser', 'ner'],\n",
       " 'accuracy': {'token_acc': 99.8698372794,\n",
       "  'ents_p': 84.9664503965,\n",
       "  'ents_r': 85.6312524451,\n",
       "  'uas': 91.7237657538,\n",
       "  'tags_acc': 97.0403350292,\n",
       "  'ents_f': 85.2975560875,\n",
       "  'las': 89.800872413},\n",
       " 'name': 'core_web_sm',\n",
       " 'license': 'CC BY-SA 3.0',\n",
       " 'author': 'Explosion AI',\n",
       " 'url': 'https://explosion.ai',\n",
       " 'vectors': {'keys': 0, 'width': 0, 'vectors': 0},\n",
       " 'sources': ['OntoNotes 5', 'Common Crawl'],\n",
       " 'version': '2.0.0',\n",
       " 'spacy_version': '>=2.0.0a18',\n",
       " 'parent_package': 'spacy',\n",
       " 'speed': {'gpu': None, 'nwords': 291344, 'cpu': 5122.3040471407},\n",
       " 'email': 'contact@explosion.ai',\n",
       " 'description': 'English multi-task CNN trained on OntoNotes, with GloVe vectors trained on Common Crawl. Assigns word vectors, context-specific token vectors, POS tags, dependency parse and named entities.',\n",
       " 'link': '/home/watts/anaconda3/envs/itv/lib/python3.6/site-packages/spacy/data/en',\n",
       " 'source': '/home/watts/anaconda3/envs/itv/lib/python3.6/site-packages/en_core_web_sm'}"
      ]
     },
     "execution_count": 4,
     "metadata": {},
     "output_type": "execute_result"
    }
   ],
   "source": [
    "#### Using spacy\n",
    "import spacy\n",
    "\n",
    "spacy.info('en')"
   ]
  },
  {
   "cell_type": "code",
   "execution_count": 5,
   "metadata": {},
   "outputs": [],
   "source": [
    "# preload the language model\n",
    "nlp = spacy.load('en')"
   ]
  },
  {
   "cell_type": "code",
   "execution_count": 6,
   "metadata": {},
   "outputs": [
    {
     "data": {
      "text/plain": [
       "pandas.core.series.Series"
      ]
     },
     "execution_count": 6,
     "metadata": {},
     "output_type": "execute_result"
    }
   ],
   "source": [
    "# Keeping it in a pandas dataframe\n",
    "doc_df = review_df['text'].apply(nlp)\n",
    "\n",
    "type(doc_df)"
   ]
  },
  {
   "cell_type": "code",
   "execution_count": 7,
   "metadata": {},
   "outputs": [
    {
     "data": {
      "text/plain": [
       "spacy.tokens.doc.Doc"
      ]
     },
     "execution_count": 7,
     "metadata": {},
     "output_type": "execute_result"
    }
   ],
   "source": [
    "type(doc_df[0])"
   ]
  },
  {
   "cell_type": "code",
   "execution_count": 8,
   "metadata": {},
   "outputs": [
    {
     "data": {
      "text/plain": [
       "Today was my second out of three sessions I had paid for. Although my first session went well, I could tell Meredith had a particular enjoyment for her male clients over her female. However, I returned because she did my teeth fine and I was pleased with the results. When I went in today, I was in the whitening room with three other gentlemen. My appointment started out well, although, being a person who is in the service industry, I always attend to my female clientele first when a couple arrives. Unbothered by those signs, I waited my turn. She checked on me once after my original 30 minute timer to ask if I was ok. She attended my boyfriend on numerous occasions, as well as the other men, and would exit the room without even asking me or looking to see if I had any irritation. Half way through, another woman had showed up who she was explaining the deals to in the lobby. While she admits timers must be reset half way through the process, she reset my boyfriends, left, rest the gentleman furthest away from me who had time to come in, redeem his deal, get set, and gave his timer done, before me, then left, and at this point my time was at 10 minutes. So, she should have reset it 5 minutes ago, according to her. While I sat there patiently this whole time with major pain in my gums, i watched the time until the lamp shut off. Not only had she reset two others, explained deals to other guest, but she never once checked on my time. When my light turned off, I released the stance of my mouth to a more relaxed state, assuming I was only getting a thirty minute session instead of the usual 45, because she had yet to come in. At this point, the teeth formula was not only burning the gum she neglected for 25 minutes now, but it began to burn my lips. I began squealing and slapping my chair trying to get her attention from the other room in a panic. I was in so much pain, that by the time she entered the room I was already out of my chair. She finally then acknowledged me, and asked if she could put vitamin E on my gum burn (pictured below). At this point, she has treated two other gums burns, while neglecting me, and I was so irritated that I had to suffer, all I wanted was to leave. While I waited for my boyfriend, she kept harassing me about the issue. Saying, \"well burns come with teeth whitening.\" While I totally agree, and under justifiable circumstances would not be as irritate, it could have easily been avoid if she had checked on me even a second time, so I could let her know. Not only did she never check on my physical health, she couldn't even take two seconds to reset the timer, which she even admitted to me. Her accuse was that she was coming in to do it, but I had the light off for a solid two minutes before I couldn't stand the pain. She admitted it should be reset every 15 minutes, which means for 25 minutes she did not bother to help me at all. Her guest in the lobby then proceeded to attack me as well, simply because I wanted to leave after the way I was treated. I also expected a refund for not getting a complete session today, due to the neglect, and the fact I won't be returning for my last, she had failed to do that. She was even screaming from the door, and continued to until my boyfriend and I were down the steps. I have never in my life been more appalled by a grown woman's behavior, who claims to be in the business for \"10 years.\" Admit your wrongs, but don't make your guest feel unwelcome because you can't do you job properly."
      ]
     },
     "execution_count": 8,
     "metadata": {},
     "output_type": "execute_result"
    }
   ],
   "source": [
    "doc_df[4]"
   ]
  },
  {
   "cell_type": "code",
   "execution_count": 9,
   "metadata": {},
   "outputs": [
    {
     "name": "stdout",
     "output_type": "stream",
     "text": [
      "Today NOUN NN\n",
      "was VERB VBD\n",
      "my ADJ PRP$\n",
      "second ADJ JJ\n",
      "out ADP IN\n",
      "of ADP IN\n",
      "three NUM CD\n",
      "sessions NOUN NNS\n",
      "I PRON PRP\n",
      "had VERB VBD\n",
      "paid VERB VBN\n",
      "for ADP IN\n",
      ". PUNCT .\n",
      "Although ADP IN\n",
      "my ADJ PRP$\n",
      "first ADJ JJ\n",
      "session NOUN NN\n",
      "went VERB VBD\n",
      "well ADV RB\n",
      ", PUNCT ,\n",
      "I PRON PRP\n",
      "could VERB MD\n",
      "tell VERB VB\n",
      "Meredith PROPN NNP\n",
      "had VERB VBD\n",
      "a DET DT\n",
      "particular ADJ JJ\n",
      "enjoyment NOUN NN\n",
      "for ADP IN\n",
      "her ADJ PRP$\n",
      "male ADJ JJ\n",
      "clients NOUN NNS\n",
      "over ADP IN\n",
      "her ADJ PRP$\n",
      "female NOUN NN\n",
      ". PUNCT .\n",
      "However ADV RB\n",
      ", PUNCT ,\n",
      "I PRON PRP\n",
      "returned VERB VBD\n",
      "because ADP IN\n",
      "she PRON PRP\n",
      "did VERB VBD\n",
      "my ADJ PRP$\n",
      "teeth NOUN NNS\n",
      "fine ADJ JJ\n",
      "and CCONJ CC\n",
      "I PRON PRP\n",
      "was VERB VBD\n",
      "pleased ADJ JJ\n",
      "with ADP IN\n",
      "the DET DT\n",
      "results NOUN NNS\n",
      ". PUNCT .\n",
      "When ADV WRB\n",
      "I PRON PRP\n",
      "went VERB VBD\n",
      "in ADP IN\n",
      "today NOUN NN\n",
      ", PUNCT ,\n",
      "I PRON PRP\n",
      "was VERB VBD\n",
      "in ADP IN\n",
      "the DET DT\n",
      "whitening NOUN NN\n",
      "room NOUN NN\n",
      "with ADP IN\n",
      "three NUM CD\n",
      "other ADJ JJ\n",
      "gentlemen NOUN NNS\n",
      ". PUNCT .\n",
      "My ADJ PRP$\n",
      "appointment NOUN NN\n",
      "started VERB VBD\n",
      "out PART RP\n",
      "well ADV RB\n",
      ", PUNCT ,\n",
      "although ADP IN\n",
      ", PUNCT ,\n",
      "being VERB VBG\n",
      "a DET DT\n",
      "person NOUN NN\n",
      "who NOUN WP\n",
      "is VERB VBZ\n",
      "in ADP IN\n",
      "the DET DT\n",
      "service NOUN NN\n",
      "industry NOUN NN\n",
      ", PUNCT ,\n",
      "I PRON PRP\n",
      "always ADV RB\n",
      "attend VERB VBP\n",
      "to ADP IN\n",
      "my ADJ PRP$\n",
      "female ADJ JJ\n",
      "clientele NOUN NNS\n",
      "first ADV RB\n",
      "when ADV WRB\n",
      "a DET DT\n",
      "couple NOUN NN\n",
      "arrives VERB VBZ\n",
      ". PUNCT .\n",
      "Unbothered VERB VBN\n",
      "by ADP IN\n",
      "those DET DT\n",
      "signs NOUN NNS\n",
      ", PUNCT ,\n",
      "I PRON PRP\n",
      "waited VERB VBD\n",
      "my ADJ PRP$\n",
      "turn NOUN NN\n",
      ". PUNCT .\n",
      "She PRON PRP\n",
      "checked VERB VBD\n",
      "on ADP IN\n",
      "me PRON PRP\n",
      "once ADV RB\n",
      "after ADP IN\n",
      "my ADJ PRP$\n",
      "original ADJ JJ\n",
      "30 NUM CD\n",
      "minute NOUN NN\n",
      "timer NOUN NN\n",
      "to PART TO\n",
      "ask VERB VB\n",
      "if ADP IN\n",
      "I PRON PRP\n",
      "was VERB VBD\n",
      "ok ADJ JJ\n",
      ". PUNCT .\n",
      "She PRON PRP\n",
      "attended VERB VBD\n",
      "my ADJ PRP$\n",
      "boyfriend NOUN NN\n",
      "on ADP IN\n",
      "numerous ADJ JJ\n",
      "occasions NOUN NNS\n",
      ", PUNCT ,\n",
      "as ADV RB\n",
      "well ADV RB\n",
      "as ADP IN\n",
      "the DET DT\n",
      "other ADJ JJ\n",
      "men NOUN NNS\n",
      ", PUNCT ,\n",
      "and CCONJ CC\n",
      "would VERB MD\n",
      "exit VERB VB\n",
      "the DET DT\n",
      "room NOUN NN\n",
      "without ADP IN\n",
      "even ADV RB\n",
      "asking VERB VBG\n",
      "me PRON PRP\n",
      "or CCONJ CC\n",
      "looking VERB VBG\n",
      "to PART TO\n",
      "see VERB VB\n",
      "if ADP IN\n",
      "I PRON PRP\n",
      "had VERB VBD\n",
      "any DET DT\n",
      "irritation NOUN NN\n",
      ". PUNCT .\n",
      "Half DET DT\n",
      "way NOUN NN\n",
      "through ADV RB\n",
      ", PUNCT ,\n",
      "another DET DT\n",
      "woman NOUN NN\n",
      "had VERB VBD\n",
      "showed VERB VBN\n",
      "up PART RP\n",
      "who NOUN WP\n",
      "she PRON PRP\n",
      "was VERB VBD\n",
      "explaining VERB VBG\n",
      "the DET DT\n",
      "deals NOUN NNS\n",
      "to ADP IN\n",
      "in ADP IN\n",
      "the DET DT\n",
      "lobby NOUN NN\n",
      ". PUNCT .\n",
      "While ADP IN\n",
      "she PRON PRP\n",
      "admits VERB VBZ\n",
      "timers NOUN NNS\n",
      "must VERB MD\n",
      "be VERB VB\n",
      "reset VERB VB\n",
      "half ADJ JJ\n",
      "way NOUN NN\n",
      "through ADP IN\n",
      "the DET DT\n",
      "process NOUN NN\n",
      ", PUNCT ,\n",
      "she PRON PRP\n",
      "reset VERB VBP\n",
      "my ADJ PRP$\n",
      "boyfriends NOUN NNS\n",
      ", PUNCT ,\n",
      "left VERB VBD\n",
      ", PUNCT ,\n",
      "rest VERB VB\n",
      "the DET DT\n",
      "gentleman NOUN NN\n",
      "furthest VERB VBP\n",
      "away ADV RB\n",
      "from ADP IN\n",
      "me PRON PRP\n",
      "who NOUN WP\n",
      "had VERB VBD\n",
      "time NOUN NN\n",
      "to PART TO\n",
      "come VERB VB\n",
      "in PART RP\n",
      ", PUNCT ,\n",
      "redeem VERB VB\n",
      "his ADJ PRP$\n",
      "deal NOUN NN\n",
      ", PUNCT ,\n",
      "get VERB VB\n",
      "set VERB VBN\n",
      ", PUNCT ,\n",
      "and CCONJ CC\n",
      "gave VERB VBD\n",
      "his ADJ PRP$\n",
      "timer NOUN NN\n",
      "done VERB VBN\n",
      ", PUNCT ,\n",
      "before ADP IN\n",
      "me PRON PRP\n",
      ", PUNCT ,\n",
      "then ADV RB\n",
      "left VERB VBD\n",
      ", PUNCT ,\n",
      "and CCONJ CC\n",
      "at ADP IN\n",
      "this DET DT\n",
      "point NOUN NN\n",
      "my ADJ PRP$\n",
      "time NOUN NN\n",
      "was VERB VBD\n",
      "at ADP IN\n",
      "10 NUM CD\n",
      "minutes NOUN NNS\n",
      ". PUNCT .\n",
      "So ADV RB\n",
      ", PUNCT ,\n",
      "she PRON PRP\n",
      "should VERB MD\n",
      "have VERB VB\n",
      "reset VERB VB\n",
      "it PRON PRP\n",
      "5 NUM CD\n",
      "minutes NOUN NNS\n",
      "ago ADV RB\n",
      ", PUNCT ,\n",
      "according VERB VBG\n",
      "to ADP IN\n",
      "her PRON PRP\n",
      ". PUNCT .\n",
      "While ADP IN\n",
      "I PRON PRP\n",
      "sat VERB VBD\n",
      "there ADV RB\n",
      "patiently ADV RB\n",
      "this DET DT\n",
      "whole ADJ JJ\n",
      "time NOUN NN\n",
      "with ADP IN\n",
      "major ADJ JJ\n",
      "pain NOUN NN\n",
      "in ADP IN\n",
      "my ADJ PRP$\n",
      "gums NOUN NNS\n",
      ", PUNCT ,\n",
      "i PRON PRP\n",
      "watched VERB VBD\n",
      "the DET DT\n",
      "time NOUN NN\n",
      "until ADP IN\n",
      "the DET DT\n",
      "lamp NOUN NN\n",
      "shut VERB VBN\n",
      "off PART RP\n",
      ". PUNCT .\n",
      "Not ADV RB\n",
      "only ADV RB\n",
      "had VERB VBD\n",
      "she PRON PRP\n",
      "reset VERB VB\n",
      "two NUM CD\n",
      "others NOUN NNS\n",
      ", PUNCT ,\n",
      "explained VERB VBD\n",
      "deals NOUN NNS\n",
      "to ADP IN\n",
      "other ADJ JJ\n",
      "guest NOUN NN\n",
      ", PUNCT ,\n",
      "but CCONJ CC\n",
      "she PRON PRP\n",
      "never ADV RB\n",
      "once ADV RB\n",
      "checked VERB VBD\n",
      "on ADP IN\n",
      "my ADJ PRP$\n",
      "time NOUN NN\n",
      ". PUNCT .\n",
      "When ADV WRB\n",
      "my ADJ PRP$\n",
      "light NOUN NN\n",
      "turned VERB VBD\n",
      "off PART RP\n",
      ", PUNCT ,\n",
      "I PRON PRP\n",
      "released VERB VBD\n",
      "the DET DT\n",
      "stance NOUN NN\n",
      "of ADP IN\n",
      "my ADJ PRP$\n",
      "mouth NOUN NN\n",
      "to ADP IN\n",
      "a DET DT\n",
      "more ADV RBR\n",
      "relaxed ADJ JJ\n",
      "state NOUN NN\n",
      ", PUNCT ,\n",
      "assuming VERB VBG\n",
      "I PRON PRP\n",
      "was VERB VBD\n",
      "only ADV RB\n",
      "getting VERB VBG\n",
      "a DET DT\n",
      "thirty NUM CD\n",
      "minute NOUN NN\n",
      "session NOUN NN\n",
      "instead ADV RB\n",
      "of ADP IN\n",
      "the DET DT\n",
      "usual ADJ JJ\n",
      "45 NUM CD\n",
      ", PUNCT ,\n",
      "because ADP IN\n",
      "she PRON PRP\n",
      "had VERB VBD\n",
      "yet ADV RB\n",
      "to PART TO\n",
      "come VERB VB\n",
      "in PART RP\n",
      ". PUNCT .\n",
      "At ADP IN\n",
      "this DET DT\n",
      "point NOUN NN\n",
      ", PUNCT ,\n",
      "the DET DT\n",
      "teeth NOUN NNS\n",
      "formula NOUN NN\n",
      "was VERB VBD\n",
      "not ADV RB\n",
      "only ADV RB\n",
      "burning VERB VBG\n",
      "the DET DT\n",
      "gum NOUN NN\n",
      "she PRON PRP\n",
      "neglected VERB VBD\n",
      "for ADP IN\n",
      "25 NUM CD\n",
      "minutes NOUN NNS\n",
      "now ADV RB\n",
      ", PUNCT ,\n",
      "but CCONJ CC\n",
      "it PRON PRP\n",
      "began VERB VBD\n",
      "to PART TO\n",
      "burn VERB VB\n",
      "my ADJ PRP$\n",
      "lips NOUN NNS\n",
      ". PUNCT .\n",
      "I PRON PRP\n",
      "began VERB VBD\n",
      "squealing VERB VBG\n",
      "and CCONJ CC\n",
      "slapping VERB VBG\n",
      "my ADJ PRP$\n",
      "chair NOUN NN\n",
      "trying VERB VBG\n",
      "to PART TO\n",
      "get VERB VB\n",
      "her ADJ PRP$\n",
      "attention NOUN NN\n",
      "from ADP IN\n",
      "the DET DT\n",
      "other ADJ JJ\n",
      "room NOUN NN\n",
      "in ADP IN\n",
      "a DET DT\n",
      "panic NOUN NN\n",
      ". PUNCT .\n",
      "I PRON PRP\n",
      "was VERB VBD\n",
      "in ADV RB\n",
      "so ADV RB\n",
      "much ADJ JJ\n",
      "pain NOUN NN\n",
      ", PUNCT ,\n",
      "that ADP IN\n",
      "by ADP IN\n",
      "the DET DT\n",
      "time NOUN NN\n",
      "she PRON PRP\n",
      "entered VERB VBD\n",
      "the DET DT\n",
      "room NOUN NN\n",
      "I PRON PRP\n",
      "was VERB VBD\n",
      "already ADV RB\n",
      "out ADP IN\n",
      "of ADP IN\n",
      "my ADJ PRP$\n",
      "chair NOUN NN\n",
      ". PUNCT .\n",
      "She PRON PRP\n",
      "finally ADV RB\n",
      "then ADV RB\n",
      "acknowledged VERB VBD\n",
      "me PRON PRP\n",
      ", PUNCT ,\n",
      "and CCONJ CC\n",
      "asked VERB VBD\n",
      "if ADP IN\n",
      "she PRON PRP\n",
      "could VERB MD\n",
      "put VERB VB\n",
      "vitamin NOUN NN\n",
      "E NOUN NN\n",
      "on ADP IN\n",
      "my ADJ PRP$\n",
      "gum NOUN NN\n",
      "burn VERB VB\n",
      "( PUNCT -LRB-\n",
      "pictured VERB VBN\n",
      "below ADV RB\n",
      ") PUNCT -RRB-\n",
      ". PUNCT .\n",
      "At ADP IN\n",
      "this DET DT\n",
      "point NOUN NN\n",
      ", PUNCT ,\n",
      "she PRON PRP\n",
      "has VERB VBZ\n",
      "treated VERB VBN\n",
      "two NUM CD\n",
      "other ADJ JJ\n",
      "gums NOUN NNS\n",
      "burns NOUN NNS\n",
      ", PUNCT ,\n",
      "while ADP IN\n",
      "neglecting VERB VBG\n",
      "me PRON PRP\n",
      ", PUNCT ,\n",
      "and CCONJ CC\n",
      "I PRON PRP\n",
      "was VERB VBD\n",
      "so ADV RB\n",
      "irritated ADJ JJ\n",
      "that ADP IN\n",
      "I PRON PRP\n",
      "had VERB VBD\n",
      "to PART TO\n",
      "suffer VERB VB\n",
      ", PUNCT ,\n",
      "all DET DT\n",
      "I PRON PRP\n",
      "wanted VERB VBD\n",
      "was VERB VBD\n",
      "to PART TO\n",
      "leave VERB VB\n",
      ". PUNCT .\n",
      "While ADP IN\n",
      "I PRON PRP\n",
      "waited VERB VBD\n",
      "for ADP IN\n",
      "my ADJ PRP$\n",
      "boyfriend NOUN NN\n",
      ", PUNCT ,\n",
      "she PRON PRP\n",
      "kept VERB VBD\n",
      "harassing VERB VBG\n",
      "me PRON PRP\n",
      "about ADP IN\n",
      "the DET DT\n",
      "issue NOUN NN\n",
      ". PUNCT .\n",
      "Saying VERB VBG\n",
      ", PUNCT ,\n",
      "\" PUNCT ``\n",
      "well ADV RB\n",
      "burns NOUN NNS\n",
      "come VERB VBP\n",
      "with ADP IN\n",
      "teeth NOUN NNS\n",
      "whitening VERB VBG\n",
      ". PUNCT .\n",
      "\" PUNCT ``\n",
      "While ADP IN\n",
      "I PRON PRP\n",
      "totally ADV RB\n",
      "agree VERB VBP\n",
      ", PUNCT ,\n",
      "and CCONJ CC\n",
      "under ADP IN\n",
      "justifiable ADJ JJ\n",
      "circumstances NOUN NNS\n",
      "would VERB MD\n",
      "not ADV RB\n",
      "be VERB VB\n",
      "as ADV RB\n",
      "irritate ADJ JJ\n",
      ", PUNCT ,\n",
      "it PRON PRP\n",
      "could VERB MD\n",
      "have VERB VB\n",
      "easily ADV RB\n",
      "been VERB VBN\n",
      "avoid VERB VBN\n",
      "if ADP IN\n",
      "she PRON PRP\n",
      "had VERB VBD\n",
      "checked VERB VBN\n",
      "on ADP IN\n",
      "me PRON PRP\n",
      "even ADV RB\n",
      "a DET DT\n",
      "second ADJ JJ\n",
      "time NOUN NN\n",
      ", PUNCT ,\n",
      "so CCONJ CC\n",
      "I PRON PRP\n",
      "could VERB MD\n",
      "let VERB VB\n",
      "her PRON PRP\n",
      "know VERB VB\n",
      ". PUNCT .\n",
      "Not ADV RB\n",
      "only ADV RB\n",
      "did VERB VBD\n",
      "she PRON PRP\n",
      "never ADV RB\n",
      "check VERB VB\n",
      "on ADP IN\n",
      "my ADJ PRP$\n",
      "physical ADJ JJ\n",
      "health NOUN NN\n",
      ", PUNCT ,\n",
      "she PRON PRP\n",
      "could VERB MD\n",
      "n't ADV RB\n",
      "even ADV RB\n",
      "take VERB VB\n",
      "two NUM CD\n",
      "seconds NOUN NNS\n",
      "to PART TO\n",
      "reset VERB VB\n",
      "the DET DT\n",
      "timer NOUN NN\n",
      ", PUNCT ,\n",
      "which ADJ WDT\n",
      "she PRON PRP\n",
      "even ADV RB\n",
      "admitted VERB VBD\n",
      "to ADP IN\n",
      "me PRON PRP\n",
      ". PUNCT .\n",
      "Her ADJ PRP$\n",
      "accuse NOUN NN\n",
      "was VERB VBD\n",
      "that ADP IN\n",
      "she PRON PRP\n",
      "was VERB VBD\n",
      "coming VERB VBG\n",
      "in PART RP\n",
      "to PART TO\n",
      "do VERB VB\n",
      "it PRON PRP\n",
      ", PUNCT ,\n",
      "but CCONJ CC\n",
      "I PRON PRP\n",
      "had VERB VBD\n",
      "the DET DT\n",
      "light NOUN NN\n",
      "off PART RP\n",
      "for ADP IN\n",
      "a DET DT\n",
      "solid ADJ JJ\n",
      "two NUM CD\n",
      "minutes NOUN NNS\n",
      "before ADP IN\n",
      "I PRON PRP\n",
      "could VERB MD\n",
      "n't ADV RB\n",
      "stand VERB VB\n",
      "the DET DT\n",
      "pain NOUN NN\n",
      ". PUNCT .\n",
      "She PRON PRP\n",
      "admitted VERB VBD\n",
      "it PRON PRP\n",
      "should VERB MD\n",
      "be VERB VB\n",
      "reset VERB VB\n",
      "every DET DT\n",
      "15 NUM CD\n",
      "minutes NOUN NNS\n",
      ", PUNCT ,\n",
      "which ADJ WDT\n",
      "means VERB VBZ\n",
      "for ADP IN\n",
      "25 NUM CD\n",
      "minutes NOUN NNS\n",
      "she PRON PRP\n",
      "did VERB VBD\n",
      "not ADV RB\n",
      "bother VERB VB\n",
      "to PART TO\n",
      "help VERB VB\n",
      "me PRON PRP\n",
      "at ADV RB\n",
      "all ADV RB\n",
      ". PUNCT .\n",
      "Her ADJ PRP$\n",
      "guest NOUN NN\n",
      "in ADP IN\n",
      "the DET DT\n",
      "lobby NOUN NN\n",
      "then ADV RB\n",
      "proceeded VERB VBD\n",
      "to PART TO\n",
      "attack VERB VB\n",
      "me PRON PRP\n",
      "as ADV RB\n",
      "well ADV RB\n",
      ", PUNCT ,\n",
      "simply ADV RB\n",
      "because ADP IN\n",
      "I PRON PRP\n",
      "wanted VERB VBD\n",
      "to PART TO\n",
      "leave VERB VB\n",
      "after ADP IN\n",
      "the DET DT\n",
      "way NOUN NN\n",
      "I PRON PRP\n",
      "was VERB VBD\n",
      "treated VERB VBN\n",
      ". PUNCT .\n",
      "I PRON PRP\n",
      "also ADV RB\n",
      "expected VERB VBD\n",
      "a DET DT\n",
      "refund NOUN NN\n",
      "for ADP IN\n",
      "not ADV RB\n",
      "getting VERB VBG\n",
      "a DET DT\n",
      "complete ADJ JJ\n",
      "session NOUN NN\n",
      "today NOUN NN\n",
      ", PUNCT ,\n",
      "due ADP IN\n",
      "to ADP IN\n",
      "the DET DT\n",
      "neglect NOUN NN\n",
      ", PUNCT ,\n",
      "and CCONJ CC\n",
      "the DET DT\n",
      "fact NOUN NN\n",
      "I PRON PRP\n",
      "wo VERB MD\n",
      "n't ADV RB\n",
      "be VERB VB\n",
      "returning VERB VBG\n",
      "for ADP IN\n",
      "my ADJ PRP$\n",
      "last ADJ JJ\n",
      ", PUNCT ,\n",
      "she PRON PRP\n",
      "had VERB VBD\n",
      "failed VERB VBN\n",
      "to PART TO\n",
      "do VERB VB\n",
      "that DET DT\n",
      ". PUNCT .\n",
      "She PRON PRP\n",
      "was VERB VBD\n",
      "even ADV RB\n",
      "screaming VERB VBG\n",
      "from ADP IN\n",
      "the DET DT\n",
      "door NOUN NN\n",
      ", PUNCT ,\n",
      "and CCONJ CC\n",
      "continued VERB VBD\n",
      "to PART TO\n",
      "until ADP IN\n",
      "my ADJ PRP$\n",
      "boyfriend NOUN NN\n",
      "and CCONJ CC\n",
      "I PRON PRP\n",
      "were VERB VBD\n",
      "down ADP IN\n",
      "the DET DT\n",
      "steps NOUN NNS\n",
      ". PUNCT .\n",
      "I PRON PRP\n",
      "have VERB VBP\n",
      "never ADV RB\n",
      "in ADP IN\n",
      "my ADJ PRP$\n",
      "life NOUN NN\n",
      "been VERB VBN\n",
      "more ADV RBR\n",
      "appalled VERB VBN\n",
      "by ADP IN\n",
      "a DET DT\n",
      "grown ADJ JJ\n",
      "woman NOUN NN\n",
      "'s PART POS\n",
      "behavior NOUN NN\n",
      ", PUNCT ,\n",
      "who NOUN WP\n",
      "claims VERB VBZ\n",
      "to PART TO\n",
      "be VERB VB\n",
      "in ADP IN\n",
      "the DET DT\n",
      "business NOUN NN\n",
      "for ADP IN\n",
      "\" PUNCT ``\n",
      "10 NUM CD\n",
      "years NOUN NNS\n",
      ". PUNCT .\n",
      "\" PUNCT ``\n",
      "Admit VERB VB\n",
      "your ADJ PRP$\n",
      "wrongs NOUN NNS\n",
      ", PUNCT ,\n",
      "but CCONJ CC\n",
      "do VERB VBP\n",
      "n't ADV RB\n",
      "make VERB VB\n",
      "your ADJ PRP$\n",
      "guest NOUN NN\n",
      "feel VERB VB\n",
      "unwelcome ADJ JJ\n",
      "because ADP IN\n",
      "you PRON PRP\n",
      "ca VERB MD\n",
      "n't ADV RB\n",
      "do VERB VB\n",
      "you PRON PRP\n",
      "job VERB VB\n",
      "properly ADV RB\n",
      ". PUNCT .\n"
     ]
    }
   ],
   "source": [
    "# spacy gives you both fine grained (.pos_) + coarse grained (.tag_) parts of speech    \n",
    "for doc in doc_df[4]:\n",
    "    print(doc.text, doc.pos_, doc.tag_)"
   ]
  },
  {
   "cell_type": "code",
   "execution_count": 10,
   "metadata": {},
   "outputs": [
    {
     "name": "stdout",
     "output_type": "stream",
     "text": [
      "[Today, three sessions, I, my first session, I, Meredith, a particular enjoyment, her male clients, her female, I, she, my teeth, I, the results, I, today, I, the whitening room, three other gentlemen, My appointment, a person, who, the service industry, I, my female clientele, a couple, those signs, I, my turn, She, me, my original 30 minute timer, I, She, my boyfriend, numerous occasions, the other men, the room, me, I, any irritation, another woman, who, she, the deals, the lobby, she, timers, the process, she, my boyfriends, the gentleman, me, who, time, his deal, his timer, me, this point, my time, 10 minutes, she, it, her, I, major pain, my gums, i, the time, the lamp, she, two others, deals, other guest, she, my time, my light, I, the stance, my mouth, a more relaxed state, I, a thirty minute session, she, this point, the teeth formula, the gum, she, 25 minutes, it, my lips, I, my chair, her attention, the other room, a panic, I, so much pain, the time, she, the room, I, my chair, She, me, she, vitamin E, this point, she, two other gums burns, me, I, I, I, I, my boyfriend, she, me, the issue, burns, I, justifiable circumstances, it, she, me, I, her, she, my physical health, she, two seconds, the timer, she, me, Her accuse, she, it, I, the light, a solid two minutes, I, the pain, She, it, 25 minutes, she, me, Her guest, the lobby, me, I, the way, I, I, a refund, a complete session, the neglect, I, she, She, the door, my boyfriend, I, the steps, I, my life, a grown woman's behavior, who, the business, 10 years, your wrongs, your guest, you, you]\n"
     ]
    }
   ],
   "source": [
    "# spaCy also does noun chunking for us\n",
    "\n",
    "print([chunk for chunk in doc_df[4].noun_chunks])"
   ]
  },
  {
   "cell_type": "markdown",
   "metadata": {},
   "source": [
    "### TF-IDF\n",
    "\n",
    "Tf-idf is a simple twist on the bag-of-words approach. It stands for term frequency–inverse document frequency.  Instead of looking at the raw counts of each word in each document in a dataset, tf-idf looks at a normalized count where each word count is divided by the number of documents this word appears in. That is:\n",
    "bow(w, d) = # times word w appears in document d\n",
    "tf-idf(w, d) = bow(w, d) * N / (# documents in which word w appears)\n",
    "N is the total number of documents in the dataset. The fraction N / (# documents ...) is what’s known as the inverse document frequency. If a word appears in many documents, then its inverse document frequency is close to 1. If a word appears in just a few documents, then the inverse document frequency is much higher."
   ]
  },
  {
   "cell_type": "code",
   "execution_count": 1,
   "metadata": {},
   "outputs": [],
   "source": [
    "import json\n",
    "import numpy as np\n",
    "import pandas as pd\n",
    "from sklearn.feature_extraction import text\n",
    "from sklearn.linear_model import LogisticRegression\n",
    "import sklearn.model_selection as modsel\n",
    "import sklearn.preprocessing as preproc"
   ]
  },
  {
   "cell_type": "code",
   "execution_count": 2,
   "metadata": {},
   "outputs": [
    {
     "ename": "FileNotFoundError",
     "evalue": "[Errno 2] No such file or directory: '../datasets/yelp_academic_dataset_business_my.json'",
     "output_type": "error",
     "traceback": [
      "\u001b[0;31m-------------------------------------------------------------------\u001b[0m",
      "\u001b[0;31mFileNotFoundError\u001b[0m                 Traceback (most recent call last)",
      "\u001b[0;32m<ipython-input-2-58c03797d3b1>\u001b[0m in \u001b[0;36m<module>\u001b[0;34m\u001b[0m\n\u001b[1;32m      1\u001b[0m \u001b[0;31m## Load Yelp Business data\u001b[0m\u001b[0;34m\u001b[0m\u001b[0;34m\u001b[0m\u001b[0;34m\u001b[0m\u001b[0m\n\u001b[0;32m----> 2\u001b[0;31m \u001b[0mbiz_f\u001b[0m \u001b[0;34m=\u001b[0m \u001b[0mopen\u001b[0m\u001b[0;34m(\u001b[0m\u001b[0;34m'../datasets/yelp_academic_dataset_business_my.json'\u001b[0m\u001b[0;34m)\u001b[0m\u001b[0;34m\u001b[0m\u001b[0;34m\u001b[0m\u001b[0m\n\u001b[0m\u001b[1;32m      3\u001b[0m \u001b[0mbiz_df\u001b[0m \u001b[0;34m=\u001b[0m \u001b[0mpd\u001b[0m\u001b[0;34m.\u001b[0m\u001b[0mDataFrame\u001b[0m\u001b[0;34m(\u001b[0m\u001b[0;34m[\u001b[0m\u001b[0mjson\u001b[0m\u001b[0;34m.\u001b[0m\u001b[0mloads\u001b[0m\u001b[0;34m(\u001b[0m\u001b[0mx\u001b[0m\u001b[0;34m)\u001b[0m \u001b[0;32mfor\u001b[0m \u001b[0mx\u001b[0m \u001b[0;32min\u001b[0m \u001b[0mbiz_f\u001b[0m\u001b[0;34m.\u001b[0m\u001b[0mreadlines\u001b[0m\u001b[0;34m(\u001b[0m\u001b[0;34m)\u001b[0m\u001b[0;34m]\u001b[0m\u001b[0;34m)\u001b[0m\u001b[0;34m\u001b[0m\u001b[0;34m\u001b[0m\u001b[0m\n\u001b[1;32m      4\u001b[0m \u001b[0mbiz_f\u001b[0m\u001b[0;34m.\u001b[0m\u001b[0mclose\u001b[0m\u001b[0;34m(\u001b[0m\u001b[0;34m)\u001b[0m\u001b[0;34m\u001b[0m\u001b[0;34m\u001b[0m\u001b[0m\n\u001b[1;32m      5\u001b[0m \u001b[0;34m\u001b[0m\u001b[0m\n",
      "\u001b[0;31mFileNotFoundError\u001b[0m: [Errno 2] No such file or directory: '../datasets/yelp_academic_dataset_business_my.json'"
     ]
    }
   ],
   "source": [
    "## Load Yelp Business data\n",
    "biz_f = open('../datasets/yelp_academic_dataset_business_my.json')\n",
    "biz_df = pd.DataFrame([json.loads(x) for x in biz_f.readlines()])\n",
    "biz_f.close()\n",
    "\n",
    "## Load Yelp Reviews data\n",
    "review_file = open('../datasets/yelp_academic_dataset_review_my.json')\n",
    "review_df = pd.DataFrame([json.loads(x) for x in review_file.readlines()])\n",
    "review_file.close()"
   ]
  },
  {
   "cell_type": "code",
   "execution_count": 62,
   "metadata": {},
   "outputs": [
    {
     "data": {
      "text/plain": [
       "(15000, 9)"
      ]
     },
     "execution_count": 62,
     "metadata": {},
     "output_type": "execute_result"
    }
   ],
   "source": [
    "review_df.shape"
   ]
  },
  {
   "cell_type": "code",
   "execution_count": 63,
   "metadata": {},
   "outputs": [
    {
     "data": {
      "text/html": [
       "<div>\n",
       "<style scoped>\n",
       "    .dataframe tbody tr th:only-of-type {\n",
       "        vertical-align: middle;\n",
       "    }\n",
       "\n",
       "    .dataframe tbody tr th {\n",
       "        vertical-align: top;\n",
       "    }\n",
       "\n",
       "    .dataframe thead th {\n",
       "        text-align: right;\n",
       "    }\n",
       "</style>\n",
       "<table border=\"1\" class=\"dataframe\">\n",
       "  <thead>\n",
       "    <tr style=\"text-align: right;\">\n",
       "      <th></th>\n",
       "      <th>business_id</th>\n",
       "      <th>cool</th>\n",
       "      <th>date</th>\n",
       "      <th>funny</th>\n",
       "      <th>review_id</th>\n",
       "      <th>stars</th>\n",
       "      <th>text</th>\n",
       "      <th>useful</th>\n",
       "      <th>user_id</th>\n",
       "    </tr>\n",
       "  </thead>\n",
       "  <tbody>\n",
       "    <tr>\n",
       "      <th>0</th>\n",
       "      <td>ujmEBvifdJM6h6RLv4wQIg</td>\n",
       "      <td>0</td>\n",
       "      <td>2013-05-07 04:34:36</td>\n",
       "      <td>1</td>\n",
       "      <td>Q1sbwvVQXV2734tPgoKj4Q</td>\n",
       "      <td>1.0</td>\n",
       "      <td>Total bill for this horrible service? Over $8G...</td>\n",
       "      <td>6</td>\n",
       "      <td>hG7b0MtEbXx5QzbzE6C_VA</td>\n",
       "    </tr>\n",
       "  </tbody>\n",
       "</table>\n",
       "</div>"
      ],
      "text/plain": [
       "              business_id  cool                 date  funny  \\\n",
       "0  ujmEBvifdJM6h6RLv4wQIg     0  2013-05-07 04:34:36      1   \n",
       "\n",
       "                review_id  stars  \\\n",
       "0  Q1sbwvVQXV2734tPgoKj4Q    1.0   \n",
       "\n",
       "                                                text  useful  \\\n",
       "0  Total bill for this horrible service? Over $8G...       6   \n",
       "\n",
       "                  user_id  \n",
       "0  hG7b0MtEbXx5QzbzE6C_VA  "
      ]
     },
     "execution_count": 63,
     "metadata": {},
     "output_type": "execute_result"
    }
   ],
   "source": [
    "review_df.head(1)"
   ]
  },
  {
   "cell_type": "code",
   "execution_count": 64,
   "metadata": {},
   "outputs": [
    {
     "data": {
      "text/plain": [
       "(192609, 14)"
      ]
     },
     "execution_count": 64,
     "metadata": {},
     "output_type": "execute_result"
    }
   ],
   "source": [
    "biz_df.shape"
   ]
  },
  {
   "cell_type": "code",
   "execution_count": 65,
   "metadata": {},
   "outputs": [
    {
     "data": {
      "text/html": [
       "<div>\n",
       "<style scoped>\n",
       "    .dataframe tbody tr th:only-of-type {\n",
       "        vertical-align: middle;\n",
       "    }\n",
       "\n",
       "    .dataframe tbody tr th {\n",
       "        vertical-align: top;\n",
       "    }\n",
       "\n",
       "    .dataframe thead th {\n",
       "        text-align: right;\n",
       "    }\n",
       "</style>\n",
       "<table border=\"1\" class=\"dataframe\">\n",
       "  <thead>\n",
       "    <tr style=\"text-align: right;\">\n",
       "      <th></th>\n",
       "      <th>address</th>\n",
       "      <th>attributes</th>\n",
       "      <th>business_id</th>\n",
       "      <th>categories</th>\n",
       "      <th>city</th>\n",
       "      <th>hours</th>\n",
       "      <th>is_open</th>\n",
       "      <th>latitude</th>\n",
       "      <th>longitude</th>\n",
       "      <th>name</th>\n",
       "      <th>postal_code</th>\n",
       "      <th>review_count</th>\n",
       "      <th>stars</th>\n",
       "      <th>state</th>\n",
       "    </tr>\n",
       "  </thead>\n",
       "  <tbody>\n",
       "    <tr>\n",
       "      <th>0</th>\n",
       "      <td>2818 E Camino Acequia Drive</td>\n",
       "      <td>{'GoodForKids': 'False'}</td>\n",
       "      <td>1SWheh84yJXfytovILXOAQ</td>\n",
       "      <td>Golf, Active Life</td>\n",
       "      <td>Phoenix</td>\n",
       "      <td>None</td>\n",
       "      <td>0</td>\n",
       "      <td>33.522143</td>\n",
       "      <td>-112.018481</td>\n",
       "      <td>Arizona Biltmore Golf Club</td>\n",
       "      <td>85016</td>\n",
       "      <td>5</td>\n",
       "      <td>3.0</td>\n",
       "      <td>AZ</td>\n",
       "    </tr>\n",
       "  </tbody>\n",
       "</table>\n",
       "</div>"
      ],
      "text/plain": [
       "                       address                attributes  \\\n",
       "0  2818 E Camino Acequia Drive  {'GoodForKids': 'False'}   \n",
       "\n",
       "              business_id         categories     city hours  is_open  \\\n",
       "0  1SWheh84yJXfytovILXOAQ  Golf, Active Life  Phoenix  None        0   \n",
       "\n",
       "    latitude   longitude                        name postal_code  \\\n",
       "0  33.522143 -112.018481  Arizona Biltmore Golf Club       85016   \n",
       "\n",
       "   review_count  stars state  \n",
       "0             5    3.0    AZ  "
      ]
     },
     "execution_count": 65,
     "metadata": {},
     "output_type": "execute_result"
    }
   ],
   "source": [
    "biz_df.head(1)"
   ]
  },
  {
   "cell_type": "code",
   "execution_count": 68,
   "metadata": {},
   "outputs": [
    {
     "data": {
      "text/plain": [
       "482"
      ]
     },
     "execution_count": 68,
     "metadata": {},
     "output_type": "execute_result"
    }
   ],
   "source": [
    "biz_df['categories'].isnull().sum()"
   ]
  },
  {
   "cell_type": "code",
   "execution_count": 70,
   "metadata": {},
   "outputs": [
    {
     "data": {
      "text/plain": [
       "address               6340 E Thomas Rd\n",
       "attributes                        None\n",
       "business_id     xOR85RicYj642O3_iJ7hgg\n",
       "categories                        None\n",
       "city                        Scottsdale\n",
       "hours                             None\n",
       "is_open                              1\n",
       "latitude                       33.4804\n",
       "longitude                     -111.946\n",
       "name                Phoenix Valuations\n",
       "postal_code                      85251\n",
       "review_count                         3\n",
       "stars                              3.5\n",
       "state                               AZ\n",
       "Name: 265, dtype: object"
      ]
     },
     "execution_count": 70,
     "metadata": {},
     "output_type": "execute_result"
    }
   ],
   "source": [
    "biz_df.iloc[265]"
   ]
  },
  {
   "cell_type": "code",
   "execution_count": 75,
   "metadata": {},
   "outputs": [],
   "source": [
    "biz_df['categories'] = biz_df['categories'].map(lambda x: x if x is not None else 'None')"
   ]
  },
  {
   "cell_type": "code",
   "execution_count": 76,
   "metadata": {},
   "outputs": [],
   "source": [
    "# Pull out only Nightlife and Restaurants businesses\n",
    "two_biz = biz_df[biz_df.apply(lambda x: 'Nightlife' in x['categories'].split(',') or \n",
    "                              'Restaurants' in x['categories'].split(','), axis=1)]"
   ]
  },
  {
   "cell_type": "code",
   "execution_count": 77,
   "metadata": {},
   "outputs": [
    {
     "data": {
      "text/plain": [
       "(20661, 14)"
      ]
     },
     "execution_count": 77,
     "metadata": {},
     "output_type": "execute_result"
    }
   ],
   "source": [
    "two_biz.shape"
   ]
  },
  {
   "cell_type": "code",
   "execution_count": 78,
   "metadata": {},
   "outputs": [],
   "source": [
    "## Join with the reviews to get all reviews on the two types of business\n",
    "twobiz_reviews = two_biz.merge(review_df, on='business_id', how='inner')"
   ]
  },
  {
   "cell_type": "code",
   "execution_count": 79,
   "metadata": {},
   "outputs": [
    {
     "data": {
      "text/plain": [
       "(2858, 22)"
      ]
     },
     "execution_count": 79,
     "metadata": {},
     "output_type": "execute_result"
    }
   ],
   "source": [
    "twobiz_reviews.shape"
   ]
  },
  {
   "cell_type": "code",
   "execution_count": 80,
   "metadata": {},
   "outputs": [],
   "source": [
    "twobiz_reviews.to_pickle('../cache/twobiz_reviews.pkl')"
   ]
  },
  {
   "cell_type": "code",
   "execution_count": 81,
   "metadata": {},
   "outputs": [],
   "source": [
    "twobiz_reviews = pd.read_pickle('../cache/twobiz_reviews.pkl')"
   ]
  },
  {
   "cell_type": "code",
   "execution_count": 82,
   "metadata": {},
   "outputs": [],
   "source": [
    "# Trim away the features we won't use\n",
    "twobiz_reviews = twobiz_reviews[['business_id', \n",
    "                                 'name', \n",
    "                                 'stars_y', \n",
    "                                 'text', \n",
    "                                 'categories']]"
   ]
  },
  {
   "cell_type": "code",
   "execution_count": 83,
   "metadata": {},
   "outputs": [
    {
     "data": {
      "text/html": [
       "<div>\n",
       "<style scoped>\n",
       "    .dataframe tbody tr th:only-of-type {\n",
       "        vertical-align: middle;\n",
       "    }\n",
       "\n",
       "    .dataframe tbody tr th {\n",
       "        vertical-align: top;\n",
       "    }\n",
       "\n",
       "    .dataframe thead th {\n",
       "        text-align: right;\n",
       "    }\n",
       "</style>\n",
       "<table border=\"1\" class=\"dataframe\">\n",
       "  <thead>\n",
       "    <tr style=\"text-align: right;\">\n",
       "      <th></th>\n",
       "      <th>business_id</th>\n",
       "      <th>name</th>\n",
       "      <th>stars_y</th>\n",
       "      <th>text</th>\n",
       "      <th>categories</th>\n",
       "    </tr>\n",
       "  </thead>\n",
       "  <tbody>\n",
       "    <tr>\n",
       "      <th>0</th>\n",
       "      <td>PZ-LZzSlhSe9utkQYU8pFg</td>\n",
       "      <td>Carluccio's Tivoli Gardens</td>\n",
       "      <td>5.0</td>\n",
       "      <td>We went there for dinner the other night, bein...</td>\n",
       "      <td>Restaurants, Italian</td>\n",
       "    </tr>\n",
       "    <tr>\n",
       "      <th>1</th>\n",
       "      <td>PZ-LZzSlhSe9utkQYU8pFg</td>\n",
       "      <td>Carluccio's Tivoli Gardens</td>\n",
       "      <td>4.0</td>\n",
       "      <td>i had the best Chicken Marcela ever. The spagh...</td>\n",
       "      <td>Restaurants, Italian</td>\n",
       "    </tr>\n",
       "    <tr>\n",
       "      <th>2</th>\n",
       "      <td>KWywu2tTEPWmR9JnBc0WyQ</td>\n",
       "      <td>Hunk Mansion</td>\n",
       "      <td>5.0</td>\n",
       "      <td>It's awesome here!!The guys are soooo hot and ...</td>\n",
       "      <td>Nightlife, Arts &amp; Entertainment, Bars, Strip C...</td>\n",
       "    </tr>\n",
       "    <tr>\n",
       "      <th>3</th>\n",
       "      <td>KWywu2tTEPWmR9JnBc0WyQ</td>\n",
       "      <td>Hunk Mansion</td>\n",
       "      <td>5.0</td>\n",
       "      <td>I came to Hunk Mansion April 11th 2014 for my ...</td>\n",
       "      <td>Nightlife, Arts &amp; Entertainment, Bars, Strip C...</td>\n",
       "    </tr>\n",
       "    <tr>\n",
       "      <th>4</th>\n",
       "      <td>dQj5DLZjeDK3KFysh1SYOQ</td>\n",
       "      <td>Apteka</td>\n",
       "      <td>5.0</td>\n",
       "      <td>It doesn't get more kooky than meatless easter...</td>\n",
       "      <td>Nightlife, Bars, Polish, Modern European, Rest...</td>\n",
       "    </tr>\n",
       "  </tbody>\n",
       "</table>\n",
       "</div>"
      ],
      "text/plain": [
       "              business_id                        name  stars_y  \\\n",
       "0  PZ-LZzSlhSe9utkQYU8pFg  Carluccio's Tivoli Gardens      5.0   \n",
       "1  PZ-LZzSlhSe9utkQYU8pFg  Carluccio's Tivoli Gardens      4.0   \n",
       "2  KWywu2tTEPWmR9JnBc0WyQ                Hunk Mansion      5.0   \n",
       "3  KWywu2tTEPWmR9JnBc0WyQ                Hunk Mansion      5.0   \n",
       "4  dQj5DLZjeDK3KFysh1SYOQ                      Apteka      5.0   \n",
       "\n",
       "                                                text  \\\n",
       "0  We went there for dinner the other night, bein...   \n",
       "1  i had the best Chicken Marcela ever. The spagh...   \n",
       "2  It's awesome here!!The guys are soooo hot and ...   \n",
       "3  I came to Hunk Mansion April 11th 2014 for my ...   \n",
       "4  It doesn't get more kooky than meatless easter...   \n",
       "\n",
       "                                          categories  \n",
       "0                               Restaurants, Italian  \n",
       "1                               Restaurants, Italian  \n",
       "2  Nightlife, Arts & Entertainment, Bars, Strip C...  \n",
       "3  Nightlife, Arts & Entertainment, Bars, Strip C...  \n",
       "4  Nightlife, Bars, Polish, Modern European, Rest...  "
      ]
     },
     "execution_count": 83,
     "metadata": {},
     "output_type": "execute_result"
    }
   ],
   "source": [
    "twobiz_reviews.head()"
   ]
  },
  {
   "cell_type": "code",
   "execution_count": 84,
   "metadata": {},
   "outputs": [],
   "source": [
    "# Create the target column--True for Nightlife businesses, and False otherwise\n",
    "twobiz_reviews['target'] = twobiz_reviews.apply(lambda x: 'Nightlife' in x['categories'],axis=1)"
   ]
  },
  {
   "cell_type": "code",
   "execution_count": 85,
   "metadata": {},
   "outputs": [],
   "source": [
    "## Now pull out each class of reviews separately, \n",
    "## so we can create class-balanced samples for training\n",
    "nightlife = twobiz_reviews[twobiz_reviews.apply(lambda x: 'Nightlife' in x['categories'], axis=1)]\n",
    "restaurants = twobiz_reviews[twobiz_reviews.apply(lambda x: 'Restaurants' in x['categories'], axis=1)]"
   ]
  },
  {
   "cell_type": "code",
   "execution_count": 86,
   "metadata": {},
   "outputs": [],
   "source": [
    "nightlife_subset = nightlife.sample(frac=0.1, random_state=123)\n",
    "restaurant_subset = restaurants.sample(frac=0.021, random_state=123)"
   ]
  },
  {
   "cell_type": "code",
   "execution_count": 87,
   "metadata": {},
   "outputs": [],
   "source": [
    "nightlife_subset.to_pickle('../cache/nightlife_subset.pkl')\n",
    "restaurant_subset.to_pickle('../cache/restaurant_subset.pkl')"
   ]
  },
  {
   "cell_type": "code",
   "execution_count": 88,
   "metadata": {},
   "outputs": [],
   "source": [
    "nightlife_subset = pd.read_pickle('../cache/nightlife_subset.pkl')\n",
    "restaurant_subset = pd.read_pickle('../cache/restaurant_subset.pkl')"
   ]
  },
  {
   "cell_type": "code",
   "execution_count": 89,
   "metadata": {},
   "outputs": [],
   "source": [
    "combined = pd.concat([nightlife_subset, restaurant_subset])"
   ]
  },
  {
   "cell_type": "code",
   "execution_count": 90,
   "metadata": {},
   "outputs": [
    {
     "data": {
      "text/plain": [
       "(137, 6)"
      ]
     },
     "execution_count": 90,
     "metadata": {},
     "output_type": "execute_result"
    }
   ],
   "source": [
    "combined.shape"
   ]
  },
  {
   "cell_type": "code",
   "execution_count": 91,
   "metadata": {},
   "outputs": [
    {
     "data": {
      "text/html": [
       "<div>\n",
       "<style scoped>\n",
       "    .dataframe tbody tr th:only-of-type {\n",
       "        vertical-align: middle;\n",
       "    }\n",
       "\n",
       "    .dataframe tbody tr th {\n",
       "        vertical-align: top;\n",
       "    }\n",
       "\n",
       "    .dataframe thead th {\n",
       "        text-align: right;\n",
       "    }\n",
       "</style>\n",
       "<table border=\"1\" class=\"dataframe\">\n",
       "  <thead>\n",
       "    <tr style=\"text-align: right;\">\n",
       "      <th></th>\n",
       "      <th>business_id</th>\n",
       "      <th>name</th>\n",
       "      <th>stars_y</th>\n",
       "      <th>text</th>\n",
       "      <th>categories</th>\n",
       "      <th>target</th>\n",
       "    </tr>\n",
       "  </thead>\n",
       "  <tbody>\n",
       "    <tr>\n",
       "      <th>1220</th>\n",
       "      <td>fu8ZdJMcX6GSVf3BbWOsgg</td>\n",
       "      <td>Fuego Cantina</td>\n",
       "      <td>4.0</td>\n",
       "      <td>I want to give 5 to help out the Yelp score,  ...</td>\n",
       "      <td>Nightlife, Diners, Sports Bars, Restaurants, B...</td>\n",
       "      <td>True</td>\n",
       "    </tr>\n",
       "    <tr>\n",
       "      <th>621</th>\n",
       "      <td>ZCsvwa_dsqNB8d8tYHPdjw</td>\n",
       "      <td>Sir Edmond Halley's</td>\n",
       "      <td>4.0</td>\n",
       "      <td>This random hole in the wall is located in the...</td>\n",
       "      <td>Restaurants, Pubs, Bars, Fish &amp; Chips, Nightlife</td>\n",
       "      <td>True</td>\n",
       "    </tr>\n",
       "    <tr>\n",
       "      <th>1581</th>\n",
       "      <td>SVGApDPNdpFlEjwRQThCxA</td>\n",
       "      <td>Juan's Flaming Fajitas &amp; Cantina</td>\n",
       "      <td>5.0</td>\n",
       "      <td>Every time I come back to visit vegas Juans is...</td>\n",
       "      <td>Nightlife, Restaurants, Bars, Mexican</td>\n",
       "      <td>True</td>\n",
       "    </tr>\n",
       "    <tr>\n",
       "      <th>2393</th>\n",
       "      <td>4hG2j_ibsNblDgqei05U_g</td>\n",
       "      <td>Social House</td>\n",
       "      <td>2.0</td>\n",
       "      <td>We knew we wanted ramen while in Vegas (hot so...</td>\n",
       "      <td>Restaurants, Lounges, Sushi Bars, Japanese, Ni...</td>\n",
       "      <td>True</td>\n",
       "    </tr>\n",
       "    <tr>\n",
       "      <th>712</th>\n",
       "      <td>-RC3XAvgvb-vwS3JtYPRHg</td>\n",
       "      <td>Hà</td>\n",
       "      <td>4.0</td>\n",
       "      <td>Amazing little joint with great service.  Go f...</td>\n",
       "      <td>Nightlife, Restaurants, Bars, Asian Fusion, Vi...</td>\n",
       "      <td>True</td>\n",
       "    </tr>\n",
       "    <tr>\n",
       "      <th>1693</th>\n",
       "      <td>guFIqSvxlwQnFfe301wg3A</td>\n",
       "      <td>Duggan's Brewery</td>\n",
       "      <td>4.0</td>\n",
       "      <td>Had a nice date here with the bae on Friday ni...</td>\n",
       "      <td>Nightlife, Breweries, Food, Pubs, Bars, Canadi...</td>\n",
       "      <td>True</td>\n",
       "    </tr>\n",
       "    <tr>\n",
       "      <th>2102</th>\n",
       "      <td>8zN3nV0zbtE377_XhlvabA</td>\n",
       "      <td>Jolie's Place</td>\n",
       "      <td>5.0</td>\n",
       "      <td>Excellent service at the bar and when I ordere...</td>\n",
       "      <td>Restaurants, Bars, Sports Bars, Karaoke, Night...</td>\n",
       "      <td>True</td>\n",
       "    </tr>\n",
       "    <tr>\n",
       "      <th>1179</th>\n",
       "      <td>bjzFOyHG4Ux1CPCIk-b_5A</td>\n",
       "      <td>NoDa 101</td>\n",
       "      <td>3.0</td>\n",
       "      <td>Stopped in here with some coworkers for a coup...</td>\n",
       "      <td>Restaurants, American (Traditional), Nightlife...</td>\n",
       "      <td>True</td>\n",
       "    </tr>\n",
       "    <tr>\n",
       "      <th>1786</th>\n",
       "      <td>H8qlBw1YaxMsItfz25-AyA</td>\n",
       "      <td>John Cutter</td>\n",
       "      <td>1.0</td>\n",
       "      <td>UPDATE:  sent an email to Kristy Morrison, Gen...</td>\n",
       "      <td>Nightlife, American (New), Burgers, Bars, Rest...</td>\n",
       "      <td>True</td>\n",
       "    </tr>\n",
       "    <tr>\n",
       "      <th>1310</th>\n",
       "      <td>qTmuW0C9XXuxWwumvn89sw</td>\n",
       "      <td>The Mac King Comedy Magic Show</td>\n",
       "      <td>5.0</td>\n",
       "      <td>It was a very funny and entertaining family fr...</td>\n",
       "      <td>Nightlife, Comedy Clubs, Adult Entertainment, ...</td>\n",
       "      <td>True</td>\n",
       "    </tr>\n",
       "    <tr>\n",
       "      <th>1550</th>\n",
       "      <td>SVGApDPNdpFlEjwRQThCxA</td>\n",
       "      <td>Juan's Flaming Fajitas &amp; Cantina</td>\n",
       "      <td>5.0</td>\n",
       "      <td>Juan's is ALWAYS busy because it's ALWAYS good...</td>\n",
       "      <td>Nightlife, Restaurants, Bars, Mexican</td>\n",
       "      <td>True</td>\n",
       "    </tr>\n",
       "    <tr>\n",
       "      <th>1785</th>\n",
       "      <td>H8qlBw1YaxMsItfz25-AyA</td>\n",
       "      <td>John Cutter</td>\n",
       "      <td>1.0</td>\n",
       "      <td>This place is Horrible! All staff seem to be o...</td>\n",
       "      <td>Nightlife, American (New), Burgers, Bars, Rest...</td>\n",
       "      <td>True</td>\n",
       "    </tr>\n",
       "    <tr>\n",
       "      <th>486</th>\n",
       "      <td>anzCdD5eIEHwydTpXhLlUA</td>\n",
       "      <td>Happy Dog</td>\n",
       "      <td>5.0</td>\n",
       "      <td>people either love it or hate it. hot dogs wit...</td>\n",
       "      <td>Nightlife, Music Venues, Arts &amp; Entertainment,...</td>\n",
       "      <td>True</td>\n",
       "    </tr>\n",
       "    <tr>\n",
       "      <th>1018</th>\n",
       "      <td>k-drEjxKmfqllwfY90STfA</td>\n",
       "      <td>Cantina 1511</td>\n",
       "      <td>3.0</td>\n",
       "      <td>Did a family style dinner for a wedding rehear...</td>\n",
       "      <td>Nightlife, Breakfast &amp; Brunch, Bars, Latin Ame...</td>\n",
       "      <td>True</td>\n",
       "    </tr>\n",
       "    <tr>\n",
       "      <th>797</th>\n",
       "      <td>XXW_OFaYQkkGOGniujZFHg</td>\n",
       "      <td>The Peppermill Restaurant &amp; Fireside Lounge</td>\n",
       "      <td>4.0</td>\n",
       "      <td>Miniskirts and objectification are never out o...</td>\n",
       "      <td>Nightlife, Lounges, Restaurants, Bars, America...</td>\n",
       "      <td>True</td>\n",
       "    </tr>\n",
       "    <tr>\n",
       "      <th>460</th>\n",
       "      <td>yt1C94WXeUokPsjyqWWaiQ</td>\n",
       "      <td>Caribbean Palm - Scottsdale</td>\n",
       "      <td>3.0</td>\n",
       "      <td>I think Caribbean Palm has potential.  The men...</td>\n",
       "      <td>Restaurants, Seafood, Bars, Diners, Caribbean,...</td>\n",
       "      <td>True</td>\n",
       "    </tr>\n",
       "    <tr>\n",
       "      <th>229</th>\n",
       "      <td>XZ3mhYC1L-0wK8N725I3Ig</td>\n",
       "      <td>Roxbury</td>\n",
       "      <td>2.0</td>\n",
       "      <td>WARNING: MY PHONE WAS STOLEN HERE ON SATURDAY ...</td>\n",
       "      <td>Nightlife, Bars, Dance Clubs</td>\n",
       "      <td>True</td>\n",
       "    </tr>\n",
       "    <tr>\n",
       "      <th>833</th>\n",
       "      <td>XXW_OFaYQkkGOGniujZFHg</td>\n",
       "      <td>The Peppermill Restaurant &amp; Fireside Lounge</td>\n",
       "      <td>4.0</td>\n",
       "      <td>Solidly good quality food. One of the few thin...</td>\n",
       "      <td>Nightlife, Lounges, Restaurants, Bars, America...</td>\n",
       "      <td>True</td>\n",
       "    </tr>\n",
       "    <tr>\n",
       "      <th>668</th>\n",
       "      <td>AWaxaKm_YgTkxbW8kjsmdg</td>\n",
       "      <td>Moe's Original Bar B Que</td>\n",
       "      <td>4.0</td>\n",
       "      <td>Bought two pulled pork sandwiches from Moe's. ...</td>\n",
       "      <td>Restaurants, Caterers, Sandwiches, Barbeque, S...</td>\n",
       "      <td>True</td>\n",
       "    </tr>\n",
       "    <tr>\n",
       "      <th>637</th>\n",
       "      <td>oFHvr1cAktvU-bQgrl4aPw</td>\n",
       "      <td>The Coronado PHX</td>\n",
       "      <td>5.0</td>\n",
       "      <td>I am definitely not someone who actively seeks...</td>\n",
       "      <td>Nightlife, American (New), Restaurants, Vegan,...</td>\n",
       "      <td>True</td>\n",
       "    </tr>\n",
       "    <tr>\n",
       "      <th>1553</th>\n",
       "      <td>SVGApDPNdpFlEjwRQThCxA</td>\n",
       "      <td>Juan's Flaming Fajitas &amp; Cantina</td>\n",
       "      <td>5.0</td>\n",
       "      <td>Guarantee you will leave with a full and happy...</td>\n",
       "      <td>Nightlife, Restaurants, Bars, Mexican</td>\n",
       "      <td>True</td>\n",
       "    </tr>\n",
       "    <tr>\n",
       "      <th>728</th>\n",
       "      <td>iXTl2p0w4Fnv8wZNeOEbhw</td>\n",
       "      <td>Chili's</td>\n",
       "      <td>2.0</td>\n",
       "      <td>The overall experience was lower than I rated ...</td>\n",
       "      <td>Restaurants, Tex-Mex, American (Traditional), ...</td>\n",
       "      <td>True</td>\n",
       "    </tr>\n",
       "    <tr>\n",
       "      <th>1577</th>\n",
       "      <td>SVGApDPNdpFlEjwRQThCxA</td>\n",
       "      <td>Juan's Flaming Fajitas &amp; Cantina</td>\n",
       "      <td>5.0</td>\n",
       "      <td>The best shrimp cocktails EVER! I was in Vegas...</td>\n",
       "      <td>Nightlife, Restaurants, Bars, Mexican</td>\n",
       "      <td>True</td>\n",
       "    </tr>\n",
       "    <tr>\n",
       "      <th>644</th>\n",
       "      <td>oFHvr1cAktvU-bQgrl4aPw</td>\n",
       "      <td>The Coronado PHX</td>\n",
       "      <td>5.0</td>\n",
       "      <td>I've been here four times and four times I've ...</td>\n",
       "      <td>Nightlife, American (New), Restaurants, Vegan,...</td>\n",
       "      <td>True</td>\n",
       "    </tr>\n",
       "    <tr>\n",
       "      <th>1114</th>\n",
       "      <td>S5bNE4Pmin8OQUMOFod8bQ</td>\n",
       "      <td>Ciao Wine Bar</td>\n",
       "      <td>5.0</td>\n",
       "      <td>I admit that I haven't tried ALL the italian r...</td>\n",
       "      <td>Nightlife, Italian, Restaurants, Wine Bars, Bars</td>\n",
       "      <td>True</td>\n",
       "    </tr>\n",
       "    <tr>\n",
       "      <th>136</th>\n",
       "      <td>IkilcGqiN3_sQk-VvnoAeg</td>\n",
       "      <td>Le Vin Papillon</td>\n",
       "      <td>5.0</td>\n",
       "      <td>We came in for wine before our Joe Beef reserv...</td>\n",
       "      <td>Nightlife, Wine Bars, Restaurants, Canadian (N...</td>\n",
       "      <td>True</td>\n",
       "    </tr>\n",
       "    <tr>\n",
       "      <th>360</th>\n",
       "      <td>w_D_T_N1PHIrB3eX7x_kVg</td>\n",
       "      <td>Bird Bar</td>\n",
       "      <td>2.0</td>\n",
       "      <td>Trendy looking place which will attract you to...</td>\n",
       "      <td>Nightlife, Restaurants, Chicken Wings, Chicken...</td>\n",
       "      <td>True</td>\n",
       "    </tr>\n",
       "    <tr>\n",
       "      <th>623</th>\n",
       "      <td>ZCsvwa_dsqNB8d8tYHPdjw</td>\n",
       "      <td>Sir Edmond Halley's</td>\n",
       "      <td>4.0</td>\n",
       "      <td>Most people would think a pub would be a bit s...</td>\n",
       "      <td>Restaurants, Pubs, Bars, Fish &amp; Chips, Nightlife</td>\n",
       "      <td>True</td>\n",
       "    </tr>\n",
       "    <tr>\n",
       "      <th>2099</th>\n",
       "      <td>8zN3nV0zbtE377_XhlvabA</td>\n",
       "      <td>Jolie's Place</td>\n",
       "      <td>3.0</td>\n",
       "      <td>My first time tonight - pretty good food. Serv...</td>\n",
       "      <td>Restaurants, Bars, Sports Bars, Karaoke, Night...</td>\n",
       "      <td>True</td>\n",
       "    </tr>\n",
       "    <tr>\n",
       "      <th>639</th>\n",
       "      <td>oFHvr1cAktvU-bQgrl4aPw</td>\n",
       "      <td>The Coronado PHX</td>\n",
       "      <td>5.0</td>\n",
       "      <td>Now, you guys must know we love your food, sin...</td>\n",
       "      <td>Nightlife, American (New), Restaurants, Vegan,...</td>\n",
       "      <td>True</td>\n",
       "    </tr>\n",
       "    <tr>\n",
       "      <th>...</th>\n",
       "      <td>...</td>\n",
       "      <td>...</td>\n",
       "      <td>...</td>\n",
       "      <td>...</td>\n",
       "      <td>...</td>\n",
       "      <td>...</td>\n",
       "    </tr>\n",
       "    <tr>\n",
       "      <th>576</th>\n",
       "      <td>O-uIEuv7JLUHajkemx_sVw</td>\n",
       "      <td>Beerbistro</td>\n",
       "      <td>5.0</td>\n",
       "      <td>I really wish they would open up a place in Sa...</td>\n",
       "      <td>Restaurants, Bistros, Bars, Beer Bar, Pubs, Ni...</td>\n",
       "      <td>True</td>\n",
       "    </tr>\n",
       "    <tr>\n",
       "      <th>2372</th>\n",
       "      <td>Cl-xl1vTUwHeaGgBxzdTRA</td>\n",
       "      <td>Chow Mein House</td>\n",
       "      <td>1.0</td>\n",
       "      <td>The food is mediocre. Pad Thai is plain and si...</td>\n",
       "      <td>Restaurants, Chinese</td>\n",
       "      <td>False</td>\n",
       "    </tr>\n",
       "    <tr>\n",
       "      <th>325</th>\n",
       "      <td>G_1M9_yX5ThAROn1zKKpQg</td>\n",
       "      <td>Panda Express</td>\n",
       "      <td>3.0</td>\n",
       "      <td>I'm amazed I've never reviewed this location. ...</td>\n",
       "      <td>Restaurants, Fast Food, Chinese</td>\n",
       "      <td>False</td>\n",
       "    </tr>\n",
       "    <tr>\n",
       "      <th>1801</th>\n",
       "      <td>vAT8p56wTwzD-A-cxkMRVQ</td>\n",
       "      <td>Dairy Queen</td>\n",
       "      <td>5.0</td>\n",
       "      <td>Went to DQ last night. It's the same as it alw...</td>\n",
       "      <td>Restaurants, Burgers, Food, Ice Cream &amp; Frozen...</td>\n",
       "      <td>False</td>\n",
       "    </tr>\n",
       "    <tr>\n",
       "      <th>1048</th>\n",
       "      <td>LYWbyu1EQM2o5hwHG5_Ldg</td>\n",
       "      <td>RM Seafood</td>\n",
       "      <td>1.0</td>\n",
       "      <td>Zero not even 1 star wrorst experience ever . ...</td>\n",
       "      <td>Restaurants, Sushi Bars, Seafood</td>\n",
       "      <td>False</td>\n",
       "    </tr>\n",
       "    <tr>\n",
       "      <th>1604</th>\n",
       "      <td>dtqT51H8Q8mIvrLylVuiZg</td>\n",
       "      <td>OMG Sushi</td>\n",
       "      <td>3.0</td>\n",
       "      <td>The fish is fresh, but that's about all they h...</td>\n",
       "      <td>Restaurants, Sushi Bars</td>\n",
       "      <td>False</td>\n",
       "    </tr>\n",
       "    <tr>\n",
       "      <th>47</th>\n",
       "      <td>4B8VnRAstRRshxiUzm9yPw</td>\n",
       "      <td>Maiko Sushi - DDO</td>\n",
       "      <td>2.0</td>\n",
       "      <td>Great ambiance but quite slow service. We wait...</td>\n",
       "      <td>Restaurants, Sushi Bars, Japanese</td>\n",
       "      <td>False</td>\n",
       "    </tr>\n",
       "    <tr>\n",
       "      <th>295</th>\n",
       "      <td>_j2EtQtgLuXGRBfbM5YwZA</td>\n",
       "      <td>Noodle Asia</td>\n",
       "      <td>4.0</td>\n",
       "      <td>One of the better chinese restaurants on the s...</td>\n",
       "      <td>Restaurants, Asian Fusion, Chinese, Dim Sum, N...</td>\n",
       "      <td>False</td>\n",
       "    </tr>\n",
       "    <tr>\n",
       "      <th>254</th>\n",
       "      <td>DVfCbJhJUDWRlUfrKzaKOA</td>\n",
       "      <td>Sam Woo BBQ Restaurant</td>\n",
       "      <td>5.0</td>\n",
       "      <td>Have been buying Chinese BBQ pork here for alm...</td>\n",
       "      <td>Restaurants, Noodles, Barbeque, Chinese</td>\n",
       "      <td>False</td>\n",
       "    </tr>\n",
       "    <tr>\n",
       "      <th>2555</th>\n",
       "      <td>PNzir9TtJAD7U41GwR98-w</td>\n",
       "      <td>Line Thai Restaurant</td>\n",
       "      <td>5.0</td>\n",
       "      <td>We go to Line Thai often and love the food.  T...</td>\n",
       "      <td>Restaurants, Thai</td>\n",
       "      <td>False</td>\n",
       "    </tr>\n",
       "    <tr>\n",
       "      <th>725</th>\n",
       "      <td>evR8OUcXO4yB5sYDBuwo3w</td>\n",
       "      <td>My Sister's Kitchen</td>\n",
       "      <td>4.0</td>\n",
       "      <td>An overnight out-of-state guest of mine actual...</td>\n",
       "      <td>Restaurants, American (Traditional), Diners, B...</td>\n",
       "      <td>False</td>\n",
       "    </tr>\n",
       "    <tr>\n",
       "      <th>1793</th>\n",
       "      <td>yRKrMWQxQaMeR18s5ajcYw</td>\n",
       "      <td>Arby's</td>\n",
       "      <td>1.0</td>\n",
       "      <td>Nothing like paying $10+ for a container of cu...</td>\n",
       "      <td>Restaurants, Sandwiches, Fast Food</td>\n",
       "      <td>False</td>\n",
       "    </tr>\n",
       "    <tr>\n",
       "      <th>2160</th>\n",
       "      <td>PFAvETr4Vf6UY548TWvhFA</td>\n",
       "      <td>Koi Sakana Ramen House</td>\n",
       "      <td>4.0</td>\n",
       "      <td>We ordered the spicy and house ramen and the g...</td>\n",
       "      <td>Restaurants, Canadian (New), Japanese, Ramen</td>\n",
       "      <td>False</td>\n",
       "    </tr>\n",
       "    <tr>\n",
       "      <th>262</th>\n",
       "      <td>DVfCbJhJUDWRlUfrKzaKOA</td>\n",
       "      <td>Sam Woo BBQ Restaurant</td>\n",
       "      <td>2.0</td>\n",
       "      <td>food is ok and the service is bad. The roast d...</td>\n",
       "      <td>Restaurants, Noodles, Barbeque, Chinese</td>\n",
       "      <td>False</td>\n",
       "    </tr>\n",
       "    <tr>\n",
       "      <th>182</th>\n",
       "      <td>NpFtNc51LaZr8Y5_o2wRaw</td>\n",
       "      <td>Texas Roadhouse</td>\n",
       "      <td>5.0</td>\n",
       "      <td>We had the prime rib it was very good, not lik...</td>\n",
       "      <td>Restaurants, American (Traditional), Steakhous...</td>\n",
       "      <td>False</td>\n",
       "    </tr>\n",
       "    <tr>\n",
       "      <th>1947</th>\n",
       "      <td>ZKlprQqBWOQnQZblJfVPwg</td>\n",
       "      <td>Deli Roma</td>\n",
       "      <td>5.0</td>\n",
       "      <td>Only place in the area that makes an authentic...</td>\n",
       "      <td>Restaurants, Delis</td>\n",
       "      <td>False</td>\n",
       "    </tr>\n",
       "    <tr>\n",
       "      <th>1800</th>\n",
       "      <td>5UK1KtbB1dHTCo0LNDVslA</td>\n",
       "      <td>Gus's Sir Beef Restaurant</td>\n",
       "      <td>2.0</td>\n",
       "      <td>The place looks very run down. In fact I would...</td>\n",
       "      <td>Restaurants, Southern</td>\n",
       "      <td>False</td>\n",
       "    </tr>\n",
       "    <tr>\n",
       "      <th>2365</th>\n",
       "      <td>nW27OMU438BjZF64lj97sQ</td>\n",
       "      <td>Pho 90</td>\n",
       "      <td>1.0</td>\n",
       "      <td>Horrible language barrier here. Ordered P4 and...</td>\n",
       "      <td>Restaurants, Vietnamese, Food, Sandwiches, Cof...</td>\n",
       "      <td>False</td>\n",
       "    </tr>\n",
       "    <tr>\n",
       "      <th>816</th>\n",
       "      <td>XXW_OFaYQkkGOGniujZFHg</td>\n",
       "      <td>The Peppermill Restaurant &amp; Fireside Lounge</td>\n",
       "      <td>4.0</td>\n",
       "      <td>Drinks in lounge are great. Always a good choi...</td>\n",
       "      <td>Nightlife, Lounges, Restaurants, Bars, America...</td>\n",
       "      <td>True</td>\n",
       "    </tr>\n",
       "    <tr>\n",
       "      <th>743</th>\n",
       "      <td>fmke0ozj83GAebHEdbnlfw</td>\n",
       "      <td>Zoes Kitchen</td>\n",
       "      <td>2.0</td>\n",
       "      <td>While everything is fresh, I am still not impr...</td>\n",
       "      <td>Restaurants, Kebab, Greek, American (New), Med...</td>\n",
       "      <td>False</td>\n",
       "    </tr>\n",
       "    <tr>\n",
       "      <th>2280</th>\n",
       "      <td>3TrY8CpsnvnTTYigx2R4yg</td>\n",
       "      <td>Prantl's Bakery</td>\n",
       "      <td>2.0</td>\n",
       "      <td>Honestly I just don't get the how everyone is ...</td>\n",
       "      <td>Restaurants, Desserts, Bakeries, Food</td>\n",
       "      <td>False</td>\n",
       "    </tr>\n",
       "    <tr>\n",
       "      <th>446</th>\n",
       "      <td>zkk1ieQQnWtu9TLJukXC0g</td>\n",
       "      <td>Boar N Wing Sports Grill</td>\n",
       "      <td>1.0</td>\n",
       "      <td>Upkeep is kept to a minimum. Bartender is also...</td>\n",
       "      <td>Restaurants, American (Traditional), Nightlife...</td>\n",
       "      <td>True</td>\n",
       "    </tr>\n",
       "    <tr>\n",
       "      <th>1977</th>\n",
       "      <td>4d2COvI67Ee6SCMP7UnImw</td>\n",
       "      <td>Mr Greek Mediterranean Grill</td>\n",
       "      <td>3.0</td>\n",
       "      <td>The meal is decent. We ordered a chicken souvl...</td>\n",
       "      <td>Restaurants, Mediterranean, Greek</td>\n",
       "      <td>False</td>\n",
       "    </tr>\n",
       "    <tr>\n",
       "      <th>88</th>\n",
       "      <td>9vub2LM7Djy8P-LPumcLXA</td>\n",
       "      <td>Tacos Chiwas</td>\n",
       "      <td>5.0</td>\n",
       "      <td>Tortillas! Las tortillas are delicious!! What ...</td>\n",
       "      <td>Restaurants, Latin American, Mexican, Tacos</td>\n",
       "      <td>False</td>\n",
       "    </tr>\n",
       "    <tr>\n",
       "      <th>948</th>\n",
       "      <td>0G1y7uV7w1D2uziS4Lt_Dw</td>\n",
       "      <td>Chapalas Mexican Restaurants</td>\n",
       "      <td>5.0</td>\n",
       "      <td>i would like to give chapala mexican restauran...</td>\n",
       "      <td>Restaurants, Mexican</td>\n",
       "      <td>False</td>\n",
       "    </tr>\n",
       "    <tr>\n",
       "      <th>2454</th>\n",
       "      <td>Ul6JwluSTm12PVDIqnNaTg</td>\n",
       "      <td>Kaya</td>\n",
       "      <td>3.0</td>\n",
       "      <td>Not bad but not great.\\n\\nThe decor was cute a...</td>\n",
       "      <td>Restaurants, Nightlife, Bars, Latin American, ...</td>\n",
       "      <td>True</td>\n",
       "    </tr>\n",
       "    <tr>\n",
       "      <th>2702</th>\n",
       "      <td>faPVqws-x-5k2CQKDNtHxw</td>\n",
       "      <td>Yardbird Southern Table &amp; Bar</td>\n",
       "      <td>5.0</td>\n",
       "      <td>Wow. What can I say.. been here once and didn'...</td>\n",
       "      <td>Restaurants, American (New), Southern</td>\n",
       "      <td>False</td>\n",
       "    </tr>\n",
       "    <tr>\n",
       "      <th>849</th>\n",
       "      <td>XXW_OFaYQkkGOGniujZFHg</td>\n",
       "      <td>The Peppermill Restaurant &amp; Fireside Lounge</td>\n",
       "      <td>4.0</td>\n",
       "      <td>lived in Vegas for 7 years and this was the fi...</td>\n",
       "      <td>Nightlife, Lounges, Restaurants, Bars, America...</td>\n",
       "      <td>True</td>\n",
       "    </tr>\n",
       "    <tr>\n",
       "      <th>1823</th>\n",
       "      <td>sOYsxYYFl03PhHmz_rBDZQ</td>\n",
       "      <td>The Sparklings</td>\n",
       "      <td>4.0</td>\n",
       "      <td>Was very curious to see what this place was al...</td>\n",
       "      <td>Restaurants, American (New)</td>\n",
       "      <td>False</td>\n",
       "    </tr>\n",
       "    <tr>\n",
       "      <th>1370</th>\n",
       "      <td>rhKzcgMm8CDhu7RZz_XxqQ</td>\n",
       "      <td>Sahara Middle Eastern Restaurant</td>\n",
       "      <td>4.0</td>\n",
       "      <td>A friend of mine and I tried this place for th...</td>\n",
       "      <td>Restaurants, Middle Eastern</td>\n",
       "      <td>False</td>\n",
       "    </tr>\n",
       "  </tbody>\n",
       "</table>\n",
       "<p>137 rows × 6 columns</p>\n",
       "</div>"
      ],
      "text/plain": [
       "                 business_id                                         name  \\\n",
       "1220  fu8ZdJMcX6GSVf3BbWOsgg                                Fuego Cantina   \n",
       "621   ZCsvwa_dsqNB8d8tYHPdjw                          Sir Edmond Halley's   \n",
       "1581  SVGApDPNdpFlEjwRQThCxA             Juan's Flaming Fajitas & Cantina   \n",
       "2393  4hG2j_ibsNblDgqei05U_g                                 Social House   \n",
       "712   -RC3XAvgvb-vwS3JtYPRHg                                           Hà   \n",
       "1693  guFIqSvxlwQnFfe301wg3A                             Duggan's Brewery   \n",
       "2102  8zN3nV0zbtE377_XhlvabA                                Jolie's Place   \n",
       "1179  bjzFOyHG4Ux1CPCIk-b_5A                                     NoDa 101   \n",
       "1786  H8qlBw1YaxMsItfz25-AyA                                  John Cutter   \n",
       "1310  qTmuW0C9XXuxWwumvn89sw               The Mac King Comedy Magic Show   \n",
       "1550  SVGApDPNdpFlEjwRQThCxA             Juan's Flaming Fajitas & Cantina   \n",
       "1785  H8qlBw1YaxMsItfz25-AyA                                  John Cutter   \n",
       "486   anzCdD5eIEHwydTpXhLlUA                                    Happy Dog   \n",
       "1018  k-drEjxKmfqllwfY90STfA                                 Cantina 1511   \n",
       "797   XXW_OFaYQkkGOGniujZFHg  The Peppermill Restaurant & Fireside Lounge   \n",
       "460   yt1C94WXeUokPsjyqWWaiQ                  Caribbean Palm - Scottsdale   \n",
       "229   XZ3mhYC1L-0wK8N725I3Ig                                      Roxbury   \n",
       "833   XXW_OFaYQkkGOGniujZFHg  The Peppermill Restaurant & Fireside Lounge   \n",
       "668   AWaxaKm_YgTkxbW8kjsmdg                     Moe's Original Bar B Que   \n",
       "637   oFHvr1cAktvU-bQgrl4aPw                             The Coronado PHX   \n",
       "1553  SVGApDPNdpFlEjwRQThCxA             Juan's Flaming Fajitas & Cantina   \n",
       "728   iXTl2p0w4Fnv8wZNeOEbhw                                      Chili's   \n",
       "1577  SVGApDPNdpFlEjwRQThCxA             Juan's Flaming Fajitas & Cantina   \n",
       "644   oFHvr1cAktvU-bQgrl4aPw                             The Coronado PHX   \n",
       "1114  S5bNE4Pmin8OQUMOFod8bQ                                Ciao Wine Bar   \n",
       "136   IkilcGqiN3_sQk-VvnoAeg                              Le Vin Papillon   \n",
       "360   w_D_T_N1PHIrB3eX7x_kVg                                     Bird Bar   \n",
       "623   ZCsvwa_dsqNB8d8tYHPdjw                          Sir Edmond Halley's   \n",
       "2099  8zN3nV0zbtE377_XhlvabA                                Jolie's Place   \n",
       "639   oFHvr1cAktvU-bQgrl4aPw                             The Coronado PHX   \n",
       "...                      ...                                          ...   \n",
       "576   O-uIEuv7JLUHajkemx_sVw                                   Beerbistro   \n",
       "2372  Cl-xl1vTUwHeaGgBxzdTRA                              Chow Mein House   \n",
       "325   G_1M9_yX5ThAROn1zKKpQg                                Panda Express   \n",
       "1801  vAT8p56wTwzD-A-cxkMRVQ                                  Dairy Queen   \n",
       "1048  LYWbyu1EQM2o5hwHG5_Ldg                                   RM Seafood   \n",
       "1604  dtqT51H8Q8mIvrLylVuiZg                                    OMG Sushi   \n",
       "47    4B8VnRAstRRshxiUzm9yPw                            Maiko Sushi - DDO   \n",
       "295   _j2EtQtgLuXGRBfbM5YwZA                                  Noodle Asia   \n",
       "254   DVfCbJhJUDWRlUfrKzaKOA                       Sam Woo BBQ Restaurant   \n",
       "2555  PNzir9TtJAD7U41GwR98-w                         Line Thai Restaurant   \n",
       "725   evR8OUcXO4yB5sYDBuwo3w                          My Sister's Kitchen   \n",
       "1793  yRKrMWQxQaMeR18s5ajcYw                                       Arby's   \n",
       "2160  PFAvETr4Vf6UY548TWvhFA                       Koi Sakana Ramen House   \n",
       "262   DVfCbJhJUDWRlUfrKzaKOA                       Sam Woo BBQ Restaurant   \n",
       "182   NpFtNc51LaZr8Y5_o2wRaw                              Texas Roadhouse   \n",
       "1947  ZKlprQqBWOQnQZblJfVPwg                                    Deli Roma   \n",
       "1800  5UK1KtbB1dHTCo0LNDVslA                    Gus's Sir Beef Restaurant   \n",
       "2365  nW27OMU438BjZF64lj97sQ                                       Pho 90   \n",
       "816   XXW_OFaYQkkGOGniujZFHg  The Peppermill Restaurant & Fireside Lounge   \n",
       "743   fmke0ozj83GAebHEdbnlfw                                 Zoes Kitchen   \n",
       "2280  3TrY8CpsnvnTTYigx2R4yg                              Prantl's Bakery   \n",
       "446   zkk1ieQQnWtu9TLJukXC0g                     Boar N Wing Sports Grill   \n",
       "1977  4d2COvI67Ee6SCMP7UnImw                 Mr Greek Mediterranean Grill   \n",
       "88    9vub2LM7Djy8P-LPumcLXA                                 Tacos Chiwas   \n",
       "948   0G1y7uV7w1D2uziS4Lt_Dw                 Chapalas Mexican Restaurants   \n",
       "2454  Ul6JwluSTm12PVDIqnNaTg                                         Kaya   \n",
       "2702  faPVqws-x-5k2CQKDNtHxw                Yardbird Southern Table & Bar   \n",
       "849   XXW_OFaYQkkGOGniujZFHg  The Peppermill Restaurant & Fireside Lounge   \n",
       "1823  sOYsxYYFl03PhHmz_rBDZQ                               The Sparklings   \n",
       "1370  rhKzcgMm8CDhu7RZz_XxqQ             Sahara Middle Eastern Restaurant   \n",
       "\n",
       "      stars_y                                               text  \\\n",
       "1220      4.0  I want to give 5 to help out the Yelp score,  ...   \n",
       "621       4.0  This random hole in the wall is located in the...   \n",
       "1581      5.0  Every time I come back to visit vegas Juans is...   \n",
       "2393      2.0  We knew we wanted ramen while in Vegas (hot so...   \n",
       "712       4.0  Amazing little joint with great service.  Go f...   \n",
       "1693      4.0  Had a nice date here with the bae on Friday ni...   \n",
       "2102      5.0  Excellent service at the bar and when I ordere...   \n",
       "1179      3.0  Stopped in here with some coworkers for a coup...   \n",
       "1786      1.0  UPDATE:  sent an email to Kristy Morrison, Gen...   \n",
       "1310      5.0  It was a very funny and entertaining family fr...   \n",
       "1550      5.0  Juan's is ALWAYS busy because it's ALWAYS good...   \n",
       "1785      1.0  This place is Horrible! All staff seem to be o...   \n",
       "486       5.0  people either love it or hate it. hot dogs wit...   \n",
       "1018      3.0  Did a family style dinner for a wedding rehear...   \n",
       "797       4.0  Miniskirts and objectification are never out o...   \n",
       "460       3.0  I think Caribbean Palm has potential.  The men...   \n",
       "229       2.0  WARNING: MY PHONE WAS STOLEN HERE ON SATURDAY ...   \n",
       "833       4.0  Solidly good quality food. One of the few thin...   \n",
       "668       4.0  Bought two pulled pork sandwiches from Moe's. ...   \n",
       "637       5.0  I am definitely not someone who actively seeks...   \n",
       "1553      5.0  Guarantee you will leave with a full and happy...   \n",
       "728       2.0  The overall experience was lower than I rated ...   \n",
       "1577      5.0  The best shrimp cocktails EVER! I was in Vegas...   \n",
       "644       5.0  I've been here four times and four times I've ...   \n",
       "1114      5.0  I admit that I haven't tried ALL the italian r...   \n",
       "136       5.0  We came in for wine before our Joe Beef reserv...   \n",
       "360       2.0  Trendy looking place which will attract you to...   \n",
       "623       4.0  Most people would think a pub would be a bit s...   \n",
       "2099      3.0  My first time tonight - pretty good food. Serv...   \n",
       "639       5.0  Now, you guys must know we love your food, sin...   \n",
       "...       ...                                                ...   \n",
       "576       5.0  I really wish they would open up a place in Sa...   \n",
       "2372      1.0  The food is mediocre. Pad Thai is plain and si...   \n",
       "325       3.0  I'm amazed I've never reviewed this location. ...   \n",
       "1801      5.0  Went to DQ last night. It's the same as it alw...   \n",
       "1048      1.0  Zero not even 1 star wrorst experience ever . ...   \n",
       "1604      3.0  The fish is fresh, but that's about all they h...   \n",
       "47        2.0  Great ambiance but quite slow service. We wait...   \n",
       "295       4.0  One of the better chinese restaurants on the s...   \n",
       "254       5.0  Have been buying Chinese BBQ pork here for alm...   \n",
       "2555      5.0  We go to Line Thai often and love the food.  T...   \n",
       "725       4.0  An overnight out-of-state guest of mine actual...   \n",
       "1793      1.0  Nothing like paying $10+ for a container of cu...   \n",
       "2160      4.0  We ordered the spicy and house ramen and the g...   \n",
       "262       2.0  food is ok and the service is bad. The roast d...   \n",
       "182       5.0  We had the prime rib it was very good, not lik...   \n",
       "1947      5.0  Only place in the area that makes an authentic...   \n",
       "1800      2.0  The place looks very run down. In fact I would...   \n",
       "2365      1.0  Horrible language barrier here. Ordered P4 and...   \n",
       "816       4.0  Drinks in lounge are great. Always a good choi...   \n",
       "743       2.0  While everything is fresh, I am still not impr...   \n",
       "2280      2.0  Honestly I just don't get the how everyone is ...   \n",
       "446       1.0  Upkeep is kept to a minimum. Bartender is also...   \n",
       "1977      3.0  The meal is decent. We ordered a chicken souvl...   \n",
       "88        5.0  Tortillas! Las tortillas are delicious!! What ...   \n",
       "948       5.0  i would like to give chapala mexican restauran...   \n",
       "2454      3.0  Not bad but not great.\\n\\nThe decor was cute a...   \n",
       "2702      5.0  Wow. What can I say.. been here once and didn'...   \n",
       "849       4.0  lived in Vegas for 7 years and this was the fi...   \n",
       "1823      4.0  Was very curious to see what this place was al...   \n",
       "1370      4.0  A friend of mine and I tried this place for th...   \n",
       "\n",
       "                                             categories  target  \n",
       "1220  Nightlife, Diners, Sports Bars, Restaurants, B...    True  \n",
       "621    Restaurants, Pubs, Bars, Fish & Chips, Nightlife    True  \n",
       "1581              Nightlife, Restaurants, Bars, Mexican    True  \n",
       "2393  Restaurants, Lounges, Sushi Bars, Japanese, Ni...    True  \n",
       "712   Nightlife, Restaurants, Bars, Asian Fusion, Vi...    True  \n",
       "1693  Nightlife, Breweries, Food, Pubs, Bars, Canadi...    True  \n",
       "2102  Restaurants, Bars, Sports Bars, Karaoke, Night...    True  \n",
       "1179  Restaurants, American (Traditional), Nightlife...    True  \n",
       "1786  Nightlife, American (New), Burgers, Bars, Rest...    True  \n",
       "1310  Nightlife, Comedy Clubs, Adult Entertainment, ...    True  \n",
       "1550              Nightlife, Restaurants, Bars, Mexican    True  \n",
       "1785  Nightlife, American (New), Burgers, Bars, Rest...    True  \n",
       "486   Nightlife, Music Venues, Arts & Entertainment,...    True  \n",
       "1018  Nightlife, Breakfast & Brunch, Bars, Latin Ame...    True  \n",
       "797   Nightlife, Lounges, Restaurants, Bars, America...    True  \n",
       "460   Restaurants, Seafood, Bars, Diners, Caribbean,...    True  \n",
       "229                        Nightlife, Bars, Dance Clubs    True  \n",
       "833   Nightlife, Lounges, Restaurants, Bars, America...    True  \n",
       "668   Restaurants, Caterers, Sandwiches, Barbeque, S...    True  \n",
       "637   Nightlife, American (New), Restaurants, Vegan,...    True  \n",
       "1553              Nightlife, Restaurants, Bars, Mexican    True  \n",
       "728   Restaurants, Tex-Mex, American (Traditional), ...    True  \n",
       "1577              Nightlife, Restaurants, Bars, Mexican    True  \n",
       "644   Nightlife, American (New), Restaurants, Vegan,...    True  \n",
       "1114   Nightlife, Italian, Restaurants, Wine Bars, Bars    True  \n",
       "136   Nightlife, Wine Bars, Restaurants, Canadian (N...    True  \n",
       "360   Nightlife, Restaurants, Chicken Wings, Chicken...    True  \n",
       "623    Restaurants, Pubs, Bars, Fish & Chips, Nightlife    True  \n",
       "2099  Restaurants, Bars, Sports Bars, Karaoke, Night...    True  \n",
       "639   Nightlife, American (New), Restaurants, Vegan,...    True  \n",
       "...                                                 ...     ...  \n",
       "576   Restaurants, Bistros, Bars, Beer Bar, Pubs, Ni...    True  \n",
       "2372                               Restaurants, Chinese   False  \n",
       "325                     Restaurants, Fast Food, Chinese   False  \n",
       "1801  Restaurants, Burgers, Food, Ice Cream & Frozen...   False  \n",
       "1048                   Restaurants, Sushi Bars, Seafood   False  \n",
       "1604                            Restaurants, Sushi Bars   False  \n",
       "47                    Restaurants, Sushi Bars, Japanese   False  \n",
       "295   Restaurants, Asian Fusion, Chinese, Dim Sum, N...   False  \n",
       "254             Restaurants, Noodles, Barbeque, Chinese   False  \n",
       "2555                                  Restaurants, Thai   False  \n",
       "725   Restaurants, American (Traditional), Diners, B...   False  \n",
       "1793                 Restaurants, Sandwiches, Fast Food   False  \n",
       "2160       Restaurants, Canadian (New), Japanese, Ramen   False  \n",
       "262             Restaurants, Noodles, Barbeque, Chinese   False  \n",
       "182   Restaurants, American (Traditional), Steakhous...   False  \n",
       "1947                                 Restaurants, Delis   False  \n",
       "1800                              Restaurants, Southern   False  \n",
       "2365  Restaurants, Vietnamese, Food, Sandwiches, Cof...   False  \n",
       "816   Nightlife, Lounges, Restaurants, Bars, America...    True  \n",
       "743   Restaurants, Kebab, Greek, American (New), Med...   False  \n",
       "2280              Restaurants, Desserts, Bakeries, Food   False  \n",
       "446   Restaurants, American (Traditional), Nightlife...    True  \n",
       "1977                  Restaurants, Mediterranean, Greek   False  \n",
       "88          Restaurants, Latin American, Mexican, Tacos   False  \n",
       "948                                Restaurants, Mexican   False  \n",
       "2454  Restaurants, Nightlife, Bars, Latin American, ...    True  \n",
       "2702              Restaurants, American (New), Southern   False  \n",
       "849   Nightlife, Lounges, Restaurants, Bars, America...    True  \n",
       "1823                        Restaurants, American (New)   False  \n",
       "1370                        Restaurants, Middle Eastern   False  \n",
       "\n",
       "[137 rows x 6 columns]"
      ]
     },
     "execution_count": 91,
     "metadata": {},
     "output_type": "execute_result"
    }
   ],
   "source": [
    "combined"
   ]
  },
  {
   "cell_type": "code",
   "execution_count": 92,
   "metadata": {},
   "outputs": [],
   "source": [
    "combined['target'] = combined.apply(lambda x: 'Nightlife' in x['categories'],axis=1)"
   ]
  },
  {
   "cell_type": "code",
   "execution_count": 93,
   "metadata": {},
   "outputs": [
    {
     "name": "stderr",
     "output_type": "stream",
     "text": [
      "/home/watts/anaconda3/envs/itv/lib/python3.6/site-packages/sklearn/model_selection/_split.py:2069: FutureWarning: From version 0.21, test_size will always complement train_size unless both are specified.\n",
      "  FutureWarning)\n"
     ]
    }
   ],
   "source": [
    "# Split into training and test data sets\n",
    "training_data, test_data = modsel.train_test_split(combined, train_size=0.7, random_state=123)"
   ]
  },
  {
   "cell_type": "code",
   "execution_count": 94,
   "metadata": {},
   "outputs": [],
   "source": [
    "# Represent the review text as a bag-of-words \n",
    "bow_transform = text.CountVectorizer()\n",
    "X_tr_bow = bow_transform.fit_transform(training_data['text'])"
   ]
  },
  {
   "cell_type": "code",
   "execution_count": 95,
   "metadata": {},
   "outputs": [],
   "source": [
    "X_te_bow = bow_transform.transform(test_data['text'])"
   ]
  },
  {
   "cell_type": "code",
   "execution_count": 96,
   "metadata": {},
   "outputs": [],
   "source": [
    "y_tr = training_data['target']\n",
    "y_te = test_data['target']"
   ]
  },
  {
   "cell_type": "code",
   "execution_count": 97,
   "metadata": {},
   "outputs": [],
   "source": [
    "# Create the tf-idf representation using the bag-of-words matrix\n",
    "tfidf_trfm = text.TfidfTransformer(norm=None)\n",
    "X_tr_tfidf = tfidf_trfm.fit_transform(X_tr_bow)"
   ]
  },
  {
   "cell_type": "code",
   "execution_count": 98,
   "metadata": {},
   "outputs": [],
   "source": [
    "X_te_tfidf = tfidf_trfm.transform(X_te_bow)\n"
   ]
  },
  {
   "cell_type": "code",
   "execution_count": 99,
   "metadata": {},
   "outputs": [],
   "source": [
    "X_tr_l2 = preproc.normalize(X_tr_bow, axis=0)\n",
    "X_te_l2 = preproc.normalize(X_te_bow, axis=0)"
   ]
  },
  {
   "cell_type": "code",
   "execution_count": 100,
   "metadata": {},
   "outputs": [],
   "source": [
    "def simple_logistic_classify(X_tr, y_tr, X_test, y_test, description, _C=1.0):\n",
    "    ## Helper function to train a logistic classifier and score on test data\n",
    "    m = LogisticRegression(C=_C).fit(X_tr, y_tr)\n",
    "    s = m.score(X_test, y_test)\n",
    "    print ('Test score with', description, 'features:', s)\n",
    "    return m"
   ]
  },
  {
   "cell_type": "code",
   "execution_count": 101,
   "metadata": {},
   "outputs": [
    {
     "name": "stdout",
     "output_type": "stream",
     "text": [
      "Test score with bow features: 0.5476190476190477\n",
      "Test score with l2-normalized features: 0.6190476190476191\n",
      "Test score with tf-idf features: 0.6904761904761905\n"
     ]
    },
    {
     "name": "stderr",
     "output_type": "stream",
     "text": [
      "/home/watts/anaconda3/envs/itv/lib/python3.6/site-packages/sklearn/linear_model/logistic.py:432: FutureWarning: Default solver will be changed to 'lbfgs' in 0.22. Specify a solver to silence this warning.\n",
      "  FutureWarning)\n"
     ]
    }
   ],
   "source": [
    "m1 = simple_logistic_classify(X_tr_bow, y_tr, X_te_bow, y_te, 'bow')\n",
    "m2 = simple_logistic_classify(X_tr_l2, y_tr, X_te_l2, y_te, 'l2-normalized')\n",
    "m3 = simple_logistic_classify(X_tr_tfidf, y_tr, X_te_tfidf, y_te, 'tf-idf')"
   ]
  },
  {
   "cell_type": "code",
   "execution_count": 102,
   "metadata": {},
   "outputs": [],
   "source": [
    "param_grid_ = {'C': [1e-5, 1e-3, 1e-1, 1e0, 1e1, 1e2]}\n",
    "bow_search = modsel.GridSearchCV(LogisticRegression(), cv=5, param_grid=param_grid_)\n",
    "l2_search = modsel.GridSearchCV(LogisticRegression(), cv=5,\n",
    "                               param_grid=param_grid_)\n",
    "tfidf_search = modsel.GridSearchCV(LogisticRegression(), cv=5,\n",
    "                                   param_grid=param_grid_)"
   ]
  },
  {
   "cell_type": "code",
   "execution_count": 103,
   "metadata": {},
   "outputs": [
    {
     "name": "stderr",
     "output_type": "stream",
     "text": [
      "/home/watts/anaconda3/envs/itv/lib/python3.6/site-packages/sklearn/linear_model/logistic.py:432: FutureWarning: Default solver will be changed to 'lbfgs' in 0.22. Specify a solver to silence this warning.\n",
      "  FutureWarning)\n",
      "/home/watts/anaconda3/envs/itv/lib/python3.6/site-packages/sklearn/model_selection/_search.py:841: DeprecationWarning: The default of the `iid` parameter will change from True to False in version 0.22 and will be removed in 0.24. This will change numeric results when test-set sizes are unequal.\n",
      "  DeprecationWarning)\n"
     ]
    },
    {
     "data": {
      "text/plain": [
       "GridSearchCV(cv=5, error_score='raise-deprecating',\n",
       "       estimator=LogisticRegression(C=1.0, class_weight=None, dual=False, fit_intercept=True,\n",
       "          intercept_scaling=1, max_iter=100, multi_class='warn',\n",
       "          n_jobs=None, penalty='l2', random_state=None, solver='warn',\n",
       "          tol=0.0001, verbose=0, warm_start=False),\n",
       "       fit_params=None, iid='warn', n_jobs=None,\n",
       "       param_grid={'C': [1e-05, 0.001, 0.1, 1.0, 10.0, 100.0]},\n",
       "       pre_dispatch='2*n_jobs', refit=True, return_train_score='warn',\n",
       "       scoring=None, verbose=0)"
      ]
     },
     "execution_count": 103,
     "metadata": {},
     "output_type": "execute_result"
    }
   ],
   "source": [
    "bow_search.fit(X_tr_bow, y_tr)\n"
   ]
  },
  {
   "cell_type": "code",
   "execution_count": 104,
   "metadata": {},
   "outputs": [
    {
     "data": {
      "text/plain": [
       "0.6421052631578947"
      ]
     },
     "execution_count": 104,
     "metadata": {},
     "output_type": "execute_result"
    }
   ],
   "source": [
    "bow_search.best_score_"
   ]
  },
  {
   "cell_type": "code",
   "execution_count": 105,
   "metadata": {},
   "outputs": [
    {
     "name": "stderr",
     "output_type": "stream",
     "text": [
      "/home/watts/anaconda3/envs/itv/lib/python3.6/site-packages/sklearn/linear_model/logistic.py:432: FutureWarning: Default solver will be changed to 'lbfgs' in 0.22. Specify a solver to silence this warning.\n",
      "  FutureWarning)\n",
      "/home/watts/anaconda3/envs/itv/lib/python3.6/site-packages/sklearn/model_selection/_search.py:841: DeprecationWarning: The default of the `iid` parameter will change from True to False in version 0.22 and will be removed in 0.24. This will change numeric results when test-set sizes are unequal.\n",
      "  DeprecationWarning)\n"
     ]
    },
    {
     "data": {
      "text/plain": [
       "GridSearchCV(cv=5, error_score='raise-deprecating',\n",
       "       estimator=LogisticRegression(C=1.0, class_weight=None, dual=False, fit_intercept=True,\n",
       "          intercept_scaling=1, max_iter=100, multi_class='warn',\n",
       "          n_jobs=None, penalty='l2', random_state=None, solver='warn',\n",
       "          tol=0.0001, verbose=0, warm_start=False),\n",
       "       fit_params=None, iid='warn', n_jobs=None,\n",
       "       param_grid={'C': [1e-05, 0.001, 0.1, 1.0, 10.0, 100.0]},\n",
       "       pre_dispatch='2*n_jobs', refit=True, return_train_score='warn',\n",
       "       scoring=None, verbose=0)"
      ]
     },
     "execution_count": 105,
     "metadata": {},
     "output_type": "execute_result"
    }
   ],
   "source": [
    "l2_search.fit(X_tr_l2, y_tr)"
   ]
  },
  {
   "cell_type": "code",
   "execution_count": 106,
   "metadata": {},
   "outputs": [
    {
     "data": {
      "text/plain": [
       "0.6421052631578947"
      ]
     },
     "execution_count": 106,
     "metadata": {},
     "output_type": "execute_result"
    }
   ],
   "source": [
    "l2_search.best_score_\n"
   ]
  },
  {
   "cell_type": "code",
   "execution_count": 107,
   "metadata": {},
   "outputs": [
    {
     "name": "stderr",
     "output_type": "stream",
     "text": [
      "/home/watts/anaconda3/envs/itv/lib/python3.6/site-packages/sklearn/linear_model/logistic.py:432: FutureWarning: Default solver will be changed to 'lbfgs' in 0.22. Specify a solver to silence this warning.\n",
      "  FutureWarning)\n",
      "/home/watts/anaconda3/envs/itv/lib/python3.6/site-packages/sklearn/model_selection/_search.py:841: DeprecationWarning: The default of the `iid` parameter will change from True to False in version 0.22 and will be removed in 0.24. This will change numeric results when test-set sizes are unequal.\n",
      "  DeprecationWarning)\n"
     ]
    },
    {
     "data": {
      "text/plain": [
       "GridSearchCV(cv=5, error_score='raise-deprecating',\n",
       "       estimator=LogisticRegression(C=1.0, class_weight=None, dual=False, fit_intercept=True,\n",
       "          intercept_scaling=1, max_iter=100, multi_class='warn',\n",
       "          n_jobs=None, penalty='l2', random_state=None, solver='warn',\n",
       "          tol=0.0001, verbose=0, warm_start=False),\n",
       "       fit_params=None, iid='warn', n_jobs=None,\n",
       "       param_grid={'C': [1e-05, 0.001, 0.1, 1.0, 10.0, 100.0]},\n",
       "       pre_dispatch='2*n_jobs', refit=True, return_train_score='warn',\n",
       "       scoring=None, verbose=0)"
      ]
     },
     "execution_count": 107,
     "metadata": {},
     "output_type": "execute_result"
    }
   ],
   "source": [
    "tfidf_search.fit(X_tr_tfidf, y_tr)\n"
   ]
  },
  {
   "cell_type": "code",
   "execution_count": 108,
   "metadata": {},
   "outputs": [
    {
     "data": {
      "text/plain": [
       "0.6526315789473685"
      ]
     },
     "execution_count": 108,
     "metadata": {},
     "output_type": "execute_result"
    }
   ],
   "source": [
    "tfidf_search.best_score_\n"
   ]
  },
  {
   "cell_type": "code",
   "execution_count": 111,
   "metadata": {},
   "outputs": [
    {
     "data": {
      "text/html": [
       "<div>\n",
       "<style scoped>\n",
       "    .dataframe tbody tr th:only-of-type {\n",
       "        vertical-align: middle;\n",
       "    }\n",
       "\n",
       "    .dataframe tbody tr th {\n",
       "        vertical-align: top;\n",
       "    }\n",
       "\n",
       "    .dataframe thead th {\n",
       "        text-align: right;\n",
       "    }\n",
       "</style>\n",
       "<table border=\"1\" class=\"dataframe\">\n",
       "  <thead>\n",
       "    <tr style=\"text-align: right;\">\n",
       "      <th></th>\n",
       "      <th>bow</th>\n",
       "      <th>tfidf</th>\n",
       "      <th>l2</th>\n",
       "    </tr>\n",
       "  </thead>\n",
       "  <tbody>\n",
       "    <tr>\n",
       "      <th>0</th>\n",
       "      <td>0.642105</td>\n",
       "      <td>0.642105</td>\n",
       "      <td>0.642105</td>\n",
       "    </tr>\n",
       "    <tr>\n",
       "      <th>1</th>\n",
       "      <td>0.642105</td>\n",
       "      <td>0.642105</td>\n",
       "      <td>0.642105</td>\n",
       "    </tr>\n",
       "    <tr>\n",
       "      <th>2</th>\n",
       "      <td>0.589474</td>\n",
       "      <td>0.642105</td>\n",
       "      <td>0.642105</td>\n",
       "    </tr>\n",
       "    <tr>\n",
       "      <th>3</th>\n",
       "      <td>0.610526</td>\n",
       "      <td>0.642105</td>\n",
       "      <td>0.642105</td>\n",
       "    </tr>\n",
       "    <tr>\n",
       "      <th>4</th>\n",
       "      <td>0.600000</td>\n",
       "      <td>0.652632</td>\n",
       "      <td>0.631579</td>\n",
       "    </tr>\n",
       "    <tr>\n",
       "      <th>5</th>\n",
       "      <td>0.610526</td>\n",
       "      <td>0.631579</td>\n",
       "      <td>0.642105</td>\n",
       "    </tr>\n",
       "  </tbody>\n",
       "</table>\n",
       "</div>"
      ],
      "text/plain": [
       "        bow     tfidf        l2\n",
       "0  0.642105  0.642105  0.642105\n",
       "1  0.642105  0.642105  0.642105\n",
       "2  0.589474  0.642105  0.642105\n",
       "3  0.610526  0.642105  0.642105\n",
       "4  0.600000  0.652632  0.631579\n",
       "5  0.610526  0.631579  0.642105"
      ]
     },
     "execution_count": 111,
     "metadata": {},
     "output_type": "execute_result"
    }
   ],
   "source": [
    "search_results = pd.DataFrame.from_dict({'bow': bow_search.cv_results_['mean_test_score'],\n",
    "                               'tfidf': tfidf_search.cv_results_['mean_test_score'],\n",
    "                               'l2': l2_search.cv_results_['mean_test_score']})\n",
    "search_results"
   ]
  },
  {
   "cell_type": "code",
   "execution_count": 109,
   "metadata": {},
   "outputs": [],
   "source": [
    "%matplotlib inline\n",
    "import matplotlib.pyplot as plt\n",
    "import seaborn as sns\n",
    "sns.set_style(\"whitegrid\")"
   ]
  },
  {
   "cell_type": "code",
   "execution_count": 112,
   "metadata": {},
   "outputs": [
    {
     "data": {
      "image/png": "[encoded data removed]",
      "text/plain": [
       "<Figure size 432x288 with 1 Axes>"
      ]
     },
     "metadata": {
      "needs_background": "light"
     },
     "output_type": "display_data"
    }
   ],
   "source": [
    "ax = sns.boxplot(data=search_results, width=0.4)\n",
    "ax.set_ylabel('Accuracy', size=14)\n",
    "ax.tick_params(labelsize=14)\n",
    "plt.savefig('tfidf_gridcv_results.png')"
   ]
  },
  {
   "cell_type": "code",
   "execution_count": 113,
   "metadata": {},
   "outputs": [
    {
     "name": "stdout",
     "output_type": "stream",
     "text": [
      "Test score with bow features: 0.6666666666666666\n",
      "Test score with l2-normalized features: 0.6666666666666666\n",
      "Test score with tf-idf features: 0.6428571428571429\n"
     ]
    },
    {
     "name": "stderr",
     "output_type": "stream",
     "text": [
      "/home/watts/anaconda3/envs/itv/lib/python3.6/site-packages/sklearn/linear_model/logistic.py:432: FutureWarning: Default solver will be changed to 'lbfgs' in 0.22. Specify a solver to silence this warning.\n",
      "  FutureWarning)\n"
     ]
    }
   ],
   "source": [
    "m1 = simple_logistic_classify(X_tr_bow, y_tr, X_te_bow, y_te, 'bow', \n",
    "                              _C=bow_search.best_params_['C'])\n",
    "m2 = simple_logistic_classify(X_tr_l2, y_tr, X_te_l2, y_te, 'l2-normalized', \n",
    "                              _C=l2_search.best_params_['C'])\n",
    "m3 = simple_logistic_classify(X_tr_tfidf, y_tr, X_te_tfidf, y_te, 'tf-idf', \n",
    "                              _C=tfidf_search.best_params_['C'])"
   ]
  },
  {
   "cell_type": "code",
   "execution_count": null,
   "metadata": {},
   "outputs": [],
   "source": []
  }
 ],
 "metadata": {
  "kernelspec": {
   "display_name": "Python 3",
   "language": "python",
   "name": "python3"
  },
  "language_info": {
   "codemirror_mode": {
    "name": "ipython",
    "version": 3
   },
   "file_extension": ".py",
   "mimetype": "text/x-python",
   "name": "python",
   "nbconvert_exporter": "python",
   "pygments_lexer": "ipython3",
   "version": "3.6.7"
  }
 },
 "nbformat": 4,
 "nbformat_minor": 2
}
