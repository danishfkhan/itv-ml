{
 "cells": [
  {
   "cell_type": "code",
   "execution_count": 1,
   "metadata": {},
   "outputs": [],
   "source": [
    "import numpy as np\n",
    "import pandas as pd\n",
    "\n",
    "import matplotlib.pyplot as plt\n",
    "import seaborn as sns\n",
    "%matplotlib inline"
   ]
  },
  {
   "cell_type": "code",
   "execution_count": 2,
   "metadata": {},
   "outputs": [],
   "source": [
    "train = pd.read_csv('../datasets/allstate/train.csv')\n",
    "test = pd.read_csv('../datasets/allstate/test.csv')"
   ]
  },
  {
   "cell_type": "code",
   "execution_count": 3,
   "metadata": {},
   "outputs": [
    {
     "data": {
      "text/plain": [
       "((188318, 132), (125546, 131))"
      ]
     },
     "execution_count": 3,
     "metadata": {},
     "output_type": "execute_result"
    }
   ],
   "source": [
    "train.shape, test.shape"
   ]
  },
  {
   "cell_type": "code",
   "execution_count": 4,
   "metadata": {},
   "outputs": [
    {
     "data": {
      "text/html": [
       "<div>\n",
       "<style scoped>\n",
       "    .dataframe tbody tr th:only-of-type {\n",
       "        vertical-align: middle;\n",
       "    }\n",
       "\n",
       "    .dataframe tbody tr th {\n",
       "        vertical-align: top;\n",
       "    }\n",
       "\n",
       "    .dataframe thead th {\n",
       "        text-align: right;\n",
       "    }\n",
       "</style>\n",
       "<table border=\"1\" class=\"dataframe\">\n",
       "  <thead>\n",
       "    <tr style=\"text-align: right;\">\n",
       "      <th></th>\n",
       "      <th>id</th>\n",
       "      <th>cat1</th>\n",
       "      <th>cat2</th>\n",
       "      <th>cat3</th>\n",
       "      <th>cat4</th>\n",
       "      <th>cat5</th>\n",
       "      <th>cat6</th>\n",
       "      <th>cat7</th>\n",
       "      <th>cat8</th>\n",
       "      <th>cat9</th>\n",
       "      <th>...</th>\n",
       "      <th>cont6</th>\n",
       "      <th>cont7</th>\n",
       "      <th>cont8</th>\n",
       "      <th>cont9</th>\n",
       "      <th>cont10</th>\n",
       "      <th>cont11</th>\n",
       "      <th>cont12</th>\n",
       "      <th>cont13</th>\n",
       "      <th>cont14</th>\n",
       "      <th>loss</th>\n",
       "    </tr>\n",
       "  </thead>\n",
       "  <tbody>\n",
       "    <tr>\n",
       "      <th>0</th>\n",
       "      <td>1</td>\n",
       "      <td>A</td>\n",
       "      <td>B</td>\n",
       "      <td>A</td>\n",
       "      <td>B</td>\n",
       "      <td>A</td>\n",
       "      <td>A</td>\n",
       "      <td>A</td>\n",
       "      <td>A</td>\n",
       "      <td>B</td>\n",
       "      <td>...</td>\n",
       "      <td>0.718367</td>\n",
       "      <td>0.33506</td>\n",
       "      <td>0.3026</td>\n",
       "      <td>0.67135</td>\n",
       "      <td>0.8351</td>\n",
       "      <td>0.569745</td>\n",
       "      <td>0.594646</td>\n",
       "      <td>0.822493</td>\n",
       "      <td>0.714843</td>\n",
       "      <td>2213.18</td>\n",
       "    </tr>\n",
       "  </tbody>\n",
       "</table>\n",
       "<p>1 rows × 132 columns</p>\n",
       "</div>"
      ],
      "text/plain": [
       "   id cat1 cat2 cat3 cat4 cat5 cat6 cat7 cat8 cat9   ...        cont6  \\\n",
       "0   1    A    B    A    B    A    A    A    A    B   ...     0.718367   \n",
       "\n",
       "     cont7   cont8    cont9  cont10    cont11    cont12    cont13    cont14  \\\n",
       "0  0.33506  0.3026  0.67135  0.8351  0.569745  0.594646  0.822493  0.714843   \n",
       "\n",
       "      loss  \n",
       "0  2213.18  \n",
       "\n",
       "[1 rows x 132 columns]"
      ]
     },
     "execution_count": 4,
     "metadata": {},
     "output_type": "execute_result"
    }
   ],
   "source": [
    "train.head(1)"
   ]
  },
  {
   "cell_type": "code",
   "execution_count": 5,
   "metadata": {},
   "outputs": [],
   "source": [
    "y = train['loss'].values\n",
    "# Y = np.log1p(y)\n",
    "Y = np.log10(y)"
   ]
  },
  {
   "cell_type": "code",
   "execution_count": 6,
   "metadata": {},
   "outputs": [],
   "source": [
    "train = train.drop('loss', axis=1)"
   ]
  },
  {
   "cell_type": "code",
   "execution_count": 7,
   "metadata": {},
   "outputs": [],
   "source": [
    "data = pd.concat([train, test], axis=0)"
   ]
  },
  {
   "cell_type": "code",
   "execution_count": 8,
   "metadata": {},
   "outputs": [
    {
     "data": {
      "text/plain": [
       "(313864, 131)"
      ]
     },
     "execution_count": 8,
     "metadata": {},
     "output_type": "execute_result"
    }
   ],
   "source": [
    "data.shape"
   ]
  },
  {
   "cell_type": "code",
   "execution_count": 9,
   "metadata": {},
   "outputs": [],
   "source": [
    "num_cols = [col for col in list(data.columns) if 'cont' in col]\n",
    "cat_cols = [col for col in list(data.columns) if 'cat' in col]"
   ]
  },
  {
   "cell_type": "code",
   "execution_count": 224,
   "metadata": {},
   "outputs": [],
   "source": [
    "data_cat = pd.DataFrame()"
   ]
  },
  {
   "cell_type": "code",
   "execution_count": 225,
   "metadata": {},
   "outputs": [
    {
     "data": {
      "application/vnd.jupyter.widget-view+json": {
       "model_id": "e260b8bc2d9d45de8496cc3ed6c374ea",
       "version_major": 2,
       "version_minor": 0
      },
      "text/plain": [
       "HBox(children=(IntProgress(value=0, max=116), HTML(value='')))"
      ]
     },
     "metadata": {},
     "output_type": "display_data"
    }
   ],
   "source": [
    "from tqdm import tqdm_notebook\n",
    "for col in tqdm_notebook(cat_cols):\n",
    "    df = pd.get_dummies(data[col])\n",
    "    cols = [col+'_'+str(n) for n in range(data[col].nunique())]\n",
    "    df.columns = cols\n",
    "    data_cat = pd.concat([data_cat, df], axis=1)\n",
    "data_cat = data_cat.reset_index(drop=True)"
   ]
  },
  {
   "cell_type": "code",
   "execution_count": 12,
   "metadata": {},
   "outputs": [
    {
     "data": {
      "text/plain": [
       "(313864, 1176)"
      ]
     },
     "execution_count": 12,
     "metadata": {},
     "output_type": "execute_result"
    }
   ],
   "source": [
    "data_cat.shape"
   ]
  },
  {
   "cell_type": "code",
   "execution_count": 13,
   "metadata": {},
   "outputs": [
    {
     "data": {
      "text/html": [
       "<div>\n",
       "<style scoped>\n",
       "    .dataframe tbody tr th:only-of-type {\n",
       "        vertical-align: middle;\n",
       "    }\n",
       "\n",
       "    .dataframe tbody tr th {\n",
       "        vertical-align: top;\n",
       "    }\n",
       "\n",
       "    .dataframe thead th {\n",
       "        text-align: right;\n",
       "    }\n",
       "</style>\n",
       "<table border=\"1\" class=\"dataframe\">\n",
       "  <thead>\n",
       "    <tr style=\"text-align: right;\">\n",
       "      <th></th>\n",
       "      <th>cat1_0</th>\n",
       "      <th>cat1_1</th>\n",
       "      <th>cat2_0</th>\n",
       "      <th>cat2_1</th>\n",
       "      <th>cat3_0</th>\n",
       "      <th>cat3_1</th>\n",
       "      <th>cat4_0</th>\n",
       "      <th>cat4_1</th>\n",
       "      <th>cat5_0</th>\n",
       "      <th>cat5_1</th>\n",
       "      <th>...</th>\n",
       "      <th>cat116_339</th>\n",
       "      <th>cat116_340</th>\n",
       "      <th>cat116_341</th>\n",
       "      <th>cat116_342</th>\n",
       "      <th>cat116_343</th>\n",
       "      <th>cat116_344</th>\n",
       "      <th>cat116_345</th>\n",
       "      <th>cat116_346</th>\n",
       "      <th>cat116_347</th>\n",
       "      <th>cat116_348</th>\n",
       "    </tr>\n",
       "  </thead>\n",
       "  <tbody>\n",
       "    <tr>\n",
       "      <th>0</th>\n",
       "      <td>1</td>\n",
       "      <td>0</td>\n",
       "      <td>0</td>\n",
       "      <td>1</td>\n",
       "      <td>1</td>\n",
       "      <td>0</td>\n",
       "      <td>0</td>\n",
       "      <td>1</td>\n",
       "      <td>1</td>\n",
       "      <td>0</td>\n",
       "      <td>...</td>\n",
       "      <td>0</td>\n",
       "      <td>0</td>\n",
       "      <td>0</td>\n",
       "      <td>0</td>\n",
       "      <td>0</td>\n",
       "      <td>0</td>\n",
       "      <td>0</td>\n",
       "      <td>0</td>\n",
       "      <td>0</td>\n",
       "      <td>0</td>\n",
       "    </tr>\n",
       "  </tbody>\n",
       "</table>\n",
       "<p>1 rows × 1176 columns</p>\n",
       "</div>"
      ],
      "text/plain": [
       "   cat1_0  cat1_1  cat2_0  cat2_1  cat3_0  cat3_1  cat4_0  cat4_1  cat5_0  \\\n",
       "0       1       0       0       1       1       0       0       1       1   \n",
       "\n",
       "   cat5_1     ...      cat116_339  cat116_340  cat116_341  cat116_342  \\\n",
       "0       0     ...               0           0           0           0   \n",
       "\n",
       "   cat116_343  cat116_344  cat116_345  cat116_346  cat116_347  cat116_348  \n",
       "0           0           0           0           0           0           0  \n",
       "\n",
       "[1 rows x 1176 columns]"
      ]
     },
     "execution_count": 13,
     "metadata": {},
     "output_type": "execute_result"
    }
   ],
   "source": [
    "data_cat.head(1)"
   ]
  },
  {
   "cell_type": "code",
   "execution_count": 14,
   "metadata": {},
   "outputs": [
    {
     "data": {
      "text/plain": [
       "0.28686777325213325"
      ]
     },
     "execution_count": 14,
     "metadata": {},
     "output_type": "execute_result"
    }
   ],
   "source": [
    "from xgboost import XGBRegressor\n",
    "from sklearn.model_selection import train_test_split\n",
    "from sklearn.metrics import mean_absolute_error\n",
    "model = XGBRegressor()\n",
    "seed = 123\n",
    "np.random.seed(123)\n",
    "X = train['cont1'].values\n",
    "X = X.reshape(-1,1)\n",
    "X_train, X_val, Y_train, Y_val = train_test_split(X, Y, test_size=0.2, random_state=123)\n",
    "model.fit(X_train, Y_train)\n",
    "preds = model.predict(X_val)\n",
    "mean_absolute_error(Y_val, preds)"
   ]
  },
  {
   "cell_type": "code",
   "execution_count": 15,
   "metadata": {},
   "outputs": [
    {
     "name": "stderr",
     "output_type": "stream",
     "text": [
      "/home/watts/anaconda3/envs/itv/lib/python3.6/site-packages/scipy/stats/stats.py:1633: FutureWarning: Using a non-tuple sequence for multidimensional indexing is deprecated; use `arr[tuple(seq)]` instead of `arr[seq]`. In the future this will be interpreted as an array index, `arr[np.array(seq)]`, which will result either in an error or a different result.\n",
      "  return np.add.reduce(sorted[indexer] * weights, axis=axis) / sumval\n"
     ]
    },
    {
     "data": {
      "text/plain": [
       "<matplotlib.axes._subplots.AxesSubplot at 0x7f6870ba8eb8>"
      ]
     },
     "execution_count": 15,
     "metadata": {},
     "output_type": "execute_result"
    },
    {
     "data": {
      "image/png": "[encoded data removed]",
      "text/plain": [
       "<Figure size 432x288 with 1 Axes>"
      ]
     },
     "metadata": {
      "needs_background": "light"
     },
     "output_type": "display_data"
    }
   ],
   "source": [
    "sns.distplot(train['cont1'])"
   ]
  },
  {
   "cell_type": "code",
   "execution_count": 16,
   "metadata": {},
   "outputs": [
    {
     "data": {
      "text/plain": [
       "0.28686777325213325"
      ]
     },
     "execution_count": 16,
     "metadata": {},
     "output_type": "execute_result"
    }
   ],
   "source": [
    "from xgboost import XGBRegressor\n",
    "from sklearn.model_selection import train_test_split\n",
    "from sklearn.metrics import mean_absolute_error\n",
    "model = XGBRegressor()\n",
    "seed = 123\n",
    "np.random.seed(123)\n",
    "X = np.log1p(train['cont1'].values+0.1)\n",
    "X = X.reshape(-1,1)\n",
    "X_train, X_val, Y_train, Y_val = train_test_split(X, Y, test_size=0.2, random_state=123)\n",
    "model.fit(X_train, Y_train)\n",
    "preds = model.predict(X_val)\n",
    "mean_absolute_error(Y_val, preds)"
   ]
  },
  {
   "cell_type": "code",
   "execution_count": 17,
   "metadata": {},
   "outputs": [
    {
     "data": {
      "text/plain": [
       "0.28686777325213325"
      ]
     },
     "execution_count": 17,
     "metadata": {},
     "output_type": "execute_result"
    }
   ],
   "source": [
    "from xgboost import XGBRegressor\n",
    "from sklearn.model_selection import train_test_split\n",
    "from sklearn.metrics import mean_absolute_error\n",
    "model = XGBRegressor()\n",
    "seed = 123\n",
    "np.random.seed(123)\n",
    "X = np.sin(train['cont1'].values+0.1)\n",
    "X = X.reshape(-1,1)\n",
    "X_train, X_val, Y_train, Y_val = train_test_split(X, Y, test_size=0.2, random_state=123)\n",
    "model.fit(X_train, Y_train)\n",
    "preds = model.predict(X_val)\n",
    "mean_absolute_error(Y_val, preds)"
   ]
  },
  {
   "cell_type": "code",
   "execution_count": 18,
   "metadata": {},
   "outputs": [
    {
     "data": {
      "text/plain": [
       "0.28686777325213325"
      ]
     },
     "execution_count": 18,
     "metadata": {},
     "output_type": "execute_result"
    }
   ],
   "source": [
    "from xgboost import XGBRegressor\n",
    "from sklearn.model_selection import train_test_split\n",
    "from sklearn.metrics import mean_absolute_error\n",
    "model = XGBRegressor()\n",
    "seed = 123\n",
    "np.random.seed(123)\n",
    "X = np.cos(train['cont1'].values)\n",
    "X = X.reshape(-1,1)\n",
    "X_train, X_val, Y_train, Y_val = train_test_split(X, Y, test_size=0.2, random_state=123)\n",
    "model.fit(X_train, Y_train)\n",
    "preds = model.predict(X_val)\n",
    "mean_absolute_error(Y_val, preds)"
   ]
  },
  {
   "cell_type": "code",
   "execution_count": 19,
   "metadata": {},
   "outputs": [
    {
     "data": {
      "text/plain": [
       "0.28686777325213325"
      ]
     },
     "execution_count": 19,
     "metadata": {},
     "output_type": "execute_result"
    }
   ],
   "source": [
    "from xgboost import XGBRegressor\n",
    "from sklearn.model_selection import train_test_split\n",
    "from sklearn.metrics import mean_absolute_error\n",
    "model = XGBRegressor()\n",
    "seed = 123\n",
    "np.random.seed(123)\n",
    "X = np.sqrt(train['cont1'].values)\n",
    "X = X.reshape(-1,1)\n",
    "X_train, X_val, Y_train, Y_val = train_test_split(X, Y, test_size=0.2, random_state=123)\n",
    "model.fit(X_train, Y_train)\n",
    "preds = model.predict(X_val)\n",
    "mean_absolute_error(Y_val, preds)"
   ]
  },
  {
   "cell_type": "code",
   "execution_count": 20,
   "metadata": {},
   "outputs": [
    {
     "data": {
      "text/plain": [
       "0.2874369585850209"
      ]
     },
     "execution_count": 20,
     "metadata": {},
     "output_type": "execute_result"
    }
   ],
   "source": [
    "from xgboost import XGBRegressor\n",
    "from sklearn.model_selection import train_test_split\n",
    "from sklearn.metrics import mean_absolute_error\n",
    "model = XGBRegressor()\n",
    "seed = 123\n",
    "np.random.seed(123)\n",
    "bins = np.linspace(-0.1,1.1,30)\n",
    "X = pd.get_dummies(pd.cut(train['cont1'].values, bins))\n",
    "# print(X.shape)\n",
    "# X = X.reshape(-1,1)\n",
    "X = X.values\n",
    "X_train, X_val, Y_train, Y_val = train_test_split(X, Y, test_size=0.2, random_state=123)\n",
    "model.fit(X_train, Y_train)\n",
    "preds = model.predict(X_val)\n",
    "mean_absolute_error(Y_val, preds)"
   ]
  },
  {
   "cell_type": "code",
   "execution_count": 21,
   "metadata": {},
   "outputs": [],
   "source": [
    "data_num = pd.DataFrame()"
   ]
  },
  {
   "cell_type": "code",
   "execution_count": 22,
   "metadata": {},
   "outputs": [],
   "source": [
    "data_num['cont1'] = data['cont1'].values"
   ]
  },
  {
   "cell_type": "code",
   "execution_count": 23,
   "metadata": {},
   "outputs": [
    {
     "name": "stderr",
     "output_type": "stream",
     "text": [
      "/home/watts/anaconda3/envs/itv/lib/python3.6/site-packages/scipy/stats/stats.py:1633: FutureWarning: Using a non-tuple sequence for multidimensional indexing is deprecated; use `arr[tuple(seq)]` instead of `arr[seq]`. In the future this will be interpreted as an array index, `arr[np.array(seq)]`, which will result either in an error or a different result.\n",
      "  return np.add.reduce(sorted[indexer] * weights, axis=axis) / sumval\n"
     ]
    },
    {
     "data": {
      "text/plain": [
       "<matplotlib.axes._subplots.AxesSubplot at 0x7f685fb1ab70>"
      ]
     },
     "execution_count": 23,
     "metadata": {},
     "output_type": "execute_result"
    },
    {
     "data": {
      "image/png": "[encoded data removed]",
      "text/plain": [
       "<Figure size 432x288 with 1 Axes>"
      ]
     },
     "metadata": {
      "needs_background": "light"
     },
     "output_type": "display_data"
    }
   ],
   "source": [
    "sns.distplot(train['cont2'])"
   ]
  },
  {
   "cell_type": "code",
   "execution_count": 24,
   "metadata": {},
   "outputs": [
    {
     "data": {
      "text/plain": [
       "0.28627845107980365"
      ]
     },
     "execution_count": 24,
     "metadata": {},
     "output_type": "execute_result"
    }
   ],
   "source": [
    "from xgboost import XGBRegressor\n",
    "from sklearn.model_selection import train_test_split\n",
    "from sklearn.metrics import mean_absolute_error\n",
    "model = XGBRegressor()\n",
    "seed = 123\n",
    "np.random.seed(123)\n",
    "X = train['cont2'].values\n",
    "X = X.reshape(-1,1)\n",
    "X_train, X_val, Y_train, Y_val = train_test_split(X, Y, test_size=0.2, random_state=123)\n",
    "model.fit(X_train, Y_train)\n",
    "preds = model.predict(X_val)\n",
    "mean_absolute_error(Y_val, preds)"
   ]
  },
  {
   "cell_type": "code",
   "execution_count": 25,
   "metadata": {},
   "outputs": [
    {
     "data": {
      "text/plain": [
       "0.28627845107980365"
      ]
     },
     "execution_count": 25,
     "metadata": {},
     "output_type": "execute_result"
    }
   ],
   "source": [
    "from xgboost import XGBRegressor\n",
    "from sklearn.model_selection import train_test_split\n",
    "from sklearn.metrics import mean_absolute_error\n",
    "model = XGBRegressor()\n",
    "seed = 123\n",
    "np.random.seed(123)\n",
    "X = np.log10(train['cont2'].values+0.1)\n",
    "X = X.reshape(-1,1)\n",
    "X_train, X_val, Y_train, Y_val = train_test_split(X, Y, test_size=0.2, random_state=123)\n",
    "model.fit(X_train, Y_train)\n",
    "preds = model.predict(X_val)\n",
    "mean_absolute_error(Y_val, preds)"
   ]
  },
  {
   "cell_type": "code",
   "execution_count": 26,
   "metadata": {},
   "outputs": [
    {
     "data": {
      "text/plain": [
       "0.28627845107980365"
      ]
     },
     "execution_count": 26,
     "metadata": {},
     "output_type": "execute_result"
    }
   ],
   "source": [
    "from xgboost import XGBRegressor\n",
    "from sklearn.model_selection import train_test_split\n",
    "from sklearn.metrics import mean_absolute_error\n",
    "model = XGBRegressor()\n",
    "seed = 123\n",
    "np.random.seed(123)\n",
    "X = np.sin(train['cont2'].values+0.1)\n",
    "X = X.reshape(-1,1)\n",
    "X_train, X_val, Y_train, Y_val = train_test_split(X, Y, test_size=0.2, random_state=123)\n",
    "model.fit(X_train, Y_train)\n",
    "preds = model.predict(X_val)\n",
    "mean_absolute_error(Y_val, preds)"
   ]
  },
  {
   "cell_type": "code",
   "execution_count": 27,
   "metadata": {},
   "outputs": [
    {
     "data": {
      "text/plain": [
       "0.28627845107980365"
      ]
     },
     "execution_count": 27,
     "metadata": {},
     "output_type": "execute_result"
    }
   ],
   "source": [
    "from xgboost import XGBRegressor\n",
    "from sklearn.model_selection import train_test_split\n",
    "from sklearn.metrics import mean_absolute_error\n",
    "model = XGBRegressor()\n",
    "seed = 123\n",
    "np.random.seed(123)\n",
    "X = np.cos(train['cont2'].values+0.1)\n",
    "X = X.reshape(-1,1)\n",
    "X_train, X_val, Y_train, Y_val = train_test_split(X, Y, test_size=0.2, random_state=123)\n",
    "model.fit(X_train, Y_train)\n",
    "preds = model.predict(X_val)\n",
    "mean_absolute_error(Y_val, preds)"
   ]
  },
  {
   "cell_type": "code",
   "execution_count": 28,
   "metadata": {},
   "outputs": [
    {
     "data": {
      "text/plain": [
       "0.28627845107980365"
      ]
     },
     "execution_count": 28,
     "metadata": {},
     "output_type": "execute_result"
    }
   ],
   "source": [
    "from xgboost import XGBRegressor\n",
    "from sklearn.model_selection import train_test_split\n",
    "from sklearn.metrics import mean_absolute_error\n",
    "model = XGBRegressor()\n",
    "seed = 123\n",
    "np.random.seed(123)\n",
    "X = np.sqrt(train['cont2'].values+0.1)\n",
    "X = X.reshape(-1,1)\n",
    "X_train, X_val, Y_train, Y_val = train_test_split(X, Y, test_size=0.2, random_state=123)\n",
    "model.fit(X_train, Y_train)\n",
    "preds = model.predict(X_val)\n",
    "mean_absolute_error(Y_val, preds)"
   ]
  },
  {
   "cell_type": "code",
   "execution_count": 29,
   "metadata": {},
   "outputs": [
    {
     "data": {
      "text/plain": [
       "0.28613980856884963"
      ]
     },
     "execution_count": 29,
     "metadata": {},
     "output_type": "execute_result"
    }
   ],
   "source": [
    "from xgboost import XGBRegressor\n",
    "from sklearn.model_selection import train_test_split\n",
    "from sklearn.metrics import mean_absolute_error\n",
    "model = XGBRegressor()\n",
    "seed = 123\n",
    "np.random.seed(123)\n",
    "bins = np.linspace(-0.1,1.0,40)\n",
    "X = pd.get_dummies(pd.cut(train['cont2'].values, bins))\n",
    "# print(X.shape)\n",
    "# X = X.reshape(-1,1)\n",
    "X = X.values\n",
    "X_train, X_val, Y_train, Y_val = train_test_split(X, Y, test_size=0.2, random_state=123)\n",
    "model.fit(X_train, Y_train)\n",
    "preds = model.predict(X_val)\n",
    "mean_absolute_error(Y_val, preds)"
   ]
  },
  {
   "cell_type": "code",
   "execution_count": 30,
   "metadata": {},
   "outputs": [],
   "source": [
    "bins = np.linspace(-0.1,1.0,40)\n",
    "X = pd.get_dummies(pd.cut(data['cont2'].values, bins))\n",
    "cont2_bins = pd.DataFrame(X)"
   ]
  },
  {
   "cell_type": "code",
   "execution_count": 31,
   "metadata": {},
   "outputs": [],
   "source": [
    "cols = ['cont2_'+str(n) for n in range(X.shape[1])]"
   ]
  },
  {
   "cell_type": "code",
   "execution_count": 32,
   "metadata": {},
   "outputs": [
    {
     "data": {
      "text/html": [
       "<div>\n",
       "<style scoped>\n",
       "    .dataframe tbody tr th:only-of-type {\n",
       "        vertical-align: middle;\n",
       "    }\n",
       "\n",
       "    .dataframe tbody tr th {\n",
       "        vertical-align: top;\n",
       "    }\n",
       "\n",
       "    .dataframe thead th {\n",
       "        text-align: right;\n",
       "    }\n",
       "</style>\n",
       "<table border=\"1\" class=\"dataframe\">\n",
       "  <thead>\n",
       "    <tr style=\"text-align: right;\">\n",
       "      <th></th>\n",
       "      <th>cont2_0</th>\n",
       "      <th>cont2_1</th>\n",
       "      <th>cont2_2</th>\n",
       "      <th>cont2_3</th>\n",
       "      <th>cont2_4</th>\n",
       "      <th>cont2_5</th>\n",
       "      <th>cont2_6</th>\n",
       "      <th>cont2_7</th>\n",
       "      <th>cont2_8</th>\n",
       "      <th>cont2_9</th>\n",
       "      <th>...</th>\n",
       "      <th>cont2_29</th>\n",
       "      <th>cont2_30</th>\n",
       "      <th>cont2_31</th>\n",
       "      <th>cont2_32</th>\n",
       "      <th>cont2_33</th>\n",
       "      <th>cont2_34</th>\n",
       "      <th>cont2_35</th>\n",
       "      <th>cont2_36</th>\n",
       "      <th>cont2_37</th>\n",
       "      <th>cont2_38</th>\n",
       "    </tr>\n",
       "  </thead>\n",
       "  <tbody>\n",
       "    <tr>\n",
       "      <th>0</th>\n",
       "      <td>0</td>\n",
       "      <td>0</td>\n",
       "      <td>0</td>\n",
       "      <td>0</td>\n",
       "      <td>0</td>\n",
       "      <td>0</td>\n",
       "      <td>0</td>\n",
       "      <td>0</td>\n",
       "      <td>0</td>\n",
       "      <td>0</td>\n",
       "      <td>...</td>\n",
       "      <td>0</td>\n",
       "      <td>0</td>\n",
       "      <td>0</td>\n",
       "      <td>0</td>\n",
       "      <td>0</td>\n",
       "      <td>0</td>\n",
       "      <td>0</td>\n",
       "      <td>0</td>\n",
       "      <td>0</td>\n",
       "      <td>0</td>\n",
       "    </tr>\n",
       "  </tbody>\n",
       "</table>\n",
       "<p>1 rows × 39 columns</p>\n",
       "</div>"
      ],
      "text/plain": [
       "   cont2_0  cont2_1  cont2_2  cont2_3  cont2_4  cont2_5  cont2_6  cont2_7  \\\n",
       "0        0        0        0        0        0        0        0        0   \n",
       "\n",
       "   cont2_8  cont2_9    ...     cont2_29  cont2_30  cont2_31  cont2_32  \\\n",
       "0        0        0    ...            0         0         0         0   \n",
       "\n",
       "   cont2_33  cont2_34  cont2_35  cont2_36  cont2_37  cont2_38  \n",
       "0         0         0         0         0         0         0  \n",
       "\n",
       "[1 rows x 39 columns]"
      ]
     },
     "execution_count": 32,
     "metadata": {},
     "output_type": "execute_result"
    }
   ],
   "source": [
    "cont2_bins.columns = cols\n",
    "cont2_bins.head(1)"
   ]
  },
  {
   "cell_type": "code",
   "execution_count": 33,
   "metadata": {},
   "outputs": [
    {
     "data": {
      "text/html": [
       "<div>\n",
       "<style scoped>\n",
       "    .dataframe tbody tr th:only-of-type {\n",
       "        vertical-align: middle;\n",
       "    }\n",
       "\n",
       "    .dataframe tbody tr th {\n",
       "        vertical-align: top;\n",
       "    }\n",
       "\n",
       "    .dataframe thead th {\n",
       "        text-align: right;\n",
       "    }\n",
       "</style>\n",
       "<table border=\"1\" class=\"dataframe\">\n",
       "  <thead>\n",
       "    <tr style=\"text-align: right;\">\n",
       "      <th></th>\n",
       "      <th>cat1_0</th>\n",
       "      <th>cat1_1</th>\n",
       "      <th>cat2_0</th>\n",
       "      <th>cat2_1</th>\n",
       "      <th>cat3_0</th>\n",
       "      <th>cat3_1</th>\n",
       "      <th>cat4_0</th>\n",
       "      <th>cat4_1</th>\n",
       "      <th>cat5_0</th>\n",
       "      <th>cat5_1</th>\n",
       "      <th>...</th>\n",
       "      <th>cat116_339</th>\n",
       "      <th>cat116_340</th>\n",
       "      <th>cat116_341</th>\n",
       "      <th>cat116_342</th>\n",
       "      <th>cat116_343</th>\n",
       "      <th>cat116_344</th>\n",
       "      <th>cat116_345</th>\n",
       "      <th>cat116_346</th>\n",
       "      <th>cat116_347</th>\n",
       "      <th>cat116_348</th>\n",
       "    </tr>\n",
       "  </thead>\n",
       "  <tbody>\n",
       "    <tr>\n",
       "      <th>0</th>\n",
       "      <td>1</td>\n",
       "      <td>0</td>\n",
       "      <td>0</td>\n",
       "      <td>1</td>\n",
       "      <td>1</td>\n",
       "      <td>0</td>\n",
       "      <td>0</td>\n",
       "      <td>1</td>\n",
       "      <td>1</td>\n",
       "      <td>0</td>\n",
       "      <td>...</td>\n",
       "      <td>0</td>\n",
       "      <td>0</td>\n",
       "      <td>0</td>\n",
       "      <td>0</td>\n",
       "      <td>0</td>\n",
       "      <td>0</td>\n",
       "      <td>0</td>\n",
       "      <td>0</td>\n",
       "      <td>0</td>\n",
       "      <td>0</td>\n",
       "    </tr>\n",
       "  </tbody>\n",
       "</table>\n",
       "<p>1 rows × 1176 columns</p>\n",
       "</div>"
      ],
      "text/plain": [
       "   cat1_0  cat1_1  cat2_0  cat2_1  cat3_0  cat3_1  cat4_0  cat4_1  cat5_0  \\\n",
       "0       1       0       0       1       1       0       0       1       1   \n",
       "\n",
       "   cat5_1     ...      cat116_339  cat116_340  cat116_341  cat116_342  \\\n",
       "0       0     ...               0           0           0           0   \n",
       "\n",
       "   cat116_343  cat116_344  cat116_345  cat116_346  cat116_347  cat116_348  \n",
       "0           0           0           0           0           0           0  \n",
       "\n",
       "[1 rows x 1176 columns]"
      ]
     },
     "execution_count": 33,
     "metadata": {},
     "output_type": "execute_result"
    }
   ],
   "source": [
    "data_cat.head(1)"
   ]
  },
  {
   "cell_type": "code",
   "execution_count": 34,
   "metadata": {},
   "outputs": [
    {
     "data": {
      "text/plain": [
       "((313864, 39), (313864, 1176))"
      ]
     },
     "execution_count": 34,
     "metadata": {},
     "output_type": "execute_result"
    }
   ],
   "source": [
    "cont2_bins.shape, data_cat.shape"
   ]
  },
  {
   "cell_type": "code",
   "execution_count": 226,
   "metadata": {},
   "outputs": [],
   "source": [
    "data_cat = pd.concat([data_cat, cont2_bins], axis=1)"
   ]
  },
  {
   "cell_type": "code",
   "execution_count": 36,
   "metadata": {},
   "outputs": [
    {
     "data": {
      "text/plain": [
       "0.2869956282754222"
      ]
     },
     "execution_count": 36,
     "metadata": {},
     "output_type": "execute_result"
    }
   ],
   "source": [
    "from xgboost import XGBRegressor\n",
    "from sklearn.model_selection import train_test_split\n",
    "from sklearn.metrics import mean_absolute_error\n",
    "model = XGBRegressor()\n",
    "seed = 123\n",
    "np.random.seed(123)\n",
    "X = train['cont3'].values\n",
    "X = X.reshape(-1,1)\n",
    "X_train, X_val, Y_train, Y_val = train_test_split(X, Y, test_size=0.2, random_state=123)\n",
    "model.fit(X_train, Y_train)\n",
    "preds = model.predict(X_val)\n",
    "mean_absolute_error(Y_val, preds)"
   ]
  },
  {
   "cell_type": "code",
   "execution_count": 37,
   "metadata": {},
   "outputs": [
    {
     "data": {
      "text/plain": [
       "0.2869956282754222"
      ]
     },
     "execution_count": 37,
     "metadata": {},
     "output_type": "execute_result"
    }
   ],
   "source": [
    "from xgboost import XGBRegressor\n",
    "from sklearn.model_selection import train_test_split\n",
    "from sklearn.metrics import mean_absolute_error\n",
    "model = XGBRegressor()\n",
    "seed = 123\n",
    "np.random.seed(123)\n",
    "X = np.log10(train['cont3'].values+0.1)\n",
    "X = X.reshape(-1,1)\n",
    "X_train, X_val, Y_train, Y_val = train_test_split(X, Y, test_size=0.2, random_state=123)\n",
    "model.fit(X_train, Y_train)\n",
    "preds = model.predict(X_val)\n",
    "mean_absolute_error(Y_val, preds)"
   ]
  },
  {
   "cell_type": "code",
   "execution_count": 41,
   "metadata": {},
   "outputs": [
    {
     "data": {
      "text/plain": [
       "0.2869956282754222"
      ]
     },
     "execution_count": 41,
     "metadata": {},
     "output_type": "execute_result"
    }
   ],
   "source": [
    "from xgboost import XGBRegressor\n",
    "from sklearn.model_selection import train_test_split\n",
    "from sklearn.metrics import mean_absolute_error\n",
    "model = XGBRegressor()\n",
    "seed = 123\n",
    "np.random.seed(123)\n",
    "X = np.sqrt(train['cont3'].values+0.1)\n",
    "X = X.reshape(-1,1)\n",
    "X_train, X_val, Y_train, Y_val = train_test_split(X, Y, test_size=0.2, random_state=123)\n",
    "model.fit(X_train, Y_train)\n",
    "preds = model.predict(X_val)\n",
    "mean_absolute_error(Y_val, preds)"
   ]
  },
  {
   "cell_type": "code",
   "execution_count": 80,
   "metadata": {},
   "outputs": [
    {
     "data": {
      "text/plain": [
       "0.2869956282754222"
      ]
     },
     "execution_count": 80,
     "metadata": {},
     "output_type": "execute_result"
    }
   ],
   "source": [
    "from xgboost import XGBRegressor\n",
    "from sklearn.model_selection import train_test_split\n",
    "from sklearn.metrics import mean_absolute_error\n",
    "from scipy.stats import boxcox\n",
    "model = XGBRegressor()\n",
    "seed = 123\n",
    "np.random.seed(123)\n",
    "X,_ = boxcox(train['cont3'].values+0.1)\n",
    "X = X.reshape(-1,1)\n",
    "X_train, X_val, Y_train, Y_val = train_test_split(X, Y, test_size=0.2, random_state=123)\n",
    "model.fit(X_train, Y_train)\n",
    "preds = model.predict(X_val)\n",
    "mean_absolute_error(Y_val, preds)"
   ]
  },
  {
   "cell_type": "code",
   "execution_count": 42,
   "metadata": {},
   "outputs": [
    {
     "name": "stderr",
     "output_type": "stream",
     "text": [
      "/home/watts/anaconda3/envs/itv/lib/python3.6/site-packages/scipy/stats/stats.py:1633: FutureWarning: Using a non-tuple sequence for multidimensional indexing is deprecated; use `arr[tuple(seq)]` instead of `arr[seq]`. In the future this will be interpreted as an array index, `arr[np.array(seq)]`, which will result either in an error or a different result.\n",
      "  return np.add.reduce(sorted[indexer] * weights, axis=axis) / sumval\n"
     ]
    },
    {
     "data": {
      "text/plain": [
       "<matplotlib.axes._subplots.AxesSubplot at 0x7f685fb2d080>"
      ]
     },
     "execution_count": 42,
     "metadata": {},
     "output_type": "execute_result"
    },
    {
     "data": {
      "image/png": "[encoded data removed]",
      "text/plain": [
       "<Figure size 432x288 with 1 Axes>"
      ]
     },
     "metadata": {
      "needs_background": "light"
     },
     "output_type": "display_data"
    }
   ],
   "source": [
    "sns.distplot(data['cont3'])"
   ]
  },
  {
   "cell_type": "code",
   "execution_count": 43,
   "metadata": {},
   "outputs": [
    {
     "data": {
      "text/plain": [
       "0.28716333680578393"
      ]
     },
     "execution_count": 43,
     "metadata": {},
     "output_type": "execute_result"
    }
   ],
   "source": [
    "from xgboost import XGBRegressor\n",
    "from sklearn.model_selection import train_test_split\n",
    "from sklearn.metrics import mean_absolute_error\n",
    "model = XGBRegressor()\n",
    "seed = 123\n",
    "np.random.seed(123)\n",
    "bins = np.linspace(-0.1,1.0,40)\n",
    "X = pd.get_dummies(pd.cut(train['cont3'].values, bins))\n",
    "# print(X.shape)\n",
    "# X = X.reshape(-1,1)\n",
    "X = X.values\n",
    "X_train, X_val, Y_train, Y_val = train_test_split(X, Y, test_size=0.2, random_state=123)\n",
    "model.fit(X_train, Y_train)\n",
    "preds = model.predict(X_val)\n",
    "mean_absolute_error(Y_val, preds)"
   ]
  },
  {
   "cell_type": "code",
   "execution_count": 44,
   "metadata": {},
   "outputs": [],
   "source": [
    "data_num['cont3'] = data['cont3'].values"
   ]
  },
  {
   "cell_type": "code",
   "execution_count": 45,
   "metadata": {},
   "outputs": [
    {
     "name": "stderr",
     "output_type": "stream",
     "text": [
      "/home/watts/anaconda3/envs/itv/lib/python3.6/site-packages/scipy/stats/stats.py:1633: FutureWarning: Using a non-tuple sequence for multidimensional indexing is deprecated; use `arr[tuple(seq)]` instead of `arr[seq]`. In the future this will be interpreted as an array index, `arr[np.array(seq)]`, which will result either in an error or a different result.\n",
      "  return np.add.reduce(sorted[indexer] * weights, axis=axis) / sumval\n"
     ]
    },
    {
     "data": {
      "text/plain": [
       "<matplotlib.axes._subplots.AxesSubplot at 0x7f685fb3d080>"
      ]
     },
     "execution_count": 45,
     "metadata": {},
     "output_type": "execute_result"
    },
    {
     "data": {
      "image/png": "[encoded data removed]",
      "text/plain": [
       "<Figure size 432x288 with 1 Axes>"
      ]
     },
     "metadata": {
      "needs_background": "light"
     },
     "output_type": "display_data"
    }
   ],
   "source": [
    "sns.distplot(data['cont4'])"
   ]
  },
  {
   "cell_type": "code",
   "execution_count": 46,
   "metadata": {},
   "outputs": [
    {
     "data": {
      "text/plain": [
       "0.287276608755243"
      ]
     },
     "execution_count": 46,
     "metadata": {},
     "output_type": "execute_result"
    }
   ],
   "source": [
    "from xgboost import XGBRegressor\n",
    "from sklearn.model_selection import train_test_split\n",
    "from sklearn.metrics import mean_absolute_error\n",
    "model = XGBRegressor()\n",
    "seed = 123\n",
    "np.random.seed(123)\n",
    "X = train['cont4'].values\n",
    "X = X.reshape(-1,1)\n",
    "X_train, X_val, Y_train, Y_val = train_test_split(X, Y, test_size=0.2, random_state=123)\n",
    "model.fit(X_train, Y_train)\n",
    "preds = model.predict(X_val)\n",
    "mean_absolute_error(Y_val, preds)"
   ]
  },
  {
   "cell_type": "code",
   "execution_count": 47,
   "metadata": {},
   "outputs": [
    {
     "data": {
      "text/plain": [
       "0.287276608755243"
      ]
     },
     "execution_count": 47,
     "metadata": {},
     "output_type": "execute_result"
    }
   ],
   "source": [
    "from xgboost import XGBRegressor\n",
    "from sklearn.model_selection import train_test_split\n",
    "from sklearn.metrics import mean_absolute_error\n",
    "model = XGBRegressor()\n",
    "seed = 123\n",
    "np.random.seed(123)\n",
    "X = np.log10(train['cont4'].values)\n",
    "X = X.reshape(-1,1)\n",
    "X_train, X_val, Y_train, Y_val = train_test_split(X, Y, test_size=0.2, random_state=123)\n",
    "model.fit(X_train, Y_train)\n",
    "preds = model.predict(X_val)\n",
    "mean_absolute_error(Y_val, preds)"
   ]
  },
  {
   "cell_type": "code",
   "execution_count": 50,
   "metadata": {},
   "outputs": [
    {
     "data": {
      "text/plain": [
       "0.287276608755243"
      ]
     },
     "execution_count": 50,
     "metadata": {},
     "output_type": "execute_result"
    }
   ],
   "source": [
    "from xgboost import XGBRegressor\n",
    "from sklearn.model_selection import train_test_split\n",
    "from sklearn.metrics import mean_absolute_error\n",
    "model = XGBRegressor()\n",
    "seed = 123\n",
    "np.random.seed(123)\n",
    "X = np.sqrt(train['cont4'].values)\n",
    "X = X.reshape(-1,1)\n",
    "X_train, X_val, Y_train, Y_val = train_test_split(X, Y, test_size=0.2, random_state=123)\n",
    "model.fit(X_train, Y_train)\n",
    "preds = model.predict(X_val)\n",
    "mean_absolute_error(Y_val, preds)"
   ]
  },
  {
   "cell_type": "code",
   "execution_count": 82,
   "metadata": {},
   "outputs": [
    {
     "data": {
      "text/plain": [
       "0.287276608755243"
      ]
     },
     "execution_count": 82,
     "metadata": {},
     "output_type": "execute_result"
    }
   ],
   "source": [
    "from xgboost import XGBRegressor\n",
    "from sklearn.model_selection import train_test_split\n",
    "from sklearn.metrics import mean_absolute_error\n",
    "from scipy.stats import boxcox\n",
    "model = XGBRegressor()\n",
    "seed = 123\n",
    "np.random.seed(123)\n",
    "X,_ = boxcox(train['cont4'].values+0.2)\n",
    "X = X.reshape(-1,1)\n",
    "X_train, X_val, Y_train, Y_val = train_test_split(X, Y, test_size=0.2, random_state=123)\n",
    "model.fit(X_train, Y_train)\n",
    "preds = model.predict(X_val)\n",
    "mean_absolute_error(Y_val, preds)"
   ]
  },
  {
   "cell_type": "code",
   "execution_count": 53,
   "metadata": {},
   "outputs": [
    {
     "data": {
      "text/plain": [
       "0.287630476375868"
      ]
     },
     "execution_count": 53,
     "metadata": {},
     "output_type": "execute_result"
    }
   ],
   "source": [
    "from xgboost import XGBRegressor\n",
    "from sklearn.model_selection import train_test_split\n",
    "from sklearn.metrics import mean_absolute_error\n",
    "model = XGBRegressor()\n",
    "seed = 123\n",
    "np.random.seed(123)\n",
    "bins = np.linspace(0.1,1.0,30)\n",
    "X = pd.get_dummies(pd.cut(train['cont4'].values, bins))\n",
    "# print(X.shape)\n",
    "# X = X.reshape(-1,1)\n",
    "X = X.values\n",
    "X_train, X_val, Y_train, Y_val = train_test_split(X, Y, test_size=0.2, random_state=123)\n",
    "model.fit(X_train, Y_train)\n",
    "preds = model.predict(X_val)\n",
    "mean_absolute_error(Y_val, preds)"
   ]
  },
  {
   "cell_type": "code",
   "execution_count": 63,
   "metadata": {},
   "outputs": [],
   "source": [
    "data_num['cont4'] = data['cont4'].values"
   ]
  },
  {
   "cell_type": "code",
   "execution_count": 54,
   "metadata": {},
   "outputs": [
    {
     "name": "stderr",
     "output_type": "stream",
     "text": [
      "/home/watts/anaconda3/envs/itv/lib/python3.6/site-packages/scipy/stats/stats.py:1633: FutureWarning: Using a non-tuple sequence for multidimensional indexing is deprecated; use `arr[tuple(seq)]` instead of `arr[seq]`. In the future this will be interpreted as an array index, `arr[np.array(seq)]`, which will result either in an error or a different result.\n",
      "  return np.add.reduce(sorted[indexer] * weights, axis=axis) / sumval\n"
     ]
    },
    {
     "data": {
      "text/plain": [
       "<matplotlib.axes._subplots.AxesSubplot at 0x7f685f9ee048>"
      ]
     },
     "execution_count": 54,
     "metadata": {},
     "output_type": "execute_result"
    },
    {
     "data": {
      "image/png": "[encoded data removed]",
      "text/plain": [
       "<Figure size 432x288 with 1 Axes>"
      ]
     },
     "metadata": {
      "needs_background": "light"
     },
     "output_type": "display_data"
    }
   ],
   "source": [
    "sns.distplot(data['cont5'])"
   ]
  },
  {
   "cell_type": "code",
   "execution_count": 56,
   "metadata": {},
   "outputs": [
    {
     "data": {
      "text/plain": [
       "0.2875938986117701"
      ]
     },
     "execution_count": 56,
     "metadata": {},
     "output_type": "execute_result"
    }
   ],
   "source": [
    "from xgboost import XGBRegressor\n",
    "from sklearn.model_selection import train_test_split\n",
    "from sklearn.metrics import mean_absolute_error\n",
    "model = XGBRegressor()\n",
    "seed = 123\n",
    "np.random.seed(123)\n",
    "X = train['cont5'].values\n",
    "X = X.reshape(-1,1)\n",
    "X_train, X_val, Y_train, Y_val = train_test_split(X, Y, test_size=0.2, random_state=123)\n",
    "model.fit(X_train, Y_train)\n",
    "preds = model.predict(X_val)\n",
    "mean_absolute_error(Y_val, preds)"
   ]
  },
  {
   "cell_type": "code",
   "execution_count": 57,
   "metadata": {},
   "outputs": [
    {
     "data": {
      "text/plain": [
       "0.2875938986117701"
      ]
     },
     "execution_count": 57,
     "metadata": {},
     "output_type": "execute_result"
    }
   ],
   "source": [
    "from xgboost import XGBRegressor\n",
    "from sklearn.model_selection import train_test_split\n",
    "from sklearn.metrics import mean_absolute_error\n",
    "model = XGBRegressor()\n",
    "seed = 123\n",
    "np.random.seed(123)\n",
    "X = np.log10(train['cont5'].values)\n",
    "X = X.reshape(-1,1)\n",
    "X_train, X_val, Y_train, Y_val = train_test_split(X, Y, test_size=0.2, random_state=123)\n",
    "model.fit(X_train, Y_train)\n",
    "preds = model.predict(X_val)\n",
    "mean_absolute_error(Y_val, preds)"
   ]
  },
  {
   "cell_type": "code",
   "execution_count": 60,
   "metadata": {},
   "outputs": [
    {
     "data": {
      "text/plain": [
       "0.2875938986117701"
      ]
     },
     "execution_count": 60,
     "metadata": {},
     "output_type": "execute_result"
    }
   ],
   "source": [
    "from xgboost import XGBRegressor\n",
    "from sklearn.model_selection import train_test_split\n",
    "from sklearn.metrics import mean_absolute_error\n",
    "model = XGBRegressor()\n",
    "seed = 123\n",
    "np.random.seed(123)\n",
    "X = np.sqrt(train['cont5'].values)\n",
    "X = X.reshape(-1,1)\n",
    "X_train, X_val, Y_train, Y_val = train_test_split(X, Y, test_size=0.2, random_state=123)\n",
    "model.fit(X_train, Y_train)\n",
    "preds = model.predict(X_val)\n",
    "mean_absolute_error(Y_val, preds)"
   ]
  },
  {
   "cell_type": "code",
   "execution_count": 83,
   "metadata": {},
   "outputs": [
    {
     "data": {
      "text/plain": [
       "0.2875938986117701"
      ]
     },
     "execution_count": 83,
     "metadata": {},
     "output_type": "execute_result"
    }
   ],
   "source": [
    "from xgboost import XGBRegressor\n",
    "from sklearn.model_selection import train_test_split\n",
    "from sklearn.metrics import mean_absolute_error\n",
    "from scipy.stats import boxcox\n",
    "model = XGBRegressor()\n",
    "seed = 123\n",
    "np.random.seed(123)\n",
    "X,_ = boxcox(train['cont5'].values+0.2)\n",
    "X = X.reshape(-1,1)\n",
    "X_train, X_val, Y_train, Y_val = train_test_split(X, Y, test_size=0.2, random_state=123)\n",
    "model.fit(X_train, Y_train)\n",
    "preds = model.predict(X_val)\n",
    "mean_absolute_error(Y_val, preds)"
   ]
  },
  {
   "cell_type": "code",
   "execution_count": 62,
   "metadata": {},
   "outputs": [
    {
     "data": {
      "text/plain": [
       "0.2878528410681162"
      ]
     },
     "execution_count": 62,
     "metadata": {},
     "output_type": "execute_result"
    }
   ],
   "source": [
    "from xgboost import XGBRegressor\n",
    "from sklearn.model_selection import train_test_split\n",
    "from sklearn.metrics import mean_absolute_error\n",
    "model = XGBRegressor()\n",
    "seed = 123\n",
    "np.random.seed(123)\n",
    "bins = np.linspace(0.2,1.5,40)\n",
    "X = pd.get_dummies(pd.cut(train['cont5'].values, bins))\n",
    "# print(X.shape)\n",
    "# X = X.reshape(-1,1)\n",
    "X = X.values\n",
    "X_train, X_val, Y_train, Y_val = train_test_split(X, Y, test_size=0.2, random_state=123)\n",
    "model.fit(X_train, Y_train)\n",
    "preds = model.predict(X_val)\n",
    "mean_absolute_error(Y_val, preds)"
   ]
  },
  {
   "cell_type": "code",
   "execution_count": 64,
   "metadata": {},
   "outputs": [],
   "source": [
    "data_num['cont5'] = data['cont5'].values"
   ]
  },
  {
   "cell_type": "code",
   "execution_count": 66,
   "metadata": {},
   "outputs": [
    {
     "name": "stderr",
     "output_type": "stream",
     "text": [
      "/home/watts/anaconda3/envs/itv/lib/python3.6/site-packages/scipy/stats/stats.py:1633: FutureWarning: Using a non-tuple sequence for multidimensional indexing is deprecated; use `arr[tuple(seq)]` instead of `arr[seq]`. In the future this will be interpreted as an array index, `arr[np.array(seq)]`, which will result either in an error or a different result.\n",
      "  return np.add.reduce(sorted[indexer] * weights, axis=axis) / sumval\n"
     ]
    },
    {
     "data": {
      "text/plain": [
       "<matplotlib.axes._subplots.AxesSubplot at 0x7f685f8b1160>"
      ]
     },
     "execution_count": 66,
     "metadata": {},
     "output_type": "execute_result"
    },
    {
     "data": {
      "image/png": "[encoded data removed]",
      "text/plain": [
       "<Figure size 432x288 with 1 Axes>"
      ]
     },
     "metadata": {
      "needs_background": "light"
     },
     "output_type": "display_data"
    }
   ],
   "source": [
    "sns.distplot(train['cont6'])"
   ]
  },
  {
   "cell_type": "code",
   "execution_count": 65,
   "metadata": {},
   "outputs": [
    {
     "data": {
      "text/plain": [
       "0.2871125607465133"
      ]
     },
     "execution_count": 65,
     "metadata": {},
     "output_type": "execute_result"
    }
   ],
   "source": [
    "from xgboost import XGBRegressor\n",
    "from sklearn.model_selection import train_test_split\n",
    "from sklearn.metrics import mean_absolute_error\n",
    "model = XGBRegressor()\n",
    "seed = 123\n",
    "np.random.seed(123)\n",
    "X = train['cont6'].values\n",
    "X = X.reshape(-1,1)\n",
    "X_train, X_val, Y_train, Y_val = train_test_split(X, Y, test_size=0.2, random_state=123)\n",
    "model.fit(X_train, Y_train)\n",
    "preds = model.predict(X_val)\n",
    "mean_absolute_error(Y_val, preds)"
   ]
  },
  {
   "cell_type": "code",
   "execution_count": 67,
   "metadata": {},
   "outputs": [
    {
     "data": {
      "text/plain": [
       "0.2871125607465133"
      ]
     },
     "execution_count": 67,
     "metadata": {},
     "output_type": "execute_result"
    }
   ],
   "source": [
    "from xgboost import XGBRegressor\n",
    "from sklearn.model_selection import train_test_split\n",
    "from sklearn.metrics import mean_absolute_error\n",
    "model = XGBRegressor()\n",
    "seed = 123\n",
    "np.random.seed(123)\n",
    "X = np.log10(train['cont6'].values+0.1)\n",
    "X = X.reshape(-1,1)\n",
    "X_train, X_val, Y_train, Y_val = train_test_split(X, Y, test_size=0.2, random_state=123)\n",
    "model.fit(X_train, Y_train)\n",
    "preds = model.predict(X_val)\n",
    "mean_absolute_error(Y_val, preds)"
   ]
  },
  {
   "cell_type": "code",
   "execution_count": 74,
   "metadata": {},
   "outputs": [
    {
     "data": {
      "text/plain": [
       "0.2871125607465133"
      ]
     },
     "execution_count": 74,
     "metadata": {},
     "output_type": "execute_result"
    }
   ],
   "source": [
    "from xgboost import XGBRegressor\n",
    "from sklearn.model_selection import train_test_split\n",
    "from sklearn.metrics import mean_absolute_error\n",
    "model = XGBRegressor()\n",
    "seed = 123\n",
    "np.random.seed(123)\n",
    "X = np.cbrt(train['cont6'].values+0.1)\n",
    "X = X.reshape(-1,1)\n",
    "X_train, X_val, Y_train, Y_val = train_test_split(X, Y, test_size=0.2, random_state=123)\n",
    "model.fit(X_train, Y_train)\n",
    "preds = model.predict(X_val)\n",
    "mean_absolute_error(Y_val, preds)"
   ]
  },
  {
   "cell_type": "code",
   "execution_count": 84,
   "metadata": {},
   "outputs": [
    {
     "data": {
      "text/plain": [
       "0.2871125607465133"
      ]
     },
     "execution_count": 84,
     "metadata": {},
     "output_type": "execute_result"
    }
   ],
   "source": [
    "from xgboost import XGBRegressor\n",
    "from sklearn.model_selection import train_test_split\n",
    "from sklearn.metrics import mean_absolute_error\n",
    "from scipy.stats import boxcox\n",
    "model = XGBRegressor()\n",
    "seed = 123\n",
    "np.random.seed(123)\n",
    "X,_ = boxcox(train['cont6'].values+0.2)\n",
    "X = X.reshape(-1,1)\n",
    "X_train, X_val, Y_train, Y_val = train_test_split(X, Y, test_size=0.2, random_state=123)\n",
    "model.fit(X_train, Y_train)\n",
    "preds = model.predict(X_val)\n",
    "mean_absolute_error(Y_val, preds)"
   ]
  },
  {
   "cell_type": "code",
   "execution_count": 75,
   "metadata": {},
   "outputs": [
    {
     "data": {
      "text/plain": [
       "0.28765603154182673"
      ]
     },
     "execution_count": 75,
     "metadata": {},
     "output_type": "execute_result"
    }
   ],
   "source": [
    "from xgboost import XGBRegressor\n",
    "from sklearn.model_selection import train_test_split\n",
    "from sklearn.metrics import mean_absolute_error\n",
    "model = XGBRegressor()\n",
    "seed = 123\n",
    "np.random.seed(123)\n",
    "bins = np.linspace(-0.1,1.2,40)\n",
    "X = pd.get_dummies(pd.cut(train['cont6'].values, bins))\n",
    "# print(X.shape)\n",
    "# X = X.reshape(-1,1)\n",
    "X = X.values\n",
    "X_train, X_val, Y_train, Y_val = train_test_split(X, Y, test_size=0.2, random_state=123)\n",
    "model.fit(X_train, Y_train)\n",
    "preds = model.predict(X_val)\n",
    "mean_absolute_error(Y_val, preds)"
   ]
  },
  {
   "cell_type": "code",
   "execution_count": 76,
   "metadata": {},
   "outputs": [],
   "source": [
    "data_num['cont6'] = data['cont6'].values"
   ]
  },
  {
   "cell_type": "code",
   "execution_count": 78,
   "metadata": {},
   "outputs": [
    {
     "name": "stderr",
     "output_type": "stream",
     "text": [
      "/home/watts/anaconda3/envs/itv/lib/python3.6/site-packages/scipy/stats/stats.py:1633: FutureWarning: Using a non-tuple sequence for multidimensional indexing is deprecated; use `arr[tuple(seq)]` instead of `arr[seq]`. In the future this will be interpreted as an array index, `arr[np.array(seq)]`, which will result either in an error or a different result.\n",
      "  return np.add.reduce(sorted[indexer] * weights, axis=axis) / sumval\n"
     ]
    },
    {
     "data": {
      "text/plain": [
       "<matplotlib.axes._subplots.AxesSubplot at 0x7f67f449f7b8>"
      ]
     },
     "execution_count": 78,
     "metadata": {},
     "output_type": "execute_result"
    },
    {
     "data": {
      "image/png": "[encoded data removed]",
      "text/plain": [
       "<Figure size 432x288 with 1 Axes>"
      ]
     },
     "metadata": {
      "needs_background": "light"
     },
     "output_type": "display_data"
    }
   ],
   "source": [
    "sns.distplot(train['cont7'])"
   ]
  },
  {
   "cell_type": "code",
   "execution_count": 77,
   "metadata": {},
   "outputs": [
    {
     "data": {
      "text/plain": [
       "0.28680800961903963"
      ]
     },
     "execution_count": 77,
     "metadata": {},
     "output_type": "execute_result"
    }
   ],
   "source": [
    "from xgboost import XGBRegressor\n",
    "from sklearn.model_selection import train_test_split\n",
    "from sklearn.metrics import mean_absolute_error\n",
    "model = XGBRegressor()\n",
    "seed = 123\n",
    "np.random.seed(123)\n",
    "X = train['cont7'].values\n",
    "X = X.reshape(-1,1)\n",
    "X_train, X_val, Y_train, Y_val = train_test_split(X, Y, test_size=0.2, random_state=123)\n",
    "model.fit(X_train, Y_train)\n",
    "preds = model.predict(X_val)\n",
    "mean_absolute_error(Y_val, preds)"
   ]
  },
  {
   "cell_type": "code",
   "execution_count": 79,
   "metadata": {},
   "outputs": [
    {
     "data": {
      "text/plain": [
       "0.28680800961903963"
      ]
     },
     "execution_count": 79,
     "metadata": {},
     "output_type": "execute_result"
    }
   ],
   "source": [
    "from xgboost import XGBRegressor\n",
    "from sklearn.model_selection import train_test_split\n",
    "from sklearn.metrics import mean_absolute_error\n",
    "model = XGBRegressor()\n",
    "seed = 123\n",
    "np.random.seed(123)\n",
    "X = np.log10(train['cont7'].values)\n",
    "X = X.reshape(-1,1)\n",
    "X_train, X_val, Y_train, Y_val = train_test_split(X, Y, test_size=0.2, random_state=123)\n",
    "model.fit(X_train, Y_train)\n",
    "preds = model.predict(X_val)\n",
    "mean_absolute_error(Y_val, preds)"
   ]
  },
  {
   "cell_type": "code",
   "execution_count": 86,
   "metadata": {},
   "outputs": [
    {
     "data": {
      "text/plain": [
       "0.2868058562176729"
      ]
     },
     "execution_count": 86,
     "metadata": {},
     "output_type": "execute_result"
    }
   ],
   "source": [
    "from xgboost import XGBRegressor\n",
    "from sklearn.model_selection import train_test_split\n",
    "from sklearn.metrics import mean_absolute_error\n",
    "model = XGBRegressor()\n",
    "seed = 123\n",
    "np.random.seed(123)\n",
    "X = np.cos(train['cont7'].values)\n",
    "X = X.reshape(-1,1)\n",
    "X_train, X_val, Y_train, Y_val = train_test_split(X, Y, test_size=0.2, random_state=123)\n",
    "model.fit(X_train, Y_train)\n",
    "preds = model.predict(X_val)\n",
    "mean_absolute_error(Y_val, preds)"
   ]
  },
  {
   "cell_type": "code",
   "execution_count": 88,
   "metadata": {},
   "outputs": [
    {
     "data": {
      "text/plain": [
       "0.28680800961903963"
      ]
     },
     "execution_count": 88,
     "metadata": {},
     "output_type": "execute_result"
    }
   ],
   "source": [
    "from xgboost import XGBRegressor\n",
    "from sklearn.model_selection import train_test_split\n",
    "from sklearn.metrics import mean_absolute_error\n",
    "from scipy.stats import boxcox\n",
    "model = XGBRegressor()\n",
    "seed = 123\n",
    "np.random.seed(123)\n",
    "X,_ = boxcox(train['cont7'].values+1.0)\n",
    "X = X.reshape(-1,1)\n",
    "X_train, X_val, Y_train, Y_val = train_test_split(X, Y, test_size=0.2, random_state=123)\n",
    "model.fit(X_train, Y_train)\n",
    "preds = model.predict(X_val)\n",
    "mean_absolute_error(Y_val, preds)"
   ]
  },
  {
   "cell_type": "code",
   "execution_count": 89,
   "metadata": {},
   "outputs": [],
   "source": [
    "data_num['cont7'] = np.cos(data['cont7'].values)"
   ]
  },
  {
   "cell_type": "code",
   "execution_count": 90,
   "metadata": {},
   "outputs": [
    {
     "name": "stderr",
     "output_type": "stream",
     "text": [
      "/home/watts/anaconda3/envs/itv/lib/python3.6/site-packages/scipy/stats/stats.py:1633: FutureWarning: Using a non-tuple sequence for multidimensional indexing is deprecated; use `arr[tuple(seq)]` instead of `arr[seq]`. In the future this will be interpreted as an array index, `arr[np.array(seq)]`, which will result either in an error or a different result.\n",
      "  return np.add.reduce(sorted[indexer] * weights, axis=axis) / sumval\n"
     ]
    },
    {
     "data": {
      "text/plain": [
       "<matplotlib.axes._subplots.AxesSubplot at 0x7f67f4439080>"
      ]
     },
     "execution_count": 90,
     "metadata": {},
     "output_type": "execute_result"
    },
    {
     "data": {
      "image/png": "[encoded data removed]",
      "text/plain": [
       "<Figure size 432x288 with 1 Axes>"
      ]
     },
     "metadata": {
      "needs_background": "light"
     },
     "output_type": "display_data"
    }
   ],
   "source": [
    "sns.distplot(train['cont8'])"
   ]
  },
  {
   "cell_type": "code",
   "execution_count": 91,
   "metadata": {},
   "outputs": [
    {
     "data": {
      "text/plain": [
       "0.28759875685419434"
      ]
     },
     "execution_count": 91,
     "metadata": {},
     "output_type": "execute_result"
    }
   ],
   "source": [
    "from xgboost import XGBRegressor\n",
    "from sklearn.model_selection import train_test_split\n",
    "from sklearn.metrics import mean_absolute_error\n",
    "model = XGBRegressor()\n",
    "seed = 123\n",
    "np.random.seed(123)\n",
    "X = train['cont8'].values\n",
    "X = X.reshape(-1,1)\n",
    "X_train, X_val, Y_train, Y_val = train_test_split(X, Y, test_size=0.2, random_state=123)\n",
    "model.fit(X_train, Y_train)\n",
    "preds = model.predict(X_val)\n",
    "mean_absolute_error(Y_val, preds)"
   ]
  },
  {
   "cell_type": "code",
   "execution_count": 92,
   "metadata": {},
   "outputs": [
    {
     "data": {
      "text/plain": [
       "0.28759875685419434"
      ]
     },
     "execution_count": 92,
     "metadata": {},
     "output_type": "execute_result"
    }
   ],
   "source": [
    "from xgboost import XGBRegressor\n",
    "from sklearn.model_selection import train_test_split\n",
    "from sklearn.metrics import mean_absolute_error\n",
    "model = XGBRegressor()\n",
    "seed = 123\n",
    "np.random.seed(123)\n",
    "X = np.log10(train['cont8'].values)\n",
    "X = X.reshape(-1,1)\n",
    "X_train, X_val, Y_train, Y_val = train_test_split(X, Y, test_size=0.2, random_state=123)\n",
    "model.fit(X_train, Y_train)\n",
    "preds = model.predict(X_val)\n",
    "mean_absolute_error(Y_val, preds)"
   ]
  },
  {
   "cell_type": "code",
   "execution_count": 96,
   "metadata": {},
   "outputs": [
    {
     "data": {
      "text/plain": [
       "0.28759875685419434"
      ]
     },
     "execution_count": 96,
     "metadata": {},
     "output_type": "execute_result"
    }
   ],
   "source": [
    "from xgboost import XGBRegressor\n",
    "from sklearn.model_selection import train_test_split\n",
    "from sklearn.metrics import mean_absolute_error\n",
    "model = XGBRegressor()\n",
    "seed = 123\n",
    "np.random.seed(123)\n",
    "X = np.cbrt(train['cont8'].values)\n",
    "X = X.reshape(-1,1)\n",
    "X_train, X_val, Y_train, Y_val = train_test_split(X, Y, test_size=0.2, random_state=123)\n",
    "model.fit(X_train, Y_train)\n",
    "preds = model.predict(X_val)\n",
    "mean_absolute_error(Y_val, preds)"
   ]
  },
  {
   "cell_type": "code",
   "execution_count": 97,
   "metadata": {},
   "outputs": [
    {
     "data": {
      "text/plain": [
       "0.28759875685419434"
      ]
     },
     "execution_count": 97,
     "metadata": {},
     "output_type": "execute_result"
    }
   ],
   "source": [
    "from xgboost import XGBRegressor\n",
    "from sklearn.model_selection import train_test_split\n",
    "from sklearn.metrics import mean_absolute_error\n",
    "from scipy.stats import boxcox\n",
    "model = XGBRegressor()\n",
    "seed = 123\n",
    "np.random.seed(123)\n",
    "X,_ = boxcox(train['cont8'].values+1.0)\n",
    "X = X.reshape(-1,1)\n",
    "X_train, X_val, Y_train, Y_val = train_test_split(X, Y, test_size=0.2, random_state=123)\n",
    "model.fit(X_train, Y_train)\n",
    "preds = model.predict(X_val)\n",
    "mean_absolute_error(Y_val, preds)"
   ]
  },
  {
   "cell_type": "code",
   "execution_count": 100,
   "metadata": {},
   "outputs": [
    {
     "data": {
      "text/plain": [
       "0.28785355398472534"
      ]
     },
     "execution_count": 100,
     "metadata": {},
     "output_type": "execute_result"
    }
   ],
   "source": [
    "from xgboost import XGBRegressor\n",
    "from sklearn.model_selection import train_test_split\n",
    "from sklearn.metrics import mean_absolute_error\n",
    "model = XGBRegressor()\n",
    "seed = 123\n",
    "np.random.seed(123)\n",
    "bins = np.linspace(0.1,1.1,30)\n",
    "X = pd.get_dummies(pd.cut(train['cont8'].values, bins))\n",
    "# print(X.shape)\n",
    "# X = X.reshape(-1,1)\n",
    "X = X.values\n",
    "X_train, X_val, Y_train, Y_val = train_test_split(X, Y, test_size=0.2, random_state=123)\n",
    "model.fit(X_train, Y_train)\n",
    "preds = model.predict(X_val)\n",
    "mean_absolute_error(Y_val, preds)"
   ]
  },
  {
   "cell_type": "code",
   "execution_count": 101,
   "metadata": {},
   "outputs": [],
   "source": [
    "data_num['cont8'] = data['cont8'].values"
   ]
  },
  {
   "cell_type": "code",
   "execution_count": 102,
   "metadata": {},
   "outputs": [
    {
     "data": {
      "text/plain": [
       "0.28671878899858905"
      ]
     },
     "execution_count": 102,
     "metadata": {},
     "output_type": "execute_result"
    }
   ],
   "source": [
    "from xgboost import XGBRegressor\n",
    "from sklearn.model_selection import train_test_split\n",
    "from sklearn.metrics import mean_absolute_error\n",
    "model = XGBRegressor()\n",
    "seed = 123\n",
    "np.random.seed(123)\n",
    "X = train['cont9'].values\n",
    "X = X.reshape(-1,1)\n",
    "X_train, X_val, Y_train, Y_val = train_test_split(X, Y, test_size=0.2, random_state=123)\n",
    "model.fit(X_train, Y_train)\n",
    "preds = model.predict(X_val)\n",
    "mean_absolute_error(Y_val, preds)"
   ]
  },
  {
   "cell_type": "code",
   "execution_count": 103,
   "metadata": {},
   "outputs": [
    {
     "data": {
      "text/plain": [
       "0.28671878899858905"
      ]
     },
     "execution_count": 103,
     "metadata": {},
     "output_type": "execute_result"
    }
   ],
   "source": [
    "from xgboost import XGBRegressor\n",
    "from sklearn.model_selection import train_test_split\n",
    "from sklearn.metrics import mean_absolute_error\n",
    "model = XGBRegressor()\n",
    "seed = 123\n",
    "np.random.seed(123)\n",
    "X = np.log10(train['cont9'].values)\n",
    "X = X.reshape(-1,1)\n",
    "X_train, X_val, Y_train, Y_val = train_test_split(X, Y, test_size=0.2, random_state=123)\n",
    "model.fit(X_train, Y_train)\n",
    "preds = model.predict(X_val)\n",
    "mean_absolute_error(Y_val, preds)"
   ]
  },
  {
   "cell_type": "code",
   "execution_count": 108,
   "metadata": {},
   "outputs": [
    {
     "data": {
      "text/plain": [
       "0.28671878899858905"
      ]
     },
     "execution_count": 108,
     "metadata": {},
     "output_type": "execute_result"
    }
   ],
   "source": [
    "from xgboost import XGBRegressor\n",
    "from sklearn.model_selection import train_test_split\n",
    "from sklearn.metrics import mean_absolute_error\n",
    "model = XGBRegressor()\n",
    "seed = 123\n",
    "np.random.seed(123)\n",
    "X = np.cbrt(train['cont9'].values)\n",
    "X = X.reshape(-1,1)\n",
    "X_train, X_val, Y_train, Y_val = train_test_split(X, Y, test_size=0.2, random_state=123)\n",
    "model.fit(X_train, Y_train)\n",
    "preds = model.predict(X_val)\n",
    "mean_absolute_error(Y_val, preds)"
   ]
  },
  {
   "cell_type": "code",
   "execution_count": 111,
   "metadata": {},
   "outputs": [
    {
     "data": {
      "text/plain": [
       "<matplotlib.axes._subplots.AxesSubplot at 0x7f67f41c2470>"
      ]
     },
     "execution_count": 111,
     "metadata": {},
     "output_type": "execute_result"
    },
    {
     "data": {
      "image/png": "[encoded data removed]",
      "text/plain": [
       "<Figure size 432x288 with 1 Axes>"
      ]
     },
     "metadata": {
      "needs_background": "light"
     },
     "output_type": "display_data"
    }
   ],
   "source": [
    "sns.distplot(data['cont9'])"
   ]
  },
  {
   "cell_type": "code",
   "execution_count": 112,
   "metadata": {},
   "outputs": [
    {
     "data": {
      "text/plain": [
       "0.2877280585719034"
      ]
     },
     "execution_count": 112,
     "metadata": {},
     "output_type": "execute_result"
    }
   ],
   "source": [
    "from xgboost import XGBRegressor\n",
    "from sklearn.model_selection import train_test_split\n",
    "from sklearn.metrics import mean_absolute_error\n",
    "model = XGBRegressor()\n",
    "seed = 123\n",
    "np.random.seed(123)\n",
    "bins = np.linspace(-0.1,1.2,30)\n",
    "X = pd.get_dummies(pd.cut(train['cont9'].values, bins))\n",
    "# print(X.shape)\n",
    "# X = X.reshape(-1,1)\n",
    "X = X.values\n",
    "X_train, X_val, Y_train, Y_val = train_test_split(X, Y, test_size=0.2, random_state=123)\n",
    "model.fit(X_train, Y_train)\n",
    "preds = model.predict(X_val)\n",
    "mean_absolute_error(Y_val, preds)"
   ]
  },
  {
   "cell_type": "code",
   "execution_count": 109,
   "metadata": {},
   "outputs": [],
   "source": [
    "data_num['cont9'] = data['cont9'].values"
   ]
  },
  {
   "cell_type": "code",
   "execution_count": 113,
   "metadata": {},
   "outputs": [
    {
     "data": {
      "text/plain": [
       "0.2869555748659177"
      ]
     },
     "execution_count": 113,
     "metadata": {},
     "output_type": "execute_result"
    }
   ],
   "source": [
    "from xgboost import XGBRegressor\n",
    "from sklearn.model_selection import train_test_split\n",
    "from sklearn.metrics import mean_absolute_error\n",
    "model = XGBRegressor()\n",
    "seed = 123\n",
    "np.random.seed(123)\n",
    "X = train['cont10'].values\n",
    "X = X.reshape(-1,1)\n",
    "X_train, X_val, Y_train, Y_val = train_test_split(X, Y, test_size=0.2, random_state=123)\n",
    "model.fit(X_train, Y_train)\n",
    "preds = model.predict(X_val)\n",
    "mean_absolute_error(Y_val, preds)"
   ]
  },
  {
   "cell_type": "code",
   "execution_count": 114,
   "metadata": {},
   "outputs": [
    {
     "name": "stderr",
     "output_type": "stream",
     "text": [
      "/home/watts/anaconda3/envs/itv/lib/python3.6/site-packages/scipy/stats/stats.py:1633: FutureWarning: Using a non-tuple sequence for multidimensional indexing is deprecated; use `arr[tuple(seq)]` instead of `arr[seq]`. In the future this will be interpreted as an array index, `arr[np.array(seq)]`, which will result either in an error or a different result.\n",
      "  return np.add.reduce(sorted[indexer] * weights, axis=axis) / sumval\n"
     ]
    },
    {
     "data": {
      "text/plain": [
       "<matplotlib.axes._subplots.AxesSubplot at 0x7f67f411b438>"
      ]
     },
     "execution_count": 114,
     "metadata": {},
     "output_type": "execute_result"
    },
    {
     "data": {
      "image/png": "[encoded data removed]",
      "text/plain": [
       "<Figure size 432x288 with 1 Axes>"
      ]
     },
     "metadata": {
      "needs_background": "light"
     },
     "output_type": "display_data"
    }
   ],
   "source": [
    "sns.distplot(data['cont10'])"
   ]
  },
  {
   "cell_type": "code",
   "execution_count": 115,
   "metadata": {},
   "outputs": [
    {
     "name": "stderr",
     "output_type": "stream",
     "text": [
      "/home/watts/anaconda3/envs/itv/lib/python3.6/site-packages/ipykernel_launcher.py:7: RuntimeWarning: divide by zero encountered in log10\n",
      "  import sys\n"
     ]
    },
    {
     "data": {
      "text/plain": [
       "0.2869636454585107"
      ]
     },
     "execution_count": 115,
     "metadata": {},
     "output_type": "execute_result"
    }
   ],
   "source": [
    "from xgboost import XGBRegressor\n",
    "from sklearn.model_selection import train_test_split\n",
    "from sklearn.metrics import mean_absolute_error\n",
    "model = XGBRegressor()\n",
    "seed = 123\n",
    "np.random.seed(123)\n",
    "X = np.log10(train['cont10'].values)\n",
    "X = X.reshape(-1,1)\n",
    "X_train, X_val, Y_train, Y_val = train_test_split(X, Y, test_size=0.2, random_state=123)\n",
    "model.fit(X_train, Y_train)\n",
    "preds = model.predict(X_val)\n",
    "mean_absolute_error(Y_val, preds)"
   ]
  },
  {
   "cell_type": "code",
   "execution_count": 119,
   "metadata": {},
   "outputs": [
    {
     "data": {
      "text/plain": [
       "0.2869555748659177"
      ]
     },
     "execution_count": 119,
     "metadata": {},
     "output_type": "execute_result"
    }
   ],
   "source": [
    "from xgboost import XGBRegressor\n",
    "from sklearn.model_selection import train_test_split\n",
    "from sklearn.metrics import mean_absolute_error\n",
    "model = XGBRegressor()\n",
    "seed = 123\n",
    "np.random.seed(123)\n",
    "X = np.cbrt(train['cont10'].values)\n",
    "X = X.reshape(-1,1)\n",
    "X_train, X_val, Y_train, Y_val = train_test_split(X, Y, test_size=0.2, random_state=123)\n",
    "model.fit(X_train, Y_train)\n",
    "preds = model.predict(X_val)\n",
    "mean_absolute_error(Y_val, preds)"
   ]
  },
  {
   "cell_type": "code",
   "execution_count": 122,
   "metadata": {},
   "outputs": [
    {
     "data": {
      "text/plain": [
       "0.2875885098130304"
      ]
     },
     "execution_count": 122,
     "metadata": {},
     "output_type": "execute_result"
    }
   ],
   "source": [
    "from xgboost import XGBRegressor\n",
    "from sklearn.model_selection import train_test_split\n",
    "from sklearn.metrics import mean_absolute_error\n",
    "model = XGBRegressor()\n",
    "seed = 123\n",
    "np.random.seed(123)\n",
    "bins = np.linspace(-0.1,1.2,40)\n",
    "X = pd.get_dummies(pd.cut(train['cont10'].values, bins))\n",
    "# print(X.shape)\n",
    "# X = X.reshape(-1,1)\n",
    "X = X.values\n",
    "X_train, X_val, Y_train, Y_val = train_test_split(X, Y, test_size=0.2, random_state=123)\n",
    "model.fit(X_train, Y_train)\n",
    "preds = model.predict(X_val)\n",
    "mean_absolute_error(Y_val, preds)"
   ]
  },
  {
   "cell_type": "code",
   "execution_count": 123,
   "metadata": {},
   "outputs": [],
   "source": [
    "data_num['cont10'] = data['cont10'].values"
   ]
  },
  {
   "cell_type": "code",
   "execution_count": 124,
   "metadata": {},
   "outputs": [
    {
     "data": {
      "text/plain": [
       "0.2868996177734022"
      ]
     },
     "execution_count": 124,
     "metadata": {},
     "output_type": "execute_result"
    }
   ],
   "source": [
    "from xgboost import XGBRegressor\n",
    "from sklearn.model_selection import train_test_split\n",
    "from sklearn.metrics import mean_absolute_error\n",
    "model = XGBRegressor()\n",
    "seed = 123\n",
    "np.random.seed(123)\n",
    "X = train['cont11'].values\n",
    "X = X.reshape(-1,1)\n",
    "X_train, X_val, Y_train, Y_val = train_test_split(X, Y, test_size=0.2, random_state=123)\n",
    "model.fit(X_train, Y_train)\n",
    "preds = model.predict(X_val)\n",
    "mean_absolute_error(Y_val, preds)"
   ]
  },
  {
   "cell_type": "code",
   "execution_count": 129,
   "metadata": {},
   "outputs": [
    {
     "data": {
      "text/plain": [
       "0.2868996177734022"
      ]
     },
     "execution_count": 129,
     "metadata": {},
     "output_type": "execute_result"
    }
   ],
   "source": [
    "from xgboost import XGBRegressor\n",
    "from sklearn.model_selection import train_test_split\n",
    "from sklearn.metrics import mean_absolute_error\n",
    "model = XGBRegressor()\n",
    "seed = 123\n",
    "np.random.seed(123)\n",
    "X = np.cbrt(train['cont11'].values)\n",
    "X = X.reshape(-1,1)\n",
    "X_train, X_val, Y_train, Y_val = train_test_split(X, Y, test_size=0.2, random_state=123)\n",
    "model.fit(X_train, Y_train)\n",
    "preds = model.predict(X_val)\n",
    "mean_absolute_error(Y_val, preds)"
   ]
  },
  {
   "cell_type": "code",
   "execution_count": 130,
   "metadata": {},
   "outputs": [
    {
     "data": {
      "text/plain": [
       "0.2868996177734022"
      ]
     },
     "execution_count": 130,
     "metadata": {},
     "output_type": "execute_result"
    }
   ],
   "source": [
    "from xgboost import XGBRegressor\n",
    "from sklearn.model_selection import train_test_split\n",
    "from sklearn.metrics import mean_absolute_error\n",
    "from scipy.stats import boxcox\n",
    "model = XGBRegressor()\n",
    "seed = 123\n",
    "np.random.seed(123)\n",
    "X,_ = boxcox(train['cont11'].values)\n",
    "X = X.reshape(-1,1)\n",
    "X_train, X_val, Y_train, Y_val = train_test_split(X, Y, test_size=0.2, random_state=123)\n",
    "model.fit(X_train, Y_train)\n",
    "preds = model.predict(X_val)\n",
    "mean_absolute_error(Y_val, preds)"
   ]
  },
  {
   "cell_type": "code",
   "execution_count": 131,
   "metadata": {},
   "outputs": [
    {
     "name": "stderr",
     "output_type": "stream",
     "text": [
      "/home/watts/anaconda3/envs/itv/lib/python3.6/site-packages/scipy/stats/stats.py:1633: FutureWarning: Using a non-tuple sequence for multidimensional indexing is deprecated; use `arr[tuple(seq)]` instead of `arr[seq]`. In the future this will be interpreted as an array index, `arr[np.array(seq)]`, which will result either in an error or a different result.\n",
      "  return np.add.reduce(sorted[indexer] * weights, axis=axis) / sumval\n"
     ]
    },
    {
     "data": {
      "text/plain": [
       "<matplotlib.axes._subplots.AxesSubplot at 0x7f67f40a5940>"
      ]
     },
     "execution_count": 131,
     "metadata": {},
     "output_type": "execute_result"
    },
    {
     "data": {
      "image/png": "[encoded data removed]",
      "text/plain": [
       "<Figure size 432x288 with 1 Axes>"
      ]
     },
     "metadata": {
      "needs_background": "light"
     },
     "output_type": "display_data"
    }
   ],
   "source": [
    "sns.distplot(data['cont11'])"
   ]
  },
  {
   "cell_type": "code",
   "execution_count": 133,
   "metadata": {},
   "outputs": [
    {
     "data": {
      "text/plain": [
       "0.28741998395705876"
      ]
     },
     "execution_count": 133,
     "metadata": {},
     "output_type": "execute_result"
    }
   ],
   "source": [
    "from xgboost import XGBRegressor\n",
    "from sklearn.model_selection import train_test_split\n",
    "from sklearn.metrics import mean_absolute_error\n",
    "model = XGBRegressor()\n",
    "seed = 123\n",
    "np.random.seed(123)\n",
    "bins = np.linspace(-0.1,1.1,30)\n",
    "X = pd.get_dummies(pd.cut(train['cont11'].values, bins))\n",
    "# print(X.shape)\n",
    "# X = X.reshape(-1,1)\n",
    "X = X.values\n",
    "X_train, X_val, Y_train, Y_val = train_test_split(X, Y, test_size=0.2, random_state=123)\n",
    "model.fit(X_train, Y_train)\n",
    "preds = model.predict(X_val)\n",
    "mean_absolute_error(Y_val, preds)"
   ]
  },
  {
   "cell_type": "code",
   "execution_count": 134,
   "metadata": {},
   "outputs": [],
   "source": [
    "data_num['cont11'] = data['cont11'].values"
   ]
  },
  {
   "cell_type": "code",
   "execution_count": 135,
   "metadata": {},
   "outputs": [
    {
     "data": {
      "text/plain": [
       "0.2868136866557177"
      ]
     },
     "execution_count": 135,
     "metadata": {},
     "output_type": "execute_result"
    }
   ],
   "source": [
    "from xgboost import XGBRegressor\n",
    "from sklearn.model_selection import train_test_split\n",
    "from sklearn.metrics import mean_absolute_error\n",
    "from scipy.stats import boxcox\n",
    "model = XGBRegressor()\n",
    "seed = 123\n",
    "np.random.seed(123)\n",
    "X = train['cont12'].values\n",
    "X = X.reshape(-1,1)\n",
    "X_train, X_val, Y_train, Y_val = train_test_split(X, Y, test_size=0.2, random_state=123)\n",
    "model.fit(X_train, Y_train)\n",
    "preds = model.predict(X_val)\n",
    "mean_absolute_error(Y_val, preds)"
   ]
  },
  {
   "cell_type": "code",
   "execution_count": 136,
   "metadata": {},
   "outputs": [
    {
     "data": {
      "text/plain": [
       "0.2868136866557177"
      ]
     },
     "execution_count": 136,
     "metadata": {},
     "output_type": "execute_result"
    }
   ],
   "source": [
    "from xgboost import XGBRegressor\n",
    "from sklearn.model_selection import train_test_split\n",
    "from sklearn.metrics import mean_absolute_error\n",
    "from scipy.stats import boxcox\n",
    "model = XGBRegressor()\n",
    "seed = 123\n",
    "np.random.seed(123)\n",
    "X = np.log10(train['cont12'].values)\n",
    "X = X.reshape(-1,1)\n",
    "X_train, X_val, Y_train, Y_val = train_test_split(X, Y, test_size=0.2, random_state=123)\n",
    "model.fit(X_train, Y_train)\n",
    "preds = model.predict(X_val)\n",
    "mean_absolute_error(Y_val, preds)"
   ]
  },
  {
   "cell_type": "code",
   "execution_count": 141,
   "metadata": {},
   "outputs": [
    {
     "data": {
      "text/plain": [
       "0.2868136866557177"
      ]
     },
     "execution_count": 141,
     "metadata": {},
     "output_type": "execute_result"
    }
   ],
   "source": [
    "from xgboost import XGBRegressor\n",
    "from sklearn.model_selection import train_test_split\n",
    "from sklearn.metrics import mean_absolute_error\n",
    "from scipy.stats import boxcox\n",
    "model = XGBRegressor()\n",
    "seed = 123\n",
    "np.random.seed(123)\n",
    "X = np.cbrt(train['cont12'].values)\n",
    "X = X.reshape(-1,1)\n",
    "X_train, X_val, Y_train, Y_val = train_test_split(X, Y, test_size=0.2, random_state=123)\n",
    "model.fit(X_train, Y_train)\n",
    "preds = model.predict(X_val)\n",
    "mean_absolute_error(Y_val, preds)"
   ]
  },
  {
   "cell_type": "code",
   "execution_count": 142,
   "metadata": {},
   "outputs": [
    {
     "name": "stderr",
     "output_type": "stream",
     "text": [
      "/home/watts/anaconda3/envs/itv/lib/python3.6/site-packages/scipy/stats/stats.py:1633: FutureWarning: Using a non-tuple sequence for multidimensional indexing is deprecated; use `arr[tuple(seq)]` instead of `arr[seq]`. In the future this will be interpreted as an array index, `arr[np.array(seq)]`, which will result either in an error or a different result.\n",
      "  return np.add.reduce(sorted[indexer] * weights, axis=axis) / sumval\n"
     ]
    },
    {
     "data": {
      "text/plain": [
       "<matplotlib.axes._subplots.AxesSubplot at 0x7f67e2cbd6d8>"
      ]
     },
     "execution_count": 142,
     "metadata": {},
     "output_type": "execute_result"
    },
    {
     "data": {
      "image/png": "[encoded data removed]",
      "text/plain": [
       "<Figure size 432x288 with 1 Axes>"
      ]
     },
     "metadata": {
      "needs_background": "light"
     },
     "output_type": "display_data"
    }
   ],
   "source": [
    "sns.distplot(data['cont12'])"
   ]
  },
  {
   "cell_type": "code",
   "execution_count": 143,
   "metadata": {},
   "outputs": [
    {
     "data": {
      "text/plain": [
       "0.28749464639513184"
      ]
     },
     "execution_count": 143,
     "metadata": {},
     "output_type": "execute_result"
    }
   ],
   "source": [
    "from xgboost import XGBRegressor\n",
    "from sklearn.model_selection import train_test_split\n",
    "from sklearn.metrics import mean_absolute_error\n",
    "model = XGBRegressor()\n",
    "seed = 123\n",
    "np.random.seed(123)\n",
    "bins = np.linspace(-0.1,1.1,30)\n",
    "X = pd.get_dummies(pd.cut(train['cont12'].values, bins))\n",
    "# print(X.shape)\n",
    "# X = X.reshape(-1,1)\n",
    "X = X.values\n",
    "X_train, X_val, Y_train, Y_val = train_test_split(X, Y, test_size=0.2, random_state=123)\n",
    "model.fit(X_train, Y_train)\n",
    "preds = model.predict(X_val)\n",
    "mean_absolute_error(Y_val, preds)"
   ]
  },
  {
   "cell_type": "code",
   "execution_count": 144,
   "metadata": {},
   "outputs": [],
   "source": [
    "data_num['cont12'] = data['cont12'].values"
   ]
  },
  {
   "cell_type": "code",
   "execution_count": 145,
   "metadata": {},
   "outputs": [
    {
     "data": {
      "text/plain": [
       "0.2873229667571697"
      ]
     },
     "execution_count": 145,
     "metadata": {},
     "output_type": "execute_result"
    }
   ],
   "source": [
    "from xgboost import XGBRegressor\n",
    "from sklearn.model_selection import train_test_split\n",
    "from sklearn.metrics import mean_absolute_error\n",
    "from scipy.stats import boxcox\n",
    "model = XGBRegressor()\n",
    "seed = 123\n",
    "np.random.seed(123)\n",
    "X = train['cont13'].values\n",
    "X = X.reshape(-1,1)\n",
    "X_train, X_val, Y_train, Y_val = train_test_split(X, Y, test_size=0.2, random_state=123)\n",
    "model.fit(X_train, Y_train)\n",
    "preds = model.predict(X_val)\n",
    "mean_absolute_error(Y_val, preds)"
   ]
  },
  {
   "cell_type": "code",
   "execution_count": 146,
   "metadata": {},
   "outputs": [
    {
     "data": {
      "text/plain": [
       "0.2873229667571697"
      ]
     },
     "execution_count": 146,
     "metadata": {},
     "output_type": "execute_result"
    }
   ],
   "source": [
    "from xgboost import XGBRegressor\n",
    "from sklearn.model_selection import train_test_split\n",
    "from sklearn.metrics import mean_absolute_error\n",
    "from scipy.stats import boxcox\n",
    "model = XGBRegressor()\n",
    "seed = 123\n",
    "np.random.seed(123)\n",
    "X = np.log10(train['cont13'].values)\n",
    "X = X.reshape(-1,1)\n",
    "X_train, X_val, Y_train, Y_val = train_test_split(X, Y, test_size=0.2, random_state=123)\n",
    "model.fit(X_train, Y_train)\n",
    "preds = model.predict(X_val)\n",
    "mean_absolute_error(Y_val, preds)"
   ]
  },
  {
   "cell_type": "code",
   "execution_count": 155,
   "metadata": {},
   "outputs": [
    {
     "data": {
      "text/plain": [
       "0.2873229667571697"
      ]
     },
     "execution_count": 155,
     "metadata": {},
     "output_type": "execute_result"
    }
   ],
   "source": [
    "from xgboost import XGBRegressor\n",
    "from sklearn.model_selection import train_test_split\n",
    "from sklearn.metrics import mean_absolute_error\n",
    "from scipy.stats import boxcox\n",
    "model = XGBRegressor()\n",
    "seed = 123\n",
    "np.random.seed(123)\n",
    "X = boxcox(train['cont13'].values, lmbda=1.9)\n",
    "X = X.reshape(-1,1)\n",
    "X_train, X_val, Y_train, Y_val = train_test_split(X, Y, test_size=0.2, random_state=123)\n",
    "model.fit(X_train, Y_train)\n",
    "preds = model.predict(X_val)\n",
    "mean_absolute_error(Y_val, preds)"
   ]
  },
  {
   "cell_type": "code",
   "execution_count": 156,
   "metadata": {},
   "outputs": [
    {
     "name": "stderr",
     "output_type": "stream",
     "text": [
      "/home/watts/anaconda3/envs/itv/lib/python3.6/site-packages/scipy/stats/stats.py:1633: FutureWarning: Using a non-tuple sequence for multidimensional indexing is deprecated; use `arr[tuple(seq)]` instead of `arr[seq]`. In the future this will be interpreted as an array index, `arr[np.array(seq)]`, which will result either in an error or a different result.\n",
      "  return np.add.reduce(sorted[indexer] * weights, axis=axis) / sumval\n"
     ]
    },
    {
     "data": {
      "text/plain": [
       "<matplotlib.axes._subplots.AxesSubplot at 0x7f67e2bb4eb8>"
      ]
     },
     "execution_count": 156,
     "metadata": {},
     "output_type": "execute_result"
    },
    {
     "data": {
      "image/png": "[encoded data removed]",
      "text/plain": [
       "<Figure size 432x288 with 1 Axes>"
      ]
     },
     "metadata": {
      "needs_background": "light"
     },
     "output_type": "display_data"
    }
   ],
   "source": [
    "sns.distplot(data['cont13'])"
   ]
  },
  {
   "cell_type": "code",
   "execution_count": 157,
   "metadata": {},
   "outputs": [
    {
     "data": {
      "text/plain": [
       "0.2877260942611722"
      ]
     },
     "execution_count": 157,
     "metadata": {},
     "output_type": "execute_result"
    }
   ],
   "source": [
    "from xgboost import XGBRegressor\n",
    "from sklearn.model_selection import train_test_split\n",
    "from sklearn.metrics import mean_absolute_error\n",
    "model = XGBRegressor()\n",
    "seed = 123\n",
    "np.random.seed(123)\n",
    "bins = np.linspace(-0.1,1.1,30)\n",
    "X = pd.get_dummies(pd.cut(train['cont13'].values, bins))\n",
    "# print(X.shape)\n",
    "# X = X.reshape(-1,1)\n",
    "X = X.values\n",
    "X_train, X_val, Y_train, Y_val = train_test_split(X, Y, test_size=0.2, random_state=123)\n",
    "model.fit(X_train, Y_train)\n",
    "preds = model.predict(X_val)\n",
    "mean_absolute_error(Y_val, preds)"
   ]
  },
  {
   "cell_type": "code",
   "execution_count": 158,
   "metadata": {},
   "outputs": [],
   "source": [
    "data_num['cont13'] = data['cont13'].values"
   ]
  },
  {
   "cell_type": "code",
   "execution_count": 159,
   "metadata": {},
   "outputs": [
    {
     "data": {
      "text/plain": [
       "0.2821956048724272"
      ]
     },
     "execution_count": 159,
     "metadata": {},
     "output_type": "execute_result"
    }
   ],
   "source": [
    "from xgboost import XGBRegressor\n",
    "from sklearn.model_selection import train_test_split\n",
    "from sklearn.metrics import mean_absolute_error\n",
    "from scipy.stats import boxcox\n",
    "model = XGBRegressor()\n",
    "seed = 123\n",
    "np.random.seed(123)\n",
    "X = train['cont14'].values\n",
    "X = X.reshape(-1,1)\n",
    "X_train, X_val, Y_train, Y_val = train_test_split(X, Y, test_size=0.2, random_state=123)\n",
    "model.fit(X_train, Y_train)\n",
    "preds = model.predict(X_val)\n",
    "mean_absolute_error(Y_val, preds)"
   ]
  },
  {
   "cell_type": "code",
   "execution_count": 161,
   "metadata": {},
   "outputs": [
    {
     "name": "stderr",
     "output_type": "stream",
     "text": [
      "/home/watts/anaconda3/envs/itv/lib/python3.6/site-packages/scipy/stats/stats.py:1633: FutureWarning: Using a non-tuple sequence for multidimensional indexing is deprecated; use `arr[tuple(seq)]` instead of `arr[seq]`. In the future this will be interpreted as an array index, `arr[np.array(seq)]`, which will result either in an error or a different result.\n",
      "  return np.add.reduce(sorted[indexer] * weights, axis=axis) / sumval\n"
     ]
    },
    {
     "data": {
      "text/plain": [
       "<matplotlib.axes._subplots.AxesSubplot at 0x7f67e2a2d390>"
      ]
     },
     "execution_count": 161,
     "metadata": {},
     "output_type": "execute_result"
    },
    {
     "data": {
      "image/png": "[encoded data removed]",
      "text/plain": [
       "<Figure size 432x288 with 1 Axes>"
      ]
     },
     "metadata": {
      "needs_background": "light"
     },
     "output_type": "display_data"
    }
   ],
   "source": [
    "sns.distplot(data['cont14'])"
   ]
  },
  {
   "cell_type": "code",
   "execution_count": 160,
   "metadata": {},
   "outputs": [
    {
     "data": {
      "text/plain": [
       "0.28219608818532366"
      ]
     },
     "execution_count": 160,
     "metadata": {},
     "output_type": "execute_result"
    }
   ],
   "source": [
    "from xgboost import XGBRegressor\n",
    "from sklearn.model_selection import train_test_split\n",
    "from sklearn.metrics import mean_absolute_error\n",
    "from scipy.stats import boxcox\n",
    "model = XGBRegressor()\n",
    "seed = 123\n",
    "np.random.seed(123)\n",
    "X = np.log10(train['cont14'].values)\n",
    "X = X.reshape(-1,1)\n",
    "X_train, X_val, Y_train, Y_val = train_test_split(X, Y, test_size=0.2, random_state=123)\n",
    "model.fit(X_train, Y_train)\n",
    "preds = model.predict(X_val)\n",
    "mean_absolute_error(Y_val, preds)"
   ]
  },
  {
   "cell_type": "code",
   "execution_count": 167,
   "metadata": {},
   "outputs": [
    {
     "data": {
      "text/plain": [
       "0.28219315204254436"
      ]
     },
     "execution_count": 167,
     "metadata": {},
     "output_type": "execute_result"
    }
   ],
   "source": [
    "from xgboost import XGBRegressor\n",
    "from sklearn.model_selection import train_test_split\n",
    "from sklearn.metrics import mean_absolute_error\n",
    "from scipy.stats import boxcox\n",
    "model = XGBRegressor()\n",
    "seed = 123\n",
    "np.random.seed(123)\n",
    "X = np.cos(train['cont14'].values)\n",
    "X = X.reshape(-1,1)\n",
    "X_train, X_val, Y_train, Y_val = train_test_split(X, Y, test_size=0.2, random_state=123)\n",
    "model.fit(X_train, Y_train)\n",
    "preds = model.predict(X_val)\n",
    "mean_absolute_error(Y_val, preds)"
   ]
  },
  {
   "cell_type": "code",
   "execution_count": 168,
   "metadata": {},
   "outputs": [],
   "source": [
    "data_num['cont14'] = np.cos(data['cont14'].values)"
   ]
  },
  {
   "cell_type": "code",
   "execution_count": 227,
   "metadata": {},
   "outputs": [
    {
     "data": {
      "text/plain": [
       "((313864, 1215), (313864, 13))"
      ]
     },
     "execution_count": 227,
     "metadata": {},
     "output_type": "execute_result"
    }
   ],
   "source": [
    "data_cat.shape, data_num.shape"
   ]
  },
  {
   "cell_type": "code",
   "execution_count": 228,
   "metadata": {},
   "outputs": [],
   "source": [
    "data_mat = pd.concat([data_cat, data_num], axis=1).values"
   ]
  },
  {
   "cell_type": "code",
   "execution_count": 229,
   "metadata": {},
   "outputs": [
    {
     "data": {
      "text/plain": [
       "(313864, 1228)"
      ]
     },
     "execution_count": 229,
     "metadata": {},
     "output_type": "execute_result"
    }
   ],
   "source": [
    "data_mat.shape"
   ]
  },
  {
   "cell_type": "code",
   "execution_count": 230,
   "metadata": {},
   "outputs": [],
   "source": [
    "from scipy.sparse import csr_matrix\n",
    "data_mat = csr_matrix(data_mat)"
   ]
  },
  {
   "cell_type": "code",
   "execution_count": 231,
   "metadata": {},
   "outputs": [],
   "source": [
    "data_mat_train = data_mat[:len(train)]\n",
    "data_mat_test = data_mat[len(train):]"
   ]
  },
  {
   "cell_type": "code",
   "execution_count": 183,
   "metadata": {},
   "outputs": [],
   "source": [
    "X_train, X_val, Y_train, Y_val = train_test_split(data_mat_train, Y, test_size=0.2, random_state=123)"
   ]
  },
  {
   "cell_type": "code",
   "execution_count": 250,
   "metadata": {},
   "outputs": [
    {
     "data": {
      "text/plain": [
       "LGBMRegressor(bagging_fraction=0.8, boosting_type='gbdt', class_weight=None,\n",
       "       colsample_bytree=1.0, feature_fraction=0.9, importance_type='split',\n",
       "       learning_rate=0.05, max_depth=-1, metric='mae',\n",
       "       min_child_samples=20, min_child_weight=0.001, min_split_gain=0.0,\n",
       "       n_estimators=100, n_jobs=-1, num_leaves=128, objective='regression',\n",
       "       random_state=None, reg_alpha=0.1, reg_lambda=0.1, silent=True,\n",
       "       subsample=1.0, subsample_for_bin=200000, subsample_freq=0)"
      ]
     },
     "execution_count": 250,
     "metadata": {},
     "output_type": "execute_result"
    }
   ],
   "source": [
    "from lightgbm import LGBMRegressor\n",
    "# params = {\n",
    "#     'boosting_type': 'gbdt',\n",
    "#     'objective': 'regression',\n",
    "#     'metric': {'l2', 'l1', 'mae'},\n",
    "#     'num_leaves': 128,\n",
    "#     'learning_rate': 0.05,\n",
    "#     'feature_fraction': 0.9,\n",
    "#     'bagging_fraction': 0.8,\n",
    "#     'early_stopping_round': 20\n",
    "# }\n",
    "model = LGBMRegressor(\n",
    "    boosting_type= 'gbdt',\n",
    "    objective= 'regression',\n",
    "    metric= 'mae',\n",
    "    num_leaves= 128,\n",
    "    learning_rate= 0.05,\n",
    "    feature_fraction= 0.9,\n",
    "    bagging_fraction= 0.8,\n",
    "    reg_alpha=0.1, \n",
    "    reg_lambda=0.1, \n",
    ")\n",
    "model.fit(X_train, Y_train)"
   ]
  },
  {
   "cell_type": "code",
   "execution_count": 251,
   "metadata": {},
   "outputs": [
    {
     "data": {
      "text/plain": [
       "0.1839166929848924"
      ]
     },
     "execution_count": 251,
     "metadata": {},
     "output_type": "execute_result"
    }
   ],
   "source": [
    "preds = model.predict(X_val)\n",
    "mean_absolute_error(Y_val, preds)"
   ]
  },
  {
   "cell_type": "code",
   "execution_count": 252,
   "metadata": {},
   "outputs": [],
   "source": [
    "preds_test = model.predict(X_test)"
   ]
  },
  {
   "cell_type": "code",
   "execution_count": 201,
   "metadata": {},
   "outputs": [],
   "source": [
    "submit = pd.read_csv('../datasets/allstate/sample_submission.csv')"
   ]
  },
  {
   "cell_type": "code",
   "execution_count": 202,
   "metadata": {},
   "outputs": [
    {
     "data": {
      "text/html": [
       "<div>\n",
       "<style scoped>\n",
       "    .dataframe tbody tr th:only-of-type {\n",
       "        vertical-align: middle;\n",
       "    }\n",
       "\n",
       "    .dataframe tbody tr th {\n",
       "        vertical-align: top;\n",
       "    }\n",
       "\n",
       "    .dataframe thead th {\n",
       "        text-align: right;\n",
       "    }\n",
       "</style>\n",
       "<table border=\"1\" class=\"dataframe\">\n",
       "  <thead>\n",
       "    <tr style=\"text-align: right;\">\n",
       "      <th></th>\n",
       "      <th>id</th>\n",
       "      <th>loss</th>\n",
       "    </tr>\n",
       "  </thead>\n",
       "  <tbody>\n",
       "    <tr>\n",
       "      <th>0</th>\n",
       "      <td>4</td>\n",
       "      <td>0</td>\n",
       "    </tr>\n",
       "    <tr>\n",
       "      <th>1</th>\n",
       "      <td>6</td>\n",
       "      <td>0</td>\n",
       "    </tr>\n",
       "    <tr>\n",
       "      <th>2</th>\n",
       "      <td>9</td>\n",
       "      <td>0</td>\n",
       "    </tr>\n",
       "    <tr>\n",
       "      <th>3</th>\n",
       "      <td>12</td>\n",
       "      <td>0</td>\n",
       "    </tr>\n",
       "    <tr>\n",
       "      <th>4</th>\n",
       "      <td>15</td>\n",
       "      <td>0</td>\n",
       "    </tr>\n",
       "  </tbody>\n",
       "</table>\n",
       "</div>"
      ],
      "text/plain": [
       "   id  loss\n",
       "0   4     0\n",
       "1   6     0\n",
       "2   9     0\n",
       "3  12     0\n",
       "4  15     0"
      ]
     },
     "execution_count": 202,
     "metadata": {},
     "output_type": "execute_result"
    }
   ],
   "source": [
    "submit.head()"
   ]
  },
  {
   "cell_type": "code",
   "execution_count": 253,
   "metadata": {},
   "outputs": [],
   "source": [
    "submit['loss'] = np.power(10, preds_test)"
   ]
  },
  {
   "cell_type": "code",
   "execution_count": 254,
   "metadata": {},
   "outputs": [],
   "source": [
    "submit.to_csv('../cache/sub1.csv', index=False)"
   ]
  },
  {
   "cell_type": "code",
   "execution_count": 255,
   "metadata": {},
   "outputs": [
    {
     "name": "stdout",
     "output_type": "stream",
     "text": [
      "100%|██████████████████████████████████████| 3.03M/3.03M [01:04<00:00, 49.3kB/s]\n",
      "Successfully submitted to Allstate Claims Severity"
     ]
    }
   ],
   "source": [
    "!kaggle competitions submit -c allstate-claims-severity -f ../cache/sub1.csv -m \"\""
   ]
  },
  {
   "cell_type": "code",
   "execution_count": 256,
   "metadata": {},
   "outputs": [
    {
     "name": "stdout",
     "output_type": "stream",
     "text": [
      "fileName                date                 description             status    publicScore  privateScore  \r\n",
      "----------------------  -------------------  ----------------------  --------  -----------  ------------  \r\n",
      "sub1.csv                2019-02-14 18:32:35  None                    complete  1153.95083   1166.49368    \r\n",
      "sub1.csv                2019-02-14 18:12:40  None                    complete  1154.75459   1165.58323    \r\n",
      "sub1.csv                2019-02-14 18:10:36  None                    complete  3016.37697   3028.37594    \r\n",
      "Sub_wt_m8_m6_k_en1.csv  2016-12-12 03:20:45  None                    complete  1101.84078   1113.83053    \r\n",
      "Sub_k_s1_en.csv         2016-12-12 03:14:54  None                    complete  1715.52011   1727.03891    \r\n",
      "Sub_m8_m6_k_s_en.csv    2016-12-11 20:04:10  None                    complete  1292.12043   1308.40822    \r\n",
      "Sub_m8_m6_k1_en.csv     2016-12-11 17:54:09  None                    complete  1101.67939   1114.17944    \r\n",
      "Sub_wt_m8_m6_k_en.csv   2016-12-11 10:51:35  None                    complete  1101.95253   1113.81303    \r\n",
      "Sub_m8_m7_k_en.csv      2016-12-10 20:02:01  m8 + m6 (actually) + k  complete  1101.43157   1113.70067    \r\n",
      "Sub_m6_m7_k_en.csv      2016-12-10 13:53:08  None                    complete  1102.97161   1114.78939    \r\n",
      "Sub_m6_m7_k_en.csv      2016-12-10 13:51:00  None                    complete  1268.52407   1285.24704    \r\n",
      "Sub_m4_m6_m7_k_en.csv   2016-12-10 11:57:29  None                    complete  1102.18810   1114.50561    \r\n",
      "Sub_m4_m6_k1_en.csv     2016-12-10 06:15:45  None                    complete  1101.76769   1114.18939    \r\n",
      "Sub_m4_m6_k_en.csv      2016-12-09 10:08:29  m4 + m6 +k              complete  1101.50850   1113.70413    \r\n",
      "Sub_m4_m5_12_k_en.csv   2016-12-08 20:37:02  None                    complete  1102.13129   1114.65179    \r\n",
      "Sub_m4_m5_k_en.csv      2016-12-08 20:34:20  m4 + m5 +k              complete  1101.90589   1114.30108    \r\n",
      "Sub_m4_k_en.csv         2016-12-08 03:41:04  None                    complete  1101.93161   1114.18778    \r\n",
      "Sub_m4_12_k_en.csv      2016-12-08 03:37:52  None                    complete  1101.83613   1114.27553    \r\n",
      "Sub_m4_12_k_en.csv      2016-12-08 03:36:15  m4 + script12 + k       complete  1576.77257   1582.32042    \r\n",
      "Sub_m3_k_en.csv         2016-12-03 22:19:54  None                    complete  1102.86526   1115.25148    \r\n"
     ]
    }
   ],
   "source": [
    "!kaggle competitions submissions -c allstate-claims-severity"
   ]
  },
  {
   "cell_type": "code",
   "execution_count": 232,
   "metadata": {},
   "outputs": [],
   "source": [
    "# data_cat = pd.DataFrame()"
   ]
  },
  {
   "cell_type": "code",
   "execution_count": 233,
   "metadata": {},
   "outputs": [
    {
     "data": {
      "text/plain": [
       "(313864, 1215)"
      ]
     },
     "execution_count": 233,
     "metadata": {},
     "output_type": "execute_result"
    }
   ],
   "source": [
    "data_cat.shape"
   ]
  },
  {
   "cell_type": "code",
   "execution_count": 235,
   "metadata": {},
   "outputs": [
    {
     "data": {
      "application/vnd.jupyter.widget-view+json": {
       "model_id": "7887c9a2d1bb4c38baf29bfa00cbcac4",
       "version_major": 2,
       "version_minor": 0
      },
      "text/plain": [
       "HBox(children=(IntProgress(value=0, max=116), HTML(value='')))"
      ]
     },
     "metadata": {},
     "output_type": "display_data"
    },
    {
     "ename": "KeyboardInterrupt",
     "evalue": "",
     "output_type": "error",
     "traceback": [
      "\u001b[0;31m---------------------------------------------------------------------------\u001b[0m",
      "\u001b[0;31mKeyboardInterrupt\u001b[0m                         Traceback (most recent call last)",
      "\u001b[0;32m<ipython-input-235-6f16b63609f2>\u001b[0m in \u001b[0;36m<module>\u001b[0;34m\u001b[0m\n\u001b[1;32m     13\u001b[0m         \u001b[0mdf\u001b[0m\u001b[0;34m.\u001b[0m\u001b[0mcolumns\u001b[0m \u001b[0;34m=\u001b[0m \u001b[0mcols\u001b[0m\u001b[0;34m\u001b[0m\u001b[0m\n\u001b[1;32m     14\u001b[0m         \u001b[0mdf\u001b[0m \u001b[0;34m=\u001b[0m \u001b[0mdf\u001b[0m\u001b[0;34m.\u001b[0m\u001b[0mreset_index\u001b[0m\u001b[0;34m(\u001b[0m\u001b[0mdrop\u001b[0m\u001b[0;34m=\u001b[0m\u001b[0;32mTrue\u001b[0m\u001b[0;34m)\u001b[0m\u001b[0;34m\u001b[0m\u001b[0m\n\u001b[0;32m---> 15\u001b[0;31m         \u001b[0mdata_cat\u001b[0m \u001b[0;34m=\u001b[0m \u001b[0mpd\u001b[0m\u001b[0;34m.\u001b[0m\u001b[0mconcat\u001b[0m\u001b[0;34m(\u001b[0m\u001b[0;34m[\u001b[0m\u001b[0mdata_cat\u001b[0m\u001b[0;34m,\u001b[0m \u001b[0mdf\u001b[0m\u001b[0;34m]\u001b[0m\u001b[0;34m,\u001b[0m \u001b[0maxis\u001b[0m\u001b[0;34m=\u001b[0m\u001b[0;36m1\u001b[0m\u001b[0;34m)\u001b[0m\u001b[0;34m\u001b[0m\u001b[0m\n\u001b[0m\u001b[1;32m     16\u001b[0m \u001b[0mdata_cat\u001b[0m \u001b[0;34m=\u001b[0m \u001b[0mdata_cat\u001b[0m\u001b[0;34m.\u001b[0m\u001b[0mreset_index\u001b[0m\u001b[0;34m(\u001b[0m\u001b[0mdrop\u001b[0m\u001b[0;34m=\u001b[0m\u001b[0;32mTrue\u001b[0m\u001b[0;34m)\u001b[0m\u001b[0;34m\u001b[0m\u001b[0m\n",
      "\u001b[0;32m~/anaconda3/envs/itv/lib/python3.6/site-packages/pandas/core/reshape/concat.py\u001b[0m in \u001b[0;36mconcat\u001b[0;34m(objs, axis, join, join_axes, ignore_index, keys, levels, names, verify_integrity, sort, copy)\u001b[0m\n\u001b[1;32m    223\u001b[0m                        \u001b[0mkeys\u001b[0m\u001b[0;34m=\u001b[0m\u001b[0mkeys\u001b[0m\u001b[0;34m,\u001b[0m \u001b[0mlevels\u001b[0m\u001b[0;34m=\u001b[0m\u001b[0mlevels\u001b[0m\u001b[0;34m,\u001b[0m \u001b[0mnames\u001b[0m\u001b[0;34m=\u001b[0m\u001b[0mnames\u001b[0m\u001b[0;34m,\u001b[0m\u001b[0;34m\u001b[0m\u001b[0m\n\u001b[1;32m    224\u001b[0m                        \u001b[0mverify_integrity\u001b[0m\u001b[0;34m=\u001b[0m\u001b[0mverify_integrity\u001b[0m\u001b[0;34m,\u001b[0m\u001b[0;34m\u001b[0m\u001b[0m\n\u001b[0;32m--> 225\u001b[0;31m                        copy=copy, sort=sort)\n\u001b[0m\u001b[1;32m    226\u001b[0m     \u001b[0;32mreturn\u001b[0m \u001b[0mop\u001b[0m\u001b[0;34m.\u001b[0m\u001b[0mget_result\u001b[0m\u001b[0;34m(\u001b[0m\u001b[0;34m)\u001b[0m\u001b[0;34m\u001b[0m\u001b[0m\n\u001b[1;32m    227\u001b[0m \u001b[0;34m\u001b[0m\u001b[0m\n",
      "\u001b[0;32m~/anaconda3/envs/itv/lib/python3.6/site-packages/pandas/core/reshape/concat.py\u001b[0m in \u001b[0;36m__init__\u001b[0;34m(self, objs, axis, join, join_axes, keys, levels, names, ignore_index, verify_integrity, copy, sort)\u001b[0m\n\u001b[1;32m    287\u001b[0m \u001b[0;34m\u001b[0m\u001b[0m\n\u001b[1;32m    288\u001b[0m             \u001b[0;31m# consolidate\u001b[0m\u001b[0;34m\u001b[0m\u001b[0;34m\u001b[0m\u001b[0m\n\u001b[0;32m--> 289\u001b[0;31m             \u001b[0mobj\u001b[0m\u001b[0;34m.\u001b[0m\u001b[0m_consolidate\u001b[0m\u001b[0;34m(\u001b[0m\u001b[0minplace\u001b[0m\u001b[0;34m=\u001b[0m\u001b[0;32mTrue\u001b[0m\u001b[0;34m)\u001b[0m\u001b[0;34m\u001b[0m\u001b[0m\n\u001b[0m\u001b[1;32m    290\u001b[0m             \u001b[0mndims\u001b[0m\u001b[0;34m.\u001b[0m\u001b[0madd\u001b[0m\u001b[0;34m(\u001b[0m\u001b[0mobj\u001b[0m\u001b[0;34m.\u001b[0m\u001b[0mndim\u001b[0m\u001b[0;34m)\u001b[0m\u001b[0;34m\u001b[0m\u001b[0m\n\u001b[1;32m    291\u001b[0m \u001b[0;34m\u001b[0m\u001b[0m\n",
      "\u001b[0;32m~/anaconda3/envs/itv/lib/python3.6/site-packages/pandas/core/generic.py\u001b[0m in \u001b[0;36m_consolidate\u001b[0;34m(self, inplace)\u001b[0m\n\u001b[1;32m   4455\u001b[0m         \u001b[0minplace\u001b[0m \u001b[0;34m=\u001b[0m \u001b[0mvalidate_bool_kwarg\u001b[0m\u001b[0;34m(\u001b[0m\u001b[0minplace\u001b[0m\u001b[0;34m,\u001b[0m \u001b[0;34m'inplace'\u001b[0m\u001b[0;34m)\u001b[0m\u001b[0;34m\u001b[0m\u001b[0m\n\u001b[1;32m   4456\u001b[0m         \u001b[0;32mif\u001b[0m \u001b[0minplace\u001b[0m\u001b[0;34m:\u001b[0m\u001b[0;34m\u001b[0m\u001b[0m\n\u001b[0;32m-> 4457\u001b[0;31m             \u001b[0mself\u001b[0m\u001b[0;34m.\u001b[0m\u001b[0m_consolidate_inplace\u001b[0m\u001b[0;34m(\u001b[0m\u001b[0;34m)\u001b[0m\u001b[0;34m\u001b[0m\u001b[0m\n\u001b[0m\u001b[1;32m   4458\u001b[0m         \u001b[0;32melse\u001b[0m\u001b[0;34m:\u001b[0m\u001b[0;34m\u001b[0m\u001b[0m\n\u001b[1;32m   4459\u001b[0m             \u001b[0mf\u001b[0m \u001b[0;34m=\u001b[0m \u001b[0;32mlambda\u001b[0m\u001b[0;34m:\u001b[0m \u001b[0mself\u001b[0m\u001b[0;34m.\u001b[0m\u001b[0m_data\u001b[0m\u001b[0;34m.\u001b[0m\u001b[0mconsolidate\u001b[0m\u001b[0;34m(\u001b[0m\u001b[0;34m)\u001b[0m\u001b[0;34m\u001b[0m\u001b[0m\n",
      "\u001b[0;32m~/anaconda3/envs/itv/lib/python3.6/site-packages/pandas/core/generic.py\u001b[0m in \u001b[0;36m_consolidate_inplace\u001b[0;34m(self)\u001b[0m\n\u001b[1;32m   4437\u001b[0m             \u001b[0mself\u001b[0m\u001b[0;34m.\u001b[0m\u001b[0m_data\u001b[0m \u001b[0;34m=\u001b[0m \u001b[0mself\u001b[0m\u001b[0;34m.\u001b[0m\u001b[0m_data\u001b[0m\u001b[0;34m.\u001b[0m\u001b[0mconsolidate\u001b[0m\u001b[0;34m(\u001b[0m\u001b[0;34m)\u001b[0m\u001b[0;34m\u001b[0m\u001b[0m\n\u001b[1;32m   4438\u001b[0m \u001b[0;34m\u001b[0m\u001b[0m\n\u001b[0;32m-> 4439\u001b[0;31m         \u001b[0mself\u001b[0m\u001b[0;34m.\u001b[0m\u001b[0m_protect_consolidate\u001b[0m\u001b[0;34m(\u001b[0m\u001b[0mf\u001b[0m\u001b[0;34m)\u001b[0m\u001b[0;34m\u001b[0m\u001b[0m\n\u001b[0m\u001b[1;32m   4440\u001b[0m \u001b[0;34m\u001b[0m\u001b[0m\n\u001b[1;32m   4441\u001b[0m     \u001b[0;32mdef\u001b[0m \u001b[0m_consolidate\u001b[0m\u001b[0;34m(\u001b[0m\u001b[0mself\u001b[0m\u001b[0;34m,\u001b[0m \u001b[0minplace\u001b[0m\u001b[0;34m=\u001b[0m\u001b[0;32mFalse\u001b[0m\u001b[0;34m)\u001b[0m\u001b[0;34m:\u001b[0m\u001b[0;34m\u001b[0m\u001b[0m\n",
      "\u001b[0;32m~/anaconda3/envs/itv/lib/python3.6/site-packages/pandas/core/generic.py\u001b[0m in \u001b[0;36m_protect_consolidate\u001b[0;34m(self, f)\u001b[0m\n\u001b[1;32m   4426\u001b[0m         \"\"\"\n\u001b[1;32m   4427\u001b[0m         \u001b[0mblocks_before\u001b[0m \u001b[0;34m=\u001b[0m \u001b[0mlen\u001b[0m\u001b[0;34m(\u001b[0m\u001b[0mself\u001b[0m\u001b[0;34m.\u001b[0m\u001b[0m_data\u001b[0m\u001b[0;34m.\u001b[0m\u001b[0mblocks\u001b[0m\u001b[0;34m)\u001b[0m\u001b[0;34m\u001b[0m\u001b[0m\n\u001b[0;32m-> 4428\u001b[0;31m         \u001b[0mresult\u001b[0m \u001b[0;34m=\u001b[0m \u001b[0mf\u001b[0m\u001b[0;34m(\u001b[0m\u001b[0;34m)\u001b[0m\u001b[0;34m\u001b[0m\u001b[0m\n\u001b[0m\u001b[1;32m   4429\u001b[0m         \u001b[0;32mif\u001b[0m \u001b[0mlen\u001b[0m\u001b[0;34m(\u001b[0m\u001b[0mself\u001b[0m\u001b[0;34m.\u001b[0m\u001b[0m_data\u001b[0m\u001b[0;34m.\u001b[0m\u001b[0mblocks\u001b[0m\u001b[0;34m)\u001b[0m \u001b[0;34m!=\u001b[0m \u001b[0mblocks_before\u001b[0m\u001b[0;34m:\u001b[0m\u001b[0;34m\u001b[0m\u001b[0m\n\u001b[1;32m   4430\u001b[0m             \u001b[0mself\u001b[0m\u001b[0;34m.\u001b[0m\u001b[0m_clear_item_cache\u001b[0m\u001b[0;34m(\u001b[0m\u001b[0;34m)\u001b[0m\u001b[0;34m\u001b[0m\u001b[0m\n",
      "\u001b[0;32m~/anaconda3/envs/itv/lib/python3.6/site-packages/pandas/core/generic.py\u001b[0m in \u001b[0;36mf\u001b[0;34m()\u001b[0m\n\u001b[1;32m   4435\u001b[0m \u001b[0;34m\u001b[0m\u001b[0m\n\u001b[1;32m   4436\u001b[0m         \u001b[0;32mdef\u001b[0m \u001b[0mf\u001b[0m\u001b[0;34m(\u001b[0m\u001b[0;34m)\u001b[0m\u001b[0;34m:\u001b[0m\u001b[0;34m\u001b[0m\u001b[0m\n\u001b[0;32m-> 4437\u001b[0;31m             \u001b[0mself\u001b[0m\u001b[0;34m.\u001b[0m\u001b[0m_data\u001b[0m \u001b[0;34m=\u001b[0m \u001b[0mself\u001b[0m\u001b[0;34m.\u001b[0m\u001b[0m_data\u001b[0m\u001b[0;34m.\u001b[0m\u001b[0mconsolidate\u001b[0m\u001b[0;34m(\u001b[0m\u001b[0;34m)\u001b[0m\u001b[0;34m\u001b[0m\u001b[0m\n\u001b[0m\u001b[1;32m   4438\u001b[0m \u001b[0;34m\u001b[0m\u001b[0m\n\u001b[1;32m   4439\u001b[0m         \u001b[0mself\u001b[0m\u001b[0;34m.\u001b[0m\u001b[0m_protect_consolidate\u001b[0m\u001b[0;34m(\u001b[0m\u001b[0mf\u001b[0m\u001b[0;34m)\u001b[0m\u001b[0;34m\u001b[0m\u001b[0m\n",
      "\u001b[0;32m~/anaconda3/envs/itv/lib/python3.6/site-packages/pandas/core/internals.py\u001b[0m in \u001b[0;36mconsolidate\u001b[0;34m(self)\u001b[0m\n\u001b[1;32m   4096\u001b[0m         \u001b[0mbm\u001b[0m \u001b[0;34m=\u001b[0m \u001b[0mself\u001b[0m\u001b[0;34m.\u001b[0m\u001b[0m__class__\u001b[0m\u001b[0;34m(\u001b[0m\u001b[0mself\u001b[0m\u001b[0;34m.\u001b[0m\u001b[0mblocks\u001b[0m\u001b[0;34m,\u001b[0m \u001b[0mself\u001b[0m\u001b[0;34m.\u001b[0m\u001b[0maxes\u001b[0m\u001b[0;34m)\u001b[0m\u001b[0;34m\u001b[0m\u001b[0m\n\u001b[1;32m   4097\u001b[0m         \u001b[0mbm\u001b[0m\u001b[0;34m.\u001b[0m\u001b[0m_is_consolidated\u001b[0m \u001b[0;34m=\u001b[0m \u001b[0;32mFalse\u001b[0m\u001b[0;34m\u001b[0m\u001b[0m\n\u001b[0;32m-> 4098\u001b[0;31m         \u001b[0mbm\u001b[0m\u001b[0;34m.\u001b[0m\u001b[0m_consolidate_inplace\u001b[0m\u001b[0;34m(\u001b[0m\u001b[0;34m)\u001b[0m\u001b[0;34m\u001b[0m\u001b[0m\n\u001b[0m\u001b[1;32m   4099\u001b[0m         \u001b[0;32mreturn\u001b[0m \u001b[0mbm\u001b[0m\u001b[0;34m\u001b[0m\u001b[0m\n\u001b[1;32m   4100\u001b[0m \u001b[0;34m\u001b[0m\u001b[0m\n",
      "\u001b[0;32m~/anaconda3/envs/itv/lib/python3.6/site-packages/pandas/core/internals.py\u001b[0m in \u001b[0;36m_consolidate_inplace\u001b[0;34m(self)\u001b[0m\n\u001b[1;32m   4101\u001b[0m     \u001b[0;32mdef\u001b[0m \u001b[0m_consolidate_inplace\u001b[0m\u001b[0;34m(\u001b[0m\u001b[0mself\u001b[0m\u001b[0;34m)\u001b[0m\u001b[0;34m:\u001b[0m\u001b[0;34m\u001b[0m\u001b[0m\n\u001b[1;32m   4102\u001b[0m         \u001b[0;32mif\u001b[0m \u001b[0;32mnot\u001b[0m \u001b[0mself\u001b[0m\u001b[0;34m.\u001b[0m\u001b[0mis_consolidated\u001b[0m\u001b[0;34m(\u001b[0m\u001b[0;34m)\u001b[0m\u001b[0;34m:\u001b[0m\u001b[0;34m\u001b[0m\u001b[0m\n\u001b[0;32m-> 4103\u001b[0;31m             \u001b[0mself\u001b[0m\u001b[0;34m.\u001b[0m\u001b[0mblocks\u001b[0m \u001b[0;34m=\u001b[0m \u001b[0mtuple\u001b[0m\u001b[0;34m(\u001b[0m\u001b[0m_consolidate\u001b[0m\u001b[0;34m(\u001b[0m\u001b[0mself\u001b[0m\u001b[0;34m.\u001b[0m\u001b[0mblocks\u001b[0m\u001b[0;34m)\u001b[0m\u001b[0;34m)\u001b[0m\u001b[0;34m\u001b[0m\u001b[0m\n\u001b[0m\u001b[1;32m   4104\u001b[0m             \u001b[0mself\u001b[0m\u001b[0;34m.\u001b[0m\u001b[0m_is_consolidated\u001b[0m \u001b[0;34m=\u001b[0m \u001b[0;32mTrue\u001b[0m\u001b[0;34m\u001b[0m\u001b[0m\n\u001b[1;32m   4105\u001b[0m             \u001b[0mself\u001b[0m\u001b[0;34m.\u001b[0m\u001b[0m_known_consolidated\u001b[0m \u001b[0;34m=\u001b[0m \u001b[0;32mTrue\u001b[0m\u001b[0;34m\u001b[0m\u001b[0m\n",
      "\u001b[0;32m~/anaconda3/envs/itv/lib/python3.6/site-packages/pandas/core/internals.py\u001b[0m in \u001b[0;36m_consolidate\u001b[0;34m(blocks)\u001b[0m\n\u001b[1;32m   5067\u001b[0m     \u001b[0;32mfor\u001b[0m \u001b[0;34m(\u001b[0m\u001b[0m_can_consolidate\u001b[0m\u001b[0;34m,\u001b[0m \u001b[0mdtype\u001b[0m\u001b[0;34m)\u001b[0m\u001b[0;34m,\u001b[0m \u001b[0mgroup_blocks\u001b[0m \u001b[0;32min\u001b[0m \u001b[0mgrouper\u001b[0m\u001b[0;34m:\u001b[0m\u001b[0;34m\u001b[0m\u001b[0m\n\u001b[1;32m   5068\u001b[0m         merged_blocks = _merge_blocks(list(group_blocks), dtype=dtype,\n\u001b[0;32m-> 5069\u001b[0;31m                                       _can_consolidate=_can_consolidate)\n\u001b[0m\u001b[1;32m   5070\u001b[0m         \u001b[0mnew_blocks\u001b[0m \u001b[0;34m=\u001b[0m \u001b[0m_extend_blocks\u001b[0m\u001b[0;34m(\u001b[0m\u001b[0mmerged_blocks\u001b[0m\u001b[0;34m,\u001b[0m \u001b[0mnew_blocks\u001b[0m\u001b[0;34m)\u001b[0m\u001b[0;34m\u001b[0m\u001b[0m\n\u001b[1;32m   5071\u001b[0m     \u001b[0;32mreturn\u001b[0m \u001b[0mnew_blocks\u001b[0m\u001b[0;34m\u001b[0m\u001b[0m\n",
      "\u001b[0;32m~/anaconda3/envs/itv/lib/python3.6/site-packages/pandas/core/internals.py\u001b[0m in \u001b[0;36m_merge_blocks\u001b[0;34m(blocks, dtype, _can_consolidate)\u001b[0m\n\u001b[1;32m   5090\u001b[0m \u001b[0;34m\u001b[0m\u001b[0m\n\u001b[1;32m   5091\u001b[0m         \u001b[0margsort\u001b[0m \u001b[0;34m=\u001b[0m \u001b[0mnp\u001b[0m\u001b[0;34m.\u001b[0m\u001b[0margsort\u001b[0m\u001b[0;34m(\u001b[0m\u001b[0mnew_mgr_locs\u001b[0m\u001b[0;34m)\u001b[0m\u001b[0;34m\u001b[0m\u001b[0m\n\u001b[0;32m-> 5092\u001b[0;31m         \u001b[0mnew_values\u001b[0m \u001b[0;34m=\u001b[0m \u001b[0mnew_values\u001b[0m\u001b[0;34m[\u001b[0m\u001b[0margsort\u001b[0m\u001b[0;34m]\u001b[0m\u001b[0;34m\u001b[0m\u001b[0m\n\u001b[0m\u001b[1;32m   5093\u001b[0m         \u001b[0mnew_mgr_locs\u001b[0m \u001b[0;34m=\u001b[0m \u001b[0mnew_mgr_locs\u001b[0m\u001b[0;34m[\u001b[0m\u001b[0margsort\u001b[0m\u001b[0;34m]\u001b[0m\u001b[0;34m\u001b[0m\u001b[0m\n\u001b[1;32m   5094\u001b[0m \u001b[0;34m\u001b[0m\u001b[0m\n",
      "\u001b[0;31mKeyboardInterrupt\u001b[0m: "
     ]
    }
   ],
   "source": [
    "cat_cols2 = []\n",
    "from tqdm import tqdm_notebook\n",
    "for i in tqdm_notebook(range(len(cat_cols))):\n",
    "    for j in range(i+1, len(cat_cols)):\n",
    "        col1 = cat_cols[i]\n",
    "        col2 = cat_cols[j]\n",
    "        col = col1 + '_' + col2\n",
    "        data[col] = data[col1].astype('str') + '_' + data[col2].astype('str')\n",
    "        cat_cols2.append(col)\n",
    "        df = pd.get_dummies(data[col])\n",
    "#         print(df.shape)\n",
    "        cols = [col+'_'+str(n) for n in range(data[col].nunique())]\n",
    "        df.columns = cols\n",
    "        df = df.reset_index(drop=True)\n",
    "        data_cat = pd.concat([data_cat, df], axis=1)\n",
    "data_cat = data_cat.reset_index(drop=True)"
   ]
  },
  {
   "cell_type": "code",
   "execution_count": 275,
   "metadata": {},
   "outputs": [],
   "source": [
    "#random seeds for stochastic parts of neural network \n",
    "np.random.seed(10)\n",
    "from tensorflow import set_random_seed\n",
    "set_random_seed(15)\n",
    "\n",
    "from keras.models import Model, Sequential\n",
    "from keras.layers import Input, Dense, Concatenate, Reshape, Dropout, Activation\n",
    "from keras.layers.embeddings import Embedding\n"
   ]
  },
  {
   "cell_type": "code",
   "execution_count": 269,
   "metadata": {},
   "outputs": [
    {
     "data": {
      "application/vnd.jupyter.widget-view+json": {
       "model_id": "e81e9b75643e449cb64f2f81ded93b86",
       "version_major": 2,
       "version_minor": 0
      },
      "text/plain": [
       "HBox(children=(IntProgress(value=0, max=116), HTML(value='')))"
      ]
     },
     "metadata": {},
     "output_type": "display_data"
    }
   ],
   "source": [
    "models = []\n",
    "for categorical_var in tqdm_notebook(cat_cols) :\n",
    "    model = Sequential()\n",
    "    no_of_unique_cat  = train[categorical_var].nunique()\n",
    "    embedding_size = min(np.ceil((no_of_unique_cat)/2), 50 )\n",
    "    embedding_size = int(embedding_size)\n",
    "    vocab  = no_of_unique_cat+1\n",
    "    model.add( Embedding(vocab ,embedding_size, input_length = 1 ))\n",
    "    model.add(Reshape(target_shape=(embedding_size,)))\n",
    "    models.append( model )"
   ]
  },
  {
   "cell_type": "code",
   "execution_count": 270,
   "metadata": {},
   "outputs": [
    {
     "data": {
      "text/plain": [
       "(313864, 13)"
      ]
     },
     "execution_count": 270,
     "metadata": {},
     "output_type": "execute_result"
    }
   ],
   "source": [
    "data_num.shape"
   ]
  },
  {
   "cell_type": "code",
   "execution_count": 337,
   "metadata": {},
   "outputs": [],
   "source": [
    "from keras.layers import Dense, Dropout, Embedding, Flatten, Input, merge, concatenate\n",
    "from keras.layers.normalization import BatchNormalization\n",
    "from keras.layers.advanced_activations import PReLU, ReLU\n",
    "from time import time\n",
    "import datetime\n",
    "from keras.models import Model\n",
    "from keras.optimizers import Adam\n",
    "\n",
    "def create_model():\n",
    "    inputs = []\n",
    "    flatten_layers = []\n",
    "    for e, c in enumerate(cat_cols):\n",
    "        input_c = Input(shape=(1, ), dtype='int32')\n",
    "        no_of_unique_cat  = train[categorical_var].nunique()\n",
    "        embedding_size = min(np.ceil((no_of_unique_cat)/2), 50 )\n",
    "        sz_c = int(embedding_size)\n",
    "        num_c  = no_of_unique_cat+1\n",
    "        \n",
    "        embed_c = Embedding(\n",
    "            num_c,\n",
    "            sz_c,\n",
    "            input_length=1\n",
    "        )(input_c)\n",
    "        embed_c = Dropout(0.1)(embed_c)\n",
    "        flatten_c = Flatten()(embed_c)\n",
    "\n",
    "        inputs.append(input_c)\n",
    "        flatten_layers.append(flatten_c)\n",
    "\n",
    "    input_num = Input(shape=(X_num_train.shape[1],), dtype='float32')\n",
    "    flatten_layers.append(input_num)\n",
    "    inputs.append(input_num)\n",
    "\n",
    "    # flatten = merge(flatten_layers, mode='concat')\n",
    "    flatten = concatenate(flatten_layers)\n",
    "    fc1 = Dense(512, init='he_normal')(flatten)\n",
    "    fc1 = ReLU()(fc1)\n",
    "    fc1 = BatchNormalization()(fc1)\n",
    "#     fc1 = Dropout(0.75)(fc1)\n",
    "    fc1 = Dropout(0.1)(fc1)\n",
    "\n",
    "    fc1 = Dense(64, init='he_normal')(fc1)\n",
    "    fc1 = ReLU()(fc1)\n",
    "    fc1 = BatchNormalization()(fc1)\n",
    "#     fc1 = Dropout(0.5)(fc1)\n",
    "    fc1 = Dropout(0.1)(fc1)\n",
    "    \n",
    "    fc1 = Dense(64, init='he_normal')(fc1)\n",
    "    fc1 = ReLU()(fc1)\n",
    "    fc1 = BatchNormalization()(fc1)\n",
    "#     fc1 = Dropout(0.5)(fc1)\n",
    "    fc1 = Dropout(0.1)(fc1)\n",
    "    \n",
    "    \n",
    "    fc1 = Dense(64, init='he_normal')(fc1)\n",
    "    fc1 = ReLU()(fc1)\n",
    "    fc1 = BatchNormalization()(fc1)\n",
    "#     fc1 = Dropout(0.5)(fc1)\n",
    "    fc1 = Dropout(0.1)(fc1)\n",
    "\n",
    "    outputs = Dense(1, init='he_normal', activation='linear')(fc1)\n",
    "\n",
    "    model = Model(input = inputs, output = outputs)\n",
    "    adam = Adam(lr=0.005, decay=1e-6, amsgrad=False)\n",
    "    model.compile(loss='mae', optimizer=adam, metrics=['mae'])\n",
    "    return model"
   ]
  },
  {
   "cell_type": "code",
   "execution_count": 317,
   "metadata": {},
   "outputs": [],
   "source": [
    "data2 = pd.DataFrame()"
   ]
  },
  {
   "cell_type": "code",
   "execution_count": 318,
   "metadata": {},
   "outputs": [
    {
     "name": "stdout",
     "output_type": "stream",
     "text": [
      "0 cat1\n",
      "1 cat2\n",
      "2 cat3\n",
      "3 cat4\n",
      "4 cat5\n",
      "5 cat6\n",
      "6 cat7\n",
      "7 cat8\n",
      "8 cat9\n",
      "9 cat10\n",
      "10 cat11\n",
      "11 cat12\n",
      "12 cat13\n",
      "13 cat14\n",
      "14 cat15\n",
      "15 cat16\n",
      "16 cat17\n",
      "17 cat18\n",
      "18 cat19\n",
      "19 cat20\n",
      "20 cat21\n",
      "21 cat22\n",
      "22 cat23\n",
      "23 cat24\n",
      "24 cat25\n",
      "25 cat26\n",
      "26 cat27\n",
      "27 cat28\n",
      "28 cat29\n",
      "29 cat30\n",
      "30 cat31\n",
      "31 cat32\n",
      "32 cat33\n",
      "33 cat34\n",
      "34 cat35\n",
      "35 cat36\n",
      "36 cat37\n",
      "37 cat38\n",
      "38 cat39\n",
      "39 cat40\n",
      "40 cat41\n",
      "41 cat42\n",
      "42 cat43\n",
      "43 cat44\n",
      "44 cat45\n",
      "45 cat46\n",
      "46 cat47\n",
      "47 cat48\n",
      "48 cat49\n",
      "49 cat50\n",
      "50 cat51\n",
      "51 cat52\n",
      "52 cat53\n",
      "53 cat54\n",
      "54 cat55\n",
      "55 cat56\n",
      "56 cat57\n",
      "57 cat58\n",
      "58 cat59\n",
      "59 cat60\n",
      "60 cat61\n",
      "61 cat62\n",
      "62 cat63\n",
      "63 cat64\n",
      "64 cat65\n",
      "65 cat66\n",
      "66 cat67\n",
      "67 cat68\n",
      "68 cat69\n",
      "69 cat70\n",
      "70 cat71\n",
      "71 cat72\n",
      "72 cat73\n",
      "73 cat74\n",
      "74 cat75\n",
      "75 cat76\n",
      "76 cat77\n",
      "77 cat78\n",
      "78 cat79\n",
      "79 cat80\n",
      "80 cat81\n",
      "81 cat82\n",
      "82 cat83\n",
      "83 cat84\n",
      "84 cat85\n",
      "85 cat86\n",
      "86 cat87\n",
      "87 cat88\n",
      "88 cat89\n",
      "89 cat90\n",
      "90 cat91\n",
      "91 cat92\n",
      "92 cat93\n",
      "93 cat94\n",
      "94 cat95\n",
      "95 cat96\n",
      "96 cat97\n",
      "97 cat98\n",
      "98 cat99\n",
      "99 cat100\n",
      "100 cat101\n",
      "101 cat102\n",
      "102 cat103\n",
      "103 cat104\n",
      "104 cat105\n",
      "105 cat106\n",
      "106 cat107\n",
      "107 cat108\n",
      "108 cat109\n",
      "109 cat110\n",
      "110 cat111\n",
      "111 cat112\n",
      "112 cat113\n",
      "113 cat114\n",
      "114 cat115\n",
      "115 cat116\n"
     ]
    }
   ],
   "source": [
    "from sklearn.preprocessing import LabelEncoder\n",
    "cols = data.columns\n",
    "max_col = {}\n",
    "for i, col in enumerate(cat_cols):\n",
    "    if col in num_cols:\n",
    "        continue\n",
    "    print(i, col)\n",
    "    le = LabelEncoder()\n",
    "    data2[col] = le.fit_transform(data[col])\n",
    "    max_col[col] = np.max(data2[col])"
   ]
  },
  {
   "cell_type": "code",
   "execution_count": 319,
   "metadata": {},
   "outputs": [],
   "source": [
    "data_cat2 = data2[cat_cols]\n",
    "data_num2 = data[num_cols]"
   ]
  },
  {
   "cell_type": "code",
   "execution_count": 343,
   "metadata": {},
   "outputs": [],
   "source": [
    "data_cat_train = data_cat2[:len(train)].values\n",
    "data_cat_test = data_cat2[len(train):].values\n",
    "\n",
    "data_num_train = data_num2[:len(train)].values\n",
    "data_num_test = data_num2[len(train):].values"
   ]
  },
  {
   "cell_type": "code",
   "execution_count": 321,
   "metadata": {},
   "outputs": [
    {
     "data": {
      "text/plain": [
       "(313864, 1987)"
      ]
     },
     "execution_count": 321,
     "metadata": {},
     "output_type": "execute_result"
    }
   ],
   "source": [
    "data_cat.shape"
   ]
  },
  {
   "cell_type": "code",
   "execution_count": 322,
   "metadata": {},
   "outputs": [],
   "source": [
    "X_cat_train, X_cat_val, X_num_train, X_num_val, Y_train, Y_val = train_test_split(data_cat_train, \n",
    "                                                                                  data_num_train, Y, test_size=0.2,\n",
    "                                                                                 random_state=123)"
   ]
  },
  {
   "cell_type": "code",
   "execution_count": 323,
   "metadata": {},
   "outputs": [],
   "source": [
    "xtr = X_num_train\n",
    "ytr = Y_train\n",
    "xte = X_num_val\n",
    "yte = Y_val\n",
    "\n",
    "xtr_cat = X_cat_train\n",
    "xte_cat = X_cat_val\n",
    "\n",
    "# get xtr xte cat\n",
    "xtr_cat_list, xte_cat_list = [], []\n",
    "for i in range(xtr_cat.shape[1]):\n",
    "    xtr_cat_list.append(xtr_cat[:, i].reshape(-1, 1))\n",
    "    xte_cat_list.append(xte_cat[:, i].reshape(-1, 1))\n",
    "\n",
    "xtr_cat_list.append(xtr)\n",
    "xte_cat_list.append(xte)\n"
   ]
  },
  {
   "cell_type": "code",
   "execution_count": 338,
   "metadata": {},
   "outputs": [
    {
     "name": "stderr",
     "output_type": "stream",
     "text": [
      "/home/watts/anaconda3/envs/itv/lib/python3.6/site-packages/ipykernel_launcher.py:36: UserWarning: Update your `Dense` call to the Keras 2 API: `Dense(512, kernel_initializer=\"he_normal\")`\n",
      "/home/watts/anaconda3/envs/itv/lib/python3.6/site-packages/ipykernel_launcher.py:42: UserWarning: Update your `Dense` call to the Keras 2 API: `Dense(64, kernel_initializer=\"he_normal\")`\n",
      "/home/watts/anaconda3/envs/itv/lib/python3.6/site-packages/ipykernel_launcher.py:48: UserWarning: Update your `Dense` call to the Keras 2 API: `Dense(64, kernel_initializer=\"he_normal\")`\n",
      "/home/watts/anaconda3/envs/itv/lib/python3.6/site-packages/ipykernel_launcher.py:55: UserWarning: Update your `Dense` call to the Keras 2 API: `Dense(64, kernel_initializer=\"he_normal\")`\n",
      "/home/watts/anaconda3/envs/itv/lib/python3.6/site-packages/ipykernel_launcher.py:61: UserWarning: Update your `Dense` call to the Keras 2 API: `Dense(1, activation=\"linear\", kernel_initializer=\"he_normal\")`\n",
      "/home/watts/anaconda3/envs/itv/lib/python3.6/site-packages/ipykernel_launcher.py:63: UserWarning: Update your `Model` call to the Keras 2 API: `Model(inputs=[<tf.Tenso..., outputs=Tensor(\"de...)`\n"
     ]
    }
   ],
   "source": [
    "model = create_model()"
   ]
  },
  {
   "cell_type": "code",
   "execution_count": 339,
   "metadata": {},
   "outputs": [
    {
     "name": "stdout",
     "output_type": "stream",
     "text": [
      "Train on 150654 samples, validate on 37664 samples\n",
      "Epoch 1/3\n",
      "150654/150654 [==============================] - 54s 357us/step - loss: 0.5862 - mean_absolute_error: 0.5862 - val_loss: 0.3195 - val_mean_absolute_error: 0.3195\n",
      "Epoch 2/3\n",
      "150654/150654 [==============================] - 34s 224us/step - loss: 0.2465 - mean_absolute_error: 0.2465 - val_loss: 0.2202 - val_mean_absolute_error: 0.2202\n",
      "Epoch 3/3\n",
      "150654/150654 [==============================] - 33s 218us/step - loss: 0.2281 - mean_absolute_error: 0.2281 - val_loss: 0.2393 - val_mean_absolute_error: 0.2393\n"
     ]
    },
    {
     "data": {
      "text/plain": [
       "<keras.callbacks.History at 0x7f678a6d8198>"
      ]
     },
     "execution_count": 339,
     "metadata": {},
     "output_type": "execute_result"
    }
   ],
   "source": [
    "\n",
    "epochs=3\n",
    "batch_size=512\n",
    "model.fit(xtr_cat_list, ytr, epochs=epochs, batch_size=batch_size, verbose=1, \n",
    "          validation_data=[xte_cat_list, yte])"
   ]
  },
  {
   "cell_type": "code",
   "execution_count": 340,
   "metadata": {},
   "outputs": [
    {
     "data": {
      "text/plain": [
       "((188318, 116), (188318, 14))"
      ]
     },
     "execution_count": 340,
     "metadata": {},
     "output_type": "execute_result"
    }
   ],
   "source": [
    "data_cat_test.shape, data_num_test.shape"
   ]
  },
  {
   "cell_type": "code",
   "execution_count": 344,
   "metadata": {},
   "outputs": [
    {
     "name": "stdout",
     "output_type": "stream",
     "text": [
      "125546/125546 [==============================] - 7s 55us/step\n"
     ]
    }
   ],
   "source": [
    "X_cat_test = data_cat_test\n",
    "X_num_test = data_num_test\n",
    "xte = X_num_test\n",
    "xte_cat = X_cat_test\n",
    "\n",
    "# get xte cat\n",
    "xte_cat_list2 = []\n",
    "for ii in range(xte_cat.shape[1]):\n",
    "    xte_cat_list2.append(xte_cat[:, ii].reshape(-1, 1))\n",
    "xte_cat_list2.append(xte)\n",
    "    \n",
    "pred = model.predict(x=xte_cat_list2, batch_size=batch_size, verbose=1)[:, 0]"
   ]
  },
  {
   "cell_type": "code",
   "execution_count": 345,
   "metadata": {},
   "outputs": [
    {
     "data": {
      "text/plain": [
       "(125546, 2)"
      ]
     },
     "execution_count": 345,
     "metadata": {},
     "output_type": "execute_result"
    }
   ],
   "source": [
    "submit.shape"
   ]
  },
  {
   "cell_type": "code",
   "execution_count": 346,
   "metadata": {},
   "outputs": [
    {
     "data": {
      "text/plain": [
       "array([2.9073465, 2.9839163, 4.227811 , ..., 3.3062973, 2.8340483,\n",
       "       3.513668 ], dtype=float32)"
      ]
     },
     "execution_count": 346,
     "metadata": {},
     "output_type": "execute_result"
    }
   ],
   "source": [
    "pred"
   ]
  },
  {
   "cell_type": "code",
   "execution_count": 347,
   "metadata": {},
   "outputs": [],
   "source": [
    "submit['loss'] = np.power(10, pred)\n",
    "submit.to_csv('../cache/sub2.csv', index=False)"
   ]
  },
  {
   "cell_type": "code",
   "execution_count": 348,
   "metadata": {},
   "outputs": [
    {
     "name": "stdout",
     "output_type": "stream",
     "text": [
      "100%|██████████████████████████████████████| 1.96M/1.96M [00:39<00:00, 47.0kB/s]\n",
      "Successfully submitted to Allstate Claims Severity"
     ]
    }
   ],
   "source": [
    "!kaggle competitions submit -c allstate-claims-severity -f ../cache/sub2.csv -m \"\""
   ]
  },
  {
   "cell_type": "code",
   "execution_count": 349,
   "metadata": {},
   "outputs": [
    {
     "name": "stdout",
     "output_type": "stream",
     "text": [
      "fileName                date                 description             status    publicScore  privateScore  \r\n",
      "----------------------  -------------------  ----------------------  --------  -----------  ------------  \r\n",
      "sub2.csv                2019-02-14 19:37:55  None                    complete  1386.95121   1407.35779    \r\n",
      "sub1.csv                2019-02-14 18:32:35  None                    complete  1153.95083   1166.49368    \r\n",
      "sub1.csv                2019-02-14 18:12:40  None                    complete  1154.75459   1165.58323    \r\n",
      "sub1.csv                2019-02-14 18:10:36  None                    complete  3016.37697   3028.37594    \r\n",
      "Sub_wt_m8_m6_k_en1.csv  2016-12-12 03:20:45  None                    complete  1101.84078   1113.83053    \r\n",
      "Sub_k_s1_en.csv         2016-12-12 03:14:54  None                    complete  1715.52011   1727.03891    \r\n",
      "Sub_m8_m6_k_s_en.csv    2016-12-11 20:04:10  None                    complete  1292.12043   1308.40822    \r\n",
      "Sub_m8_m6_k1_en.csv     2016-12-11 17:54:09  None                    complete  1101.67939   1114.17944    \r\n",
      "Sub_wt_m8_m6_k_en.csv   2016-12-11 10:51:35  None                    complete  1101.95253   1113.81303    \r\n",
      "Sub_m8_m7_k_en.csv      2016-12-10 20:02:01  m8 + m6 (actually) + k  complete  1101.43157   1113.70067    \r\n",
      "Sub_m6_m7_k_en.csv      2016-12-10 13:53:08  None                    complete  1102.97161   1114.78939    \r\n",
      "Sub_m6_m7_k_en.csv      2016-12-10 13:51:00  None                    complete  1268.52407   1285.24704    \r\n",
      "Sub_m4_m6_m7_k_en.csv   2016-12-10 11:57:29  None                    complete  1102.18810   1114.50561    \r\n",
      "Sub_m4_m6_k1_en.csv     2016-12-10 06:15:45  None                    complete  1101.76769   1114.18939    \r\n",
      "Sub_m4_m6_k_en.csv      2016-12-09 10:08:29  m4 + m6 +k              complete  1101.50850   1113.70413    \r\n",
      "Sub_m4_m5_12_k_en.csv   2016-12-08 20:37:02  None                    complete  1102.13129   1114.65179    \r\n",
      "Sub_m4_m5_k_en.csv      2016-12-08 20:34:20  m4 + m5 +k              complete  1101.90589   1114.30108    \r\n",
      "Sub_m4_k_en.csv         2016-12-08 03:41:04  None                    complete  1101.93161   1114.18778    \r\n",
      "Sub_m4_12_k_en.csv      2016-12-08 03:37:52  None                    complete  1101.83613   1114.27553    \r\n",
      "Sub_m4_12_k_en.csv      2016-12-08 03:36:15  m4 + script12 + k       complete  1576.77257   1582.32042    \r\n"
     ]
    }
   ],
   "source": [
    "!kaggle competitions submissions -c allstate-claims-severity"
   ]
  },
  {
   "cell_type": "code",
   "execution_count": null,
   "metadata": {},
   "outputs": [],
   "source": []
  }
 ],
 "metadata": {
  "kernelspec": {
   "display_name": "itv",
   "language": "python",
   "name": "itv"
  },
  "language_info": {
   "codemirror_mode": {
    "name": "ipython",
    "version": 3
   },
   "file_extension": ".py",
   "mimetype": "text/x-python",
   "name": "python",
   "nbconvert_exporter": "python",
   "pygments_lexer": "ipython3",
   "version": "3.6.3"
  }
 },
 "nbformat": 4,
 "nbformat_minor": 2
}
